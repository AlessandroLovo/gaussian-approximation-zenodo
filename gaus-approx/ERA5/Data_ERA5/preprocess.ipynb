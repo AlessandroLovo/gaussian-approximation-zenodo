{
 "cells": [
  {
   "cell_type": "markdown",
   "id": "381a7ec3-dbd3-41ff-a2fe-bf00c90c197e",
   "metadata": {},
   "source": [
    "# Preprocess ERA5 data\n",
    "\n",
    "In this notebook, we will preprocess the data downloaded from [ECMWF website](https://www.ecmwf.int/en/forecasts/dataset/ecmwf-reanalysis-v5)"
   ]
  },
  {
   "cell_type": "code",
   "execution_count": 1,
   "id": "3f24c896-b18a-445e-ab6e-9e7d12835bab",
   "metadata": {},
   "outputs": [],
   "source": [
    "import numpy as np\n",
    "import matplotlib\n",
    "import matplotlib.pyplot as plt\n",
    "%matplotlib widget\n",
    "matplotlib.rc('font', size=18)\n",
    "default_colors = plt.rcParams['axes.prop_cycle'].by_key()['color']\n",
    "\n",
    "import os\n",
    "import xarray as xr\n",
    "\n",
    "HOME = '../../'"
   ]
  },
  {
   "cell_type": "markdown",
   "id": "28855f63-1421-454f-9b89-4eeab7a287ba",
   "metadata": {
    "tags": []
   },
   "source": [
    "## Download the data\n",
    "\n",
    "Run the scripts `fetch_t2m.py`, `fetch_zg.py` and `fetch_lsm.py`. They may take a while\n"
   ]
  },
  {
   "cell_type": "markdown",
   "id": "efea431e-f31c-474e-9472-1684ad65aef4",
   "metadata": {
    "jupyter": {
     "source_hidden": true
    },
    "tags": []
   },
   "source": [
    "## Compute cell area"
   ]
  },
  {
   "cell_type": "code",
   "execution_count": null,
   "id": "82c9fccf-4a76-4b02-a0fc-fcba14579f9e",
   "metadata": {},
   "outputs": [],
   "source": [
    "raw_lsm = xr.open_dataset('raw/lsm.nc')\n",
    "raw_lsm"
   ]
  },
  {
   "cell_type": "code",
   "execution_count": null,
   "id": "150b5a22-2739-4dfe-9fc5-bd1cbf67a18d",
   "metadata": {},
   "outputs": [],
   "source": [
    "lsm = raw_lsm.lsm.isel(time=0,drop=True)\n",
    "lsm"
   ]
  },
  {
   "cell_type": "code",
   "execution_count": null,
   "id": "33f1a923-ae7d-4e0d-a0c3-b107e219f31a",
   "metadata": {},
   "outputs": [],
   "source": [
    "lsm.to_netcdf('land_sea_mask_fullres.nc')"
   ]
  },
  {
   "cell_type": "code",
   "execution_count": null,
   "id": "67771365-04bb-445f-93ba-6491a2ce5aa3",
   "metadata": {},
   "outputs": [],
   "source": [
    "R = 6.371e6 # Earth radius\n",
    "cell_area = xr.ones_like(lsm).rename('cell_area')\n",
    "\n",
    "dlon = cell_area.longitude.data[1] - cell_area.longitude.data[0]\n",
    "dlat = -cell_area.latitude.data[1] + cell_area.latitude.data[0]\n",
    "\n",
    "cell_area *= R**2*(np.pi/180)**2*dlon*dlat*np.maximum(np.cos(np.pi/180*cell_area.latitude),0)\n",
    "\n",
    "cell_area.attrs = {\n",
    "    'units': 'm**2',\n",
    "    'long_name': 'cell area',\n",
    "}\n",
    "\n",
    "cell_area"
   ]
  },
  {
   "cell_type": "code",
   "execution_count": null,
   "id": "850b286a-e297-4734-b877-29bf9409cc8d",
   "metadata": {},
   "outputs": [],
   "source": [
    "cell_area.to_netcdf('cell_area_fullres.nc')"
   ]
  },
  {
   "cell_type": "markdown",
   "id": "d7bd7f81-31a0-4e66-bfb4-751f0355ab0d",
   "metadata": {
    "jp-MarkdownHeadingCollapsed": true,
    "tags": []
   },
   "source": [
    "## Compute daily means\n",
    "\n",
    "Run the script `daily_mean.py`\n",
    "\n",
    "If you have storage space limitations, after computing the daily means you can delete the whole `raw` directory"
   ]
  },
  {
   "cell_type": "markdown",
   "id": "ee6f0082-9869-4626-8eb4-41c91fddd2ae",
   "metadata": {
    "jp-MarkdownHeadingCollapsed": true,
    "tags": []
   },
   "source": [
    "## Compute area integral over France of the temperature field"
   ]
  },
  {
   "cell_type": "code",
   "execution_count": null,
   "id": "dc7ee232-c5f2-457e-b1d0-57df69d0a4bb",
   "metadata": {},
   "outputs": [],
   "source": [
    "def standardize_dim_names(xa:xr.DataArray) -> xr.DataArray:\n",
    "    '''\n",
    "    Renames the coordinates of `xa` to oblige with standard:\n",
    "    longitude: 'lon'\n",
    "    latitude:  'lat'\n",
    "    time:      'time'\n",
    "\n",
    "    The renamed dataarray is then returned\n",
    "    '''\n",
    "    standard_names_to_variants = {\n",
    "        'lon': ['longitude', 'Longitude'],\n",
    "        'lat': ['latitude', 'Latitude'],\n",
    "        'time': ['Time', 't', 'T']\n",
    "    }\n",
    "    renamings = {}\n",
    "    for dim in xa.dims:\n",
    "        if dim in standard_names_to_variants:\n",
    "            continue\n",
    "        for standard_dim, variants in standard_names_to_variants.items():\n",
    "            if dim in variants:\n",
    "                renamings[dim] = standard_dim\n",
    "                break\n",
    "    if renamings:\n",
    "        xa = xa.rename(renamings)\n",
    "    return xa\n",
    "\n",
    "def is_above_line(da:xr.DataArray, lon1:float, lat1:float, lon2:float, lat2:float) -> xr.DataArray:\n",
    "    '''\n",
    "    returns a mask of the input object that is true north of a line in lon-lat space defined by two points.\n",
    "\n",
    "    By multiplying the output of this funcion over several evaluations you can define a polygonal mask\n",
    "\n",
    "    Parameters\n",
    "    ----------\n",
    "    da : xr.DataArray\n",
    "        input object with longitude and latitude dimensions\n",
    "    lon1 : float\n",
    "        longitude of the first point\n",
    "    lat1 : float\n",
    "        latitude of the first point\n",
    "    lon2 : float\n",
    "        longitude of the second point\n",
    "    lat2 : float\n",
    "        latitude of the second point\n",
    "\n",
    "    Returns\n",
    "    -------\n",
    "    xr.DataArray\n",
    "        the mask\n",
    "    '''\n",
    "    da = standardize_dim_names(da)\n",
    "    return da.lat - (lat1*(lon2 - da.lon) + lat2*(da.lon - lon1))/(lon2 - lon1) > 0\n",
    "\n",
    "def masked_average(xa:xr.DataArray,\n",
    "                   dim=None,\n",
    "                   weights:xr.DataArray=None,\n",
    "                   mask:xr.DataArray=None) -> xr.DataArray:\n",
    "    '''\n",
    "    Computes the average of `xa` over given dimensions `dim`, weighting with `weights` and masking with `mask`\n",
    "\n",
    "    Parameters\n",
    "    ----------\n",
    "    xa : xr.DataArray\n",
    "        data\n",
    "    dim : str or list of str, optional\n",
    "        dimensions over which to perform the average, by default None\n",
    "    weights : xr.DataArray, optional\n",
    "        weights for the average, for example the cell, by default None\n",
    "    mask : xr.DataArray, optional\n",
    "        True over the data to keep, False over the data to ignore, by default None\n",
    "\n",
    "    Returns\n",
    "    -------\n",
    "    xr.DataArray\n",
    "        masked and averaged array\n",
    "    '''\n",
    "    if weights is not None:\n",
    "        _weights = weights.copy()\n",
    "        if mask is not None:\n",
    "            _weights = _weights.where(mask, 0)\n",
    "    elif mask is not None:\n",
    "        _weights = xr.where(mask, 1, 0)\n",
    "    else: # mask = weights = None\n",
    "        return xa.mean(dim=dim)\n",
    "\n",
    "    _weights /= _weights.sum(dim=dim) # normalize weights\n",
    "    _xa = xa*_weights\n",
    "    return _xa.sum(dim=dim)"
   ]
  },
  {
   "cell_type": "markdown",
   "id": "f7e85384-9f5c-48ee-9726-54255df4facc",
   "metadata": {},
   "source": [
    "### Load data"
   ]
  },
  {
   "cell_type": "code",
   "execution_count": null,
   "id": "52c7c43e-c200-4fc5-92ef-91f51f5f5df5",
   "metadata": {},
   "outputs": [],
   "source": [
    "t2m = xr.open_dataarray('t2m_MJJA_fullres.nc')\n",
    "t2m = standardize_dim_names(t2m)\n",
    "t2m"
   ]
  },
  {
   "cell_type": "code",
   "execution_count": null,
   "id": "1be4892e-4f29-490f-9916-6b138e99dc3b",
   "metadata": {},
   "outputs": [],
   "source": [
    "# land-sea mask\n",
    "lsm = xr.open_dataarray('land_sea_mask_fullres.nc')\n",
    "lsm = standardize_dim_names(lsm)\n",
    "lsm = lsm.sel(lat=t2m.lat, lon=t2m.lon)\n",
    "lsm = (lsm > 0.5).astype(lsm.dtype) # make it binary\n",
    "lsm"
   ]
  },
  {
   "cell_type": "code",
   "execution_count": null,
   "id": "4a230618-7900-45fb-a85e-3a0e836a988c",
   "metadata": {},
   "outputs": [],
   "source": [
    "cell_area = xr.open_dataarray('cell_area_fullres.nc')\n",
    "cell_area = standardize_dim_names(cell_area)\n",
    "cell_area = cell_area.sel(lat=t2m.lat, lon=t2m.lon)\n",
    "cell_area"
   ]
  },
  {
   "cell_type": "markdown",
   "id": "0947dea3-3718-4c64-98e1-edc0718aa0a8",
   "metadata": {},
   "source": [
    "### Compute mask for France"
   ]
  },
  {
   "cell_type": "code",
   "execution_count": null,
   "id": "0878bd90-de9b-4486-afd4-c1e14b1e32af",
   "metadata": {},
   "outputs": [],
   "source": [
    "_mask = lsm > 0.5 # make it bool\n",
    "\n",
    "newlon = _mask.lon.data % 360 # first make sure longitude is in [0,360]\n",
    "newlon = newlon - 360*(newlon >= 180) # then put it in [-180,180]\n",
    "mask = xr.DataArray(_mask.data, coords={'lat':_mask.lat, 'lon':newlon})\n",
    "\n",
    "mask *= (mask.lat < 52)*(mask.lat > 42)*(mask.lon > -5)*(mask.lon < 8.3) # identify the rough region\n",
    "# cut the edges\n",
    "mask *= ~is_above_line(mask, 1.65, 51, -4.5, 49.2)\n",
    "mask *= is_above_line(mask, -1.86, 43.34, 3.4, 42.2)\n",
    "mask *= ~is_above_line(mask, 2.26, 51.2, 8.27, 49)\n",
    "mask *= is_above_line(mask, 8.1, 48.8, 6, 43)\n",
    "\n",
    "# restore the original longitude\n",
    "mask = xr.DataArray(mask.data, coords={'lat':mask.lat, 'lon':_mask.lon})\n",
    "mask"
   ]
  },
  {
   "cell_type": "markdown",
   "id": "f0d2fb52-81fd-4e1c-978e-128a39c5875c",
   "metadata": {},
   "source": [
    "### Compute area integral"
   ]
  },
  {
   "cell_type": "code",
   "execution_count": null,
   "id": "d9b7d3ea-ffc0-4465-b7db-b7de39d69830",
   "metadata": {},
   "outputs": [],
   "source": [
    "## this cell takes a while\n",
    "\n",
    "# area integral\n",
    "ai = masked_average(t2m,\n",
    "                    dim=['lat', 'lon'],\n",
    "                    weights=lsm*cell_area, # land area weights\n",
    "                    mask=mask # mask over France\n",
    "                   )\n",
    "ai"
   ]
  },
  {
   "cell_type": "code",
   "execution_count": null,
   "id": "3a99e524-b97a-4167-867a-a60383bc00e1",
   "metadata": {},
   "outputs": [],
   "source": [
    "ai = ai.convert_calendar('noleap') # fix the calendar\n",
    "ai.attrs = {'units': 'K', 'long_name': '2 metre temperature'}\n",
    "ai.name = 't2m'\n",
    "ai"
   ]
  },
  {
   "cell_type": "code",
   "execution_count": null,
   "id": "ee68be8d-c8e1-411b-8fea-5c1557dce39e",
   "metadata": {},
   "outputs": [],
   "source": [
    "ai.to_netcdf('t2m_MJJA_France.nc')"
   ]
  },
  {
   "cell_type": "markdown",
   "id": "7fcb4e1b-0aa9-4de1-903a-1770c4a2f35e",
   "metadata": {
    "jp-MarkdownHeadingCollapsed": true,
    "tags": []
   },
   "source": [
    "## Figure S1 + Temperature detrended file"
   ]
  },
  {
   "cell_type": "markdown",
   "id": "5dcf9960-3ec3-4c31-80c9-1a302a839bfc",
   "metadata": {},
   "source": [
    "### Compute anomaly"
   ]
  },
  {
   "cell_type": "code",
   "execution_count": null,
   "id": "a92cf7d5-df57-4ec9-ac47-24dcef8ff08a",
   "metadata": {},
   "outputs": [],
   "source": [
    "ai_full = xr.open_dataarray('t2m_MJJA_France.nc')"
   ]
  },
  {
   "cell_type": "code",
   "execution_count": null,
   "id": "900615df-6524-467a-9320-cc3d7eed7bb7",
   "metadata": {},
   "outputs": [],
   "source": [
    "# compute climatology for each day of the year\n",
    "y = t2m.time.dt.year.data\n",
    "years = y[-1] - y[0] + 1\n",
    "_data = ai_full.data.reshape((years, -1))\n",
    "clim = _data.mean(axis=0)\n",
    "\n",
    "ano = (_data - clim).reshape((-1))\n",
    "\n",
    "ai = ai_full.copy(deep=True)\n",
    "ai.data = ano\n",
    "\n",
    "ai"
   ]
  },
  {
   "cell_type": "markdown",
   "id": "3360bb76-0d98-4c89-af63-1ddd762eda6e",
   "metadata": {},
   "source": [
    "### Compute quadratic trend"
   ]
  },
  {
   "cell_type": "code",
   "execution_count": null,
   "id": "3989c22c-10ef-4130-a9bc-e1c14f946bd8",
   "metadata": {},
   "outputs": [],
   "source": [
    "ai_seasonal = ai.groupby(ai.time.dt.year).mean()\n",
    "ai_seasonal"
   ]
  },
  {
   "cell_type": "code",
   "execution_count": null,
   "id": "c92839b4-6e82-49cc-9bd8-53e0e77f7daf",
   "metadata": {},
   "outputs": [],
   "source": [
    "y = ai.time.dt.year.data\n",
    "years = y[-1] - y[0] + 1\n",
    "\n",
    "b = ai.time.dt.dayofyear.data\n",
    "days = b[-1] - b[0] + 1\n",
    "\n",
    "years, days"
   ]
  },
  {
   "cell_type": "code",
   "execution_count": null,
   "id": "9fe90ab9-b1ae-4caa-8a26-d7ac1beb1708",
   "metadata": {},
   "outputs": [],
   "source": [
    "y = 1940 + np.arange(years)\n",
    "v = ai_seasonal.data\n",
    "\n",
    "assert y.shape == v.shape\n",
    "\n",
    "p = np.poly1d(np.polyfit(y, v, 2))\n",
    "p"
   ]
  },
  {
   "cell_type": "code",
   "execution_count": null,
   "id": "1f54fe10-cb67-4f41-bd0a-c229ba050418",
   "metadata": {},
   "outputs": [],
   "source": [
    "plt.close(1)\n",
    "fig,ax = plt.subplots(figsize=(9,6), num=1)\n",
    "v_trend = p(y)\n",
    "\n",
    "plt.plot(y,v)\n",
    "plt.plot(y,v_trend)\n",
    "\n",
    "# plt.xticks( np.arange(0,years,10),np.arange(y[0],y[-1],10),fontsize = 14, rotation = 340)\n",
    "# plt.yticks(fontsize=14)\n",
    "plt.ylabel('Seasonal $T_{2m}$ anomaly')\n",
    "\n",
    "fig.tight_layout()\n",
    "\n",
    "# plt.savefig(f'{HOME}/t2m_France.pdf')"
   ]
  },
  {
   "cell_type": "markdown",
   "id": "02ac2203-b7eb-42c0-a698-51fa3b1807f9",
   "metadata": {},
   "source": [
    "### Remove trend"
   ]
  },
  {
   "cell_type": "code",
   "execution_count": null,
   "id": "0197a9be-78a2-4607-9509-5237dc278a4b",
   "metadata": {},
   "outputs": [],
   "source": [
    "ANO_ai = ai.copy(deep=True)\n",
    "_data = ANO_ai.data.reshape((years, days))\n",
    "_data.shape, v_trend.shape"
   ]
  },
  {
   "cell_type": "code",
   "execution_count": null,
   "id": "d618d8c3-877a-48dd-8bea-3a038a64ffe6",
   "metadata": {},
   "outputs": [],
   "source": [
    "_data = (_data.T - v_trend).T\n",
    "ANO_ai.data = _data.reshape(-1)\n",
    "ANO_ai"
   ]
  },
  {
   "cell_type": "code",
   "execution_count": null,
   "id": "77ac797c-578f-4a13-b0de-8077237d2c47",
   "metadata": {},
   "outputs": [],
   "source": [
    "ANO_ai.to_netcdf('ANO_t2m_France.nc')"
   ]
  },
  {
   "cell_type": "code",
   "execution_count": null,
   "id": "4b78eeb2-780e-4228-9146-f90d57bb754c",
   "metadata": {},
   "outputs": [],
   "source": [
    "plt.figure()\n",
    "ai.plot()\n",
    "ANO_ai.plot()"
   ]
  },
  {
   "cell_type": "markdown",
   "id": "c6dc7abb-4c92-48fb-9c1f-43c7be634302",
   "metadata": {
    "jp-MarkdownHeadingCollapsed": true,
    "tags": []
   },
   "source": [
    "## Figure S2 + Geopotential height detrended file"
   ]
  },
  {
   "cell_type": "markdown",
   "id": "b708dbef-c6c3-47af-8884-dc67ba28e13b",
   "metadata": {},
   "source": [
    "### Regrid to the PlaSim grid"
   ]
  },
  {
   "cell_type": "code",
   "execution_count": null,
   "id": "2d40218c-384b-4f14-aa76-7d5c3929a706",
   "metadata": {},
   "outputs": [],
   "source": [
    "## Copy cell area and land sea mask with PlaSim resolution\n",
    "os.system('cp ../../land_sea_mask.nc .')\n",
    "os.system('cp ../../cell_area.nc .')"
   ]
  },
  {
   "cell_type": "code",
   "execution_count": null,
   "id": "87cdf9c8-bf6b-4d12-9c8a-73f034db039f",
   "metadata": {},
   "outputs": [],
   "source": [
    "import xesmf as xe"
   ]
  },
  {
   "cell_type": "code",
   "execution_count": null,
   "id": "c9ed8d3e-59b3-422c-b54e-d4483a97e026",
   "metadata": {},
   "outputs": [],
   "source": [
    "zg_fullres = xr.open_dataarray('zg_MJJA_fullres.nc')\n",
    "zg_fullres"
   ]
  },
  {
   "cell_type": "code",
   "execution_count": null,
   "id": "e13f1571-5bd5-4db8-80cb-04ace615a04a",
   "metadata": {},
   "outputs": [],
   "source": [
    "plasim_lon = np.sort(np.load('../../lon.npy'))\n",
    "plasim_lat = np.load('../../lat.npy')\n",
    "\n",
    "plasim_lon, plasim_lat"
   ]
  },
  {
   "cell_type": "code",
   "execution_count": null,
   "id": "48bde4ea-05d5-4c74-9edb-6f6507a893e2",
   "metadata": {},
   "outputs": [],
   "source": [
    "zg_regrid= xr.Dataset(\n",
    "    {\n",
    "        \"latitude\": ([\"latitude\"], plasim_lat),\n",
    "        \"longitude\": ([\"longitude\"], plasim_lon),\n",
    "    }\n",
    ")\n",
    "\n",
    "regridder = xe.Regridder(zg_fullres,zg_regrid, \"bilinear\")\n",
    "regridder"
   ]
  },
  {
   "cell_type": "code",
   "execution_count": null,
   "id": "6b96694e-c958-4fcc-851b-ef3b586da561",
   "metadata": {},
   "outputs": [],
   "source": [
    "## This cell takes a while\n",
    "zg_regrid = regridder(zg_fullres)\n",
    "zg_regrid"
   ]
  },
  {
   "cell_type": "code",
   "execution_count": null,
   "id": "8fb1f511-923a-43a3-b116-521cae6f2d7e",
   "metadata": {},
   "outputs": [],
   "source": [
    "zg_regrid /= 9.81 # geopotential to geopotential height\n",
    "zg_regrid = zg_regrid.convert_calendar('noleap') # get rid of leap years: this makes dayofyear uniform across all years\n",
    "zg_regrid.name = 'z'\n",
    "zg_regrid.attrs = {\n",
    "    'units': 'm',\n",
    "    'long_name': 'Geopotential height'\n",
    "}\n",
    "zg_regrid"
   ]
  },
  {
   "cell_type": "code",
   "execution_count": null,
   "id": "6a0d0838-cf70-4cce-b082-f3e5faa7368c",
   "metadata": {},
   "outputs": [],
   "source": [
    "zg_regrid.to_netcdf('zg500.nc')"
   ]
  },
  {
   "cell_type": "markdown",
   "id": "ba79340b-58fe-4dd6-8d70-a93e0352d88d",
   "metadata": {},
   "source": [
    "### Detrend"
   ]
  },
  {
   "cell_type": "markdown",
   "id": "f8b3be84-16e2-4aa7-a114-77b47b6f92aa",
   "metadata": {},
   "source": [
    "#### Compute anomalies"
   ]
  },
  {
   "cell_type": "code",
   "execution_count": 4,
   "id": "93b19d8e-c9e2-438d-a510-9a4b5b7a298d",
   "metadata": {},
   "outputs": [
    {
     "data": {
      "text/html": [
       "<div><svg style=\"position: absolute; width: 0; height: 0; overflow: hidden\">\n",
       "<defs>\n",
       "<symbol id=\"icon-database\" viewBox=\"0 0 32 32\">\n",
       "<path d=\"M16 0c-8.837 0-16 2.239-16 5v4c0 2.761 7.163 5 16 5s16-2.239 16-5v-4c0-2.761-7.163-5-16-5z\"></path>\n",
       "<path d=\"M16 17c-8.837 0-16-2.239-16-5v6c0 2.761 7.163 5 16 5s16-2.239 16-5v-6c0 2.761-7.163 5-16 5z\"></path>\n",
       "<path d=\"M16 26c-8.837 0-16-2.239-16-5v6c0 2.761 7.163 5 16 5s16-2.239 16-5v-6c0 2.761-7.163 5-16 5z\"></path>\n",
       "</symbol>\n",
       "<symbol id=\"icon-file-text2\" viewBox=\"0 0 32 32\">\n",
       "<path d=\"M28.681 7.159c-0.694-0.947-1.662-2.053-2.724-3.116s-2.169-2.030-3.116-2.724c-1.612-1.182-2.393-1.319-2.841-1.319h-15.5c-1.378 0-2.5 1.121-2.5 2.5v27c0 1.378 1.122 2.5 2.5 2.5h23c1.378 0 2.5-1.122 2.5-2.5v-19.5c0-0.448-0.137-1.23-1.319-2.841zM24.543 5.457c0.959 0.959 1.712 1.825 2.268 2.543h-4.811v-4.811c0.718 0.556 1.584 1.309 2.543 2.268zM28 29.5c0 0.271-0.229 0.5-0.5 0.5h-23c-0.271 0-0.5-0.229-0.5-0.5v-27c0-0.271 0.229-0.5 0.5-0.5 0 0 15.499-0 15.5 0v7c0 0.552 0.448 1 1 1h7v19.5z\"></path>\n",
       "<path d=\"M23 26h-14c-0.552 0-1-0.448-1-1s0.448-1 1-1h14c0.552 0 1 0.448 1 1s-0.448 1-1 1z\"></path>\n",
       "<path d=\"M23 22h-14c-0.552 0-1-0.448-1-1s0.448-1 1-1h14c0.552 0 1 0.448 1 1s-0.448 1-1 1z\"></path>\n",
       "<path d=\"M23 18h-14c-0.552 0-1-0.448-1-1s0.448-1 1-1h14c0.552 0 1 0.448 1 1s-0.448 1-1 1z\"></path>\n",
       "</symbol>\n",
       "</defs>\n",
       "</svg>\n",
       "<style>/* CSS stylesheet for displaying xarray objects in jupyterlab.\n",
       " *\n",
       " */\n",
       "\n",
       ":root {\n",
       "  --xr-font-color0: var(--jp-content-font-color0, rgba(0, 0, 0, 1));\n",
       "  --xr-font-color2: var(--jp-content-font-color2, rgba(0, 0, 0, 0.54));\n",
       "  --xr-font-color3: var(--jp-content-font-color3, rgba(0, 0, 0, 0.38));\n",
       "  --xr-border-color: var(--jp-border-color2, #e0e0e0);\n",
       "  --xr-disabled-color: var(--jp-layout-color3, #bdbdbd);\n",
       "  --xr-background-color: var(--jp-layout-color0, white);\n",
       "  --xr-background-color-row-even: var(--jp-layout-color1, white);\n",
       "  --xr-background-color-row-odd: var(--jp-layout-color2, #eeeeee);\n",
       "}\n",
       "\n",
       "html[theme=dark],\n",
       "body[data-theme=dark],\n",
       "body.vscode-dark {\n",
       "  --xr-font-color0: rgba(255, 255, 255, 1);\n",
       "  --xr-font-color2: rgba(255, 255, 255, 0.54);\n",
       "  --xr-font-color3: rgba(255, 255, 255, 0.38);\n",
       "  --xr-border-color: #1F1F1F;\n",
       "  --xr-disabled-color: #515151;\n",
       "  --xr-background-color: #111111;\n",
       "  --xr-background-color-row-even: #111111;\n",
       "  --xr-background-color-row-odd: #313131;\n",
       "}\n",
       "\n",
       ".xr-wrap {\n",
       "  display: block !important;\n",
       "  min-width: 300px;\n",
       "  max-width: 700px;\n",
       "}\n",
       "\n",
       ".xr-text-repr-fallback {\n",
       "  /* fallback to plain text repr when CSS is not injected (untrusted notebook) */\n",
       "  display: none;\n",
       "}\n",
       "\n",
       ".xr-header {\n",
       "  padding-top: 6px;\n",
       "  padding-bottom: 6px;\n",
       "  margin-bottom: 4px;\n",
       "  border-bottom: solid 1px var(--xr-border-color);\n",
       "}\n",
       "\n",
       ".xr-header > div,\n",
       ".xr-header > ul {\n",
       "  display: inline;\n",
       "  margin-top: 0;\n",
       "  margin-bottom: 0;\n",
       "}\n",
       "\n",
       ".xr-obj-type,\n",
       ".xr-array-name {\n",
       "  margin-left: 2px;\n",
       "  margin-right: 10px;\n",
       "}\n",
       "\n",
       ".xr-obj-type {\n",
       "  color: var(--xr-font-color2);\n",
       "}\n",
       "\n",
       ".xr-sections {\n",
       "  padding-left: 0 !important;\n",
       "  display: grid;\n",
       "  grid-template-columns: 150px auto auto 1fr 20px 20px;\n",
       "}\n",
       "\n",
       ".xr-section-item {\n",
       "  display: contents;\n",
       "}\n",
       "\n",
       ".xr-section-item input {\n",
       "  display: none;\n",
       "}\n",
       "\n",
       ".xr-section-item input + label {\n",
       "  color: var(--xr-disabled-color);\n",
       "}\n",
       "\n",
       ".xr-section-item input:enabled + label {\n",
       "  cursor: pointer;\n",
       "  color: var(--xr-font-color2);\n",
       "}\n",
       "\n",
       ".xr-section-item input:enabled + label:hover {\n",
       "  color: var(--xr-font-color0);\n",
       "}\n",
       "\n",
       ".xr-section-summary {\n",
       "  grid-column: 1;\n",
       "  color: var(--xr-font-color2);\n",
       "  font-weight: 500;\n",
       "}\n",
       "\n",
       ".xr-section-summary > span {\n",
       "  display: inline-block;\n",
       "  padding-left: 0.5em;\n",
       "}\n",
       "\n",
       ".xr-section-summary-in:disabled + label {\n",
       "  color: var(--xr-font-color2);\n",
       "}\n",
       "\n",
       ".xr-section-summary-in + label:before {\n",
       "  display: inline-block;\n",
       "  content: '►';\n",
       "  font-size: 11px;\n",
       "  width: 15px;\n",
       "  text-align: center;\n",
       "}\n",
       "\n",
       ".xr-section-summary-in:disabled + label:before {\n",
       "  color: var(--xr-disabled-color);\n",
       "}\n",
       "\n",
       ".xr-section-summary-in:checked + label:before {\n",
       "  content: '▼';\n",
       "}\n",
       "\n",
       ".xr-section-summary-in:checked + label > span {\n",
       "  display: none;\n",
       "}\n",
       "\n",
       ".xr-section-summary,\n",
       ".xr-section-inline-details {\n",
       "  padding-top: 4px;\n",
       "  padding-bottom: 4px;\n",
       "}\n",
       "\n",
       ".xr-section-inline-details {\n",
       "  grid-column: 2 / -1;\n",
       "}\n",
       "\n",
       ".xr-section-details {\n",
       "  display: none;\n",
       "  grid-column: 1 / -1;\n",
       "  margin-bottom: 5px;\n",
       "}\n",
       "\n",
       ".xr-section-summary-in:checked ~ .xr-section-details {\n",
       "  display: contents;\n",
       "}\n",
       "\n",
       ".xr-array-wrap {\n",
       "  grid-column: 1 / -1;\n",
       "  display: grid;\n",
       "  grid-template-columns: 20px auto;\n",
       "}\n",
       "\n",
       ".xr-array-wrap > label {\n",
       "  grid-column: 1;\n",
       "  vertical-align: top;\n",
       "}\n",
       "\n",
       ".xr-preview {\n",
       "  color: var(--xr-font-color3);\n",
       "}\n",
       "\n",
       ".xr-array-preview,\n",
       ".xr-array-data {\n",
       "  padding: 0 5px !important;\n",
       "  grid-column: 2;\n",
       "}\n",
       "\n",
       ".xr-array-data,\n",
       ".xr-array-in:checked ~ .xr-array-preview {\n",
       "  display: none;\n",
       "}\n",
       "\n",
       ".xr-array-in:checked ~ .xr-array-data,\n",
       ".xr-array-preview {\n",
       "  display: inline-block;\n",
       "}\n",
       "\n",
       ".xr-dim-list {\n",
       "  display: inline-block !important;\n",
       "  list-style: none;\n",
       "  padding: 0 !important;\n",
       "  margin: 0;\n",
       "}\n",
       "\n",
       ".xr-dim-list li {\n",
       "  display: inline-block;\n",
       "  padding: 0;\n",
       "  margin: 0;\n",
       "}\n",
       "\n",
       ".xr-dim-list:before {\n",
       "  content: '(';\n",
       "}\n",
       "\n",
       ".xr-dim-list:after {\n",
       "  content: ')';\n",
       "}\n",
       "\n",
       ".xr-dim-list li:not(:last-child):after {\n",
       "  content: ',';\n",
       "  padding-right: 5px;\n",
       "}\n",
       "\n",
       ".xr-has-index {\n",
       "  font-weight: bold;\n",
       "}\n",
       "\n",
       ".xr-var-list,\n",
       ".xr-var-item {\n",
       "  display: contents;\n",
       "}\n",
       "\n",
       ".xr-var-item > div,\n",
       ".xr-var-item label,\n",
       ".xr-var-item > .xr-var-name span {\n",
       "  background-color: var(--xr-background-color-row-even);\n",
       "  margin-bottom: 0;\n",
       "}\n",
       "\n",
       ".xr-var-item > .xr-var-name:hover span {\n",
       "  padding-right: 5px;\n",
       "}\n",
       "\n",
       ".xr-var-list > li:nth-child(odd) > div,\n",
       ".xr-var-list > li:nth-child(odd) > label,\n",
       ".xr-var-list > li:nth-child(odd) > .xr-var-name span {\n",
       "  background-color: var(--xr-background-color-row-odd);\n",
       "}\n",
       "\n",
       ".xr-var-name {\n",
       "  grid-column: 1;\n",
       "}\n",
       "\n",
       ".xr-var-dims {\n",
       "  grid-column: 2;\n",
       "}\n",
       "\n",
       ".xr-var-dtype {\n",
       "  grid-column: 3;\n",
       "  text-align: right;\n",
       "  color: var(--xr-font-color2);\n",
       "}\n",
       "\n",
       ".xr-var-preview {\n",
       "  grid-column: 4;\n",
       "}\n",
       "\n",
       ".xr-index-preview {\n",
       "  grid-column: 2 / 5;\n",
       "  color: var(--xr-font-color2);\n",
       "}\n",
       "\n",
       ".xr-var-name,\n",
       ".xr-var-dims,\n",
       ".xr-var-dtype,\n",
       ".xr-preview,\n",
       ".xr-attrs dt {\n",
       "  white-space: nowrap;\n",
       "  overflow: hidden;\n",
       "  text-overflow: ellipsis;\n",
       "  padding-right: 10px;\n",
       "}\n",
       "\n",
       ".xr-var-name:hover,\n",
       ".xr-var-dims:hover,\n",
       ".xr-var-dtype:hover,\n",
       ".xr-attrs dt:hover {\n",
       "  overflow: visible;\n",
       "  width: auto;\n",
       "  z-index: 1;\n",
       "}\n",
       "\n",
       ".xr-var-attrs,\n",
       ".xr-var-data,\n",
       ".xr-index-data {\n",
       "  display: none;\n",
       "  background-color: var(--xr-background-color) !important;\n",
       "  padding-bottom: 5px !important;\n",
       "}\n",
       "\n",
       ".xr-var-attrs-in:checked ~ .xr-var-attrs,\n",
       ".xr-var-data-in:checked ~ .xr-var-data,\n",
       ".xr-index-data-in:checked ~ .xr-index-data {\n",
       "  display: block;\n",
       "}\n",
       "\n",
       ".xr-var-data > table {\n",
       "  float: right;\n",
       "}\n",
       "\n",
       ".xr-var-name span,\n",
       ".xr-var-data,\n",
       ".xr-index-name div,\n",
       ".xr-index-data,\n",
       ".xr-attrs {\n",
       "  padding-left: 25px !important;\n",
       "}\n",
       "\n",
       ".xr-attrs,\n",
       ".xr-var-attrs,\n",
       ".xr-var-data,\n",
       ".xr-index-data {\n",
       "  grid-column: 1 / -1;\n",
       "}\n",
       "\n",
       "dl.xr-attrs {\n",
       "  padding: 0;\n",
       "  margin: 0;\n",
       "  display: grid;\n",
       "  grid-template-columns: 125px auto;\n",
       "}\n",
       "\n",
       ".xr-attrs dt,\n",
       ".xr-attrs dd {\n",
       "  padding: 0;\n",
       "  margin: 0;\n",
       "  float: left;\n",
       "  padding-right: 10px;\n",
       "  width: auto;\n",
       "}\n",
       "\n",
       ".xr-attrs dt {\n",
       "  font-weight: normal;\n",
       "  grid-column: 1;\n",
       "}\n",
       "\n",
       ".xr-attrs dt:hover span {\n",
       "  display: inline-block;\n",
       "  background: var(--xr-background-color);\n",
       "  padding-right: 10px;\n",
       "}\n",
       "\n",
       ".xr-attrs dd {\n",
       "  grid-column: 2;\n",
       "  white-space: pre-wrap;\n",
       "  word-break: break-all;\n",
       "}\n",
       "\n",
       ".xr-icon-database,\n",
       ".xr-icon-file-text2,\n",
       ".xr-no-icon {\n",
       "  display: inline-block;\n",
       "  vertical-align: middle;\n",
       "  width: 1em;\n",
       "  height: 1.5em !important;\n",
       "  stroke-width: 0;\n",
       "  stroke: currentColor;\n",
       "  fill: currentColor;\n",
       "}\n",
       "</style><pre class='xr-text-repr-fallback'>&lt;xarray.DataArray &#x27;z&#x27; (time: 10209, latitude: 361, longitude: 1440)&gt;\n",
       "[5307046560 values with dtype=float32]\n",
       "Coordinates:\n",
       "  * longitude  (longitude) float32 -180.0 -179.8 -179.5 ... 179.2 179.5 179.8\n",
       "  * latitude   (latitude) float32 90.0 89.75 89.5 89.25 ... 0.75 0.5 0.25 0.0\n",
       "  * time       (time) datetime64[ns] 1940-05-01T10:30:00 ... 2022-08-31T10:30:00\n",
       "Attributes:\n",
       "    units:          m**2 s**-2\n",
       "    long_name:      Geopotential\n",
       "    standard_name:  geopotential</pre><div class='xr-wrap' style='display:none'><div class='xr-header'><div class='xr-obj-type'>xarray.DataArray</div><div class='xr-array-name'>'z'</div><ul class='xr-dim-list'><li><span class='xr-has-index'>time</span>: 10209</li><li><span class='xr-has-index'>latitude</span>: 361</li><li><span class='xr-has-index'>longitude</span>: 1440</li></ul></div><ul class='xr-sections'><li class='xr-section-item'><div class='xr-array-wrap'><input id='section-d754c8be-453b-4b4e-96f1-e9b9c519ea8d' class='xr-array-in' type='checkbox' checked><label for='section-d754c8be-453b-4b4e-96f1-e9b9c519ea8d' title='Show/hide data repr'><svg class='icon xr-icon-database'><use xlink:href='#icon-database'></use></svg></label><div class='xr-array-preview xr-preview'><span>...</span></div><div class='xr-array-data'><pre>[5307046560 values with dtype=float32]</pre></div></div></li><li class='xr-section-item'><input id='section-3a3456ab-f1de-4b0a-8c50-d723124e38dd' class='xr-section-summary-in' type='checkbox'  checked><label for='section-3a3456ab-f1de-4b0a-8c50-d723124e38dd' class='xr-section-summary' >Coordinates: <span>(3)</span></label><div class='xr-section-inline-details'></div><div class='xr-section-details'><ul class='xr-var-list'><li class='xr-var-item'><div class='xr-var-name'><span class='xr-has-index'>longitude</span></div><div class='xr-var-dims'>(longitude)</div><div class='xr-var-dtype'>float32</div><div class='xr-var-preview xr-preview'>-180.0 -179.8 ... 179.5 179.8</div><input id='attrs-1dd9b913-924f-4d6a-ba90-592238a31345' class='xr-var-attrs-in' type='checkbox' ><label for='attrs-1dd9b913-924f-4d6a-ba90-592238a31345' title='Show/Hide attributes'><svg class='icon xr-icon-file-text2'><use xlink:href='#icon-file-text2'></use></svg></label><input id='data-44b8de12-6122-4fe3-a7b5-faaec17bba41' class='xr-var-data-in' type='checkbox'><label for='data-44b8de12-6122-4fe3-a7b5-faaec17bba41' title='Show/Hide data repr'><svg class='icon xr-icon-database'><use xlink:href='#icon-database'></use></svg></label><div class='xr-var-attrs'><dl class='xr-attrs'><dt><span>units :</span></dt><dd>degrees_east</dd><dt><span>long_name :</span></dt><dd>longitude</dd></dl></div><div class='xr-var-data'><pre>array([-180.  , -179.75, -179.5 , ...,  179.25,  179.5 ,  179.75],\n",
       "      dtype=float32)</pre></div></li><li class='xr-var-item'><div class='xr-var-name'><span class='xr-has-index'>latitude</span></div><div class='xr-var-dims'>(latitude)</div><div class='xr-var-dtype'>float32</div><div class='xr-var-preview xr-preview'>90.0 89.75 89.5 ... 0.5 0.25 0.0</div><input id='attrs-e310ae08-f916-4588-813e-d248f99e5f97' class='xr-var-attrs-in' type='checkbox' ><label for='attrs-e310ae08-f916-4588-813e-d248f99e5f97' title='Show/Hide attributes'><svg class='icon xr-icon-file-text2'><use xlink:href='#icon-file-text2'></use></svg></label><input id='data-fa309a1d-9150-4a4d-b7c7-f2f757a463f1' class='xr-var-data-in' type='checkbox'><label for='data-fa309a1d-9150-4a4d-b7c7-f2f757a463f1' title='Show/Hide data repr'><svg class='icon xr-icon-database'><use xlink:href='#icon-database'></use></svg></label><div class='xr-var-attrs'><dl class='xr-attrs'><dt><span>units :</span></dt><dd>degrees_north</dd><dt><span>long_name :</span></dt><dd>latitude</dd></dl></div><div class='xr-var-data'><pre>array([90.  , 89.75, 89.5 , ...,  0.5 ,  0.25,  0.  ], dtype=float32)</pre></div></li><li class='xr-var-item'><div class='xr-var-name'><span class='xr-has-index'>time</span></div><div class='xr-var-dims'>(time)</div><div class='xr-var-dtype'>datetime64[ns]</div><div class='xr-var-preview xr-preview'>1940-05-01T10:30:00 ... 2022-08-...</div><input id='attrs-61189e99-191b-4c86-b390-139704f9b6cc' class='xr-var-attrs-in' type='checkbox' ><label for='attrs-61189e99-191b-4c86-b390-139704f9b6cc' title='Show/Hide attributes'><svg class='icon xr-icon-file-text2'><use xlink:href='#icon-file-text2'></use></svg></label><input id='data-7a293ae5-0892-485a-90fe-73cc06d0e8d2' class='xr-var-data-in' type='checkbox'><label for='data-7a293ae5-0892-485a-90fe-73cc06d0e8d2' title='Show/Hide data repr'><svg class='icon xr-icon-database'><use xlink:href='#icon-database'></use></svg></label><div class='xr-var-attrs'><dl class='xr-attrs'><dt><span>long_name :</span></dt><dd>time</dd></dl></div><div class='xr-var-data'><pre>array([&#x27;1940-05-01T10:30:00.000000000&#x27;, &#x27;1940-05-02T10:30:00.000000000&#x27;,\n",
       "       &#x27;1940-05-03T10:30:00.000000000&#x27;, ..., &#x27;2022-08-29T10:30:00.000000000&#x27;,\n",
       "       &#x27;2022-08-30T10:30:00.000000000&#x27;, &#x27;2022-08-31T10:30:00.000000000&#x27;],\n",
       "      dtype=&#x27;datetime64[ns]&#x27;)</pre></div></li></ul></div></li><li class='xr-section-item'><input id='section-2396306f-c7a8-4694-9a89-61ee5a13914d' class='xr-section-summary-in' type='checkbox'  ><label for='section-2396306f-c7a8-4694-9a89-61ee5a13914d' class='xr-section-summary' >Indexes: <span>(3)</span></label><div class='xr-section-inline-details'></div><div class='xr-section-details'><ul class='xr-var-list'><li class='xr-var-item'><div class='xr-index-name'><div>longitude</div></div><div class='xr-index-preview'>PandasIndex</div><div></div><input id='index-aeb5471f-09a4-4392-aa4c-680c50e6df39' class='xr-index-data-in' type='checkbox'/><label for='index-aeb5471f-09a4-4392-aa4c-680c50e6df39' title='Show/Hide index repr'><svg class='icon xr-icon-database'><use xlink:href='#icon-database'></use></svg></label><div class='xr-index-data'><pre>PandasIndex(Index([ -180.0, -179.75,  -179.5, -179.25,  -179.0, -178.75,  -178.5, -178.25,\n",
       "        -178.0, -177.75,\n",
       "       ...\n",
       "         177.5,  177.75,   178.0,  178.25,   178.5,  178.75,   179.0,  179.25,\n",
       "         179.5,  179.75],\n",
       "      dtype=&#x27;float32&#x27;, name=&#x27;longitude&#x27;, length=1440))</pre></div></li><li class='xr-var-item'><div class='xr-index-name'><div>latitude</div></div><div class='xr-index-preview'>PandasIndex</div><div></div><input id='index-18ae2e4f-68e4-4b69-9ad8-3267d39d7b43' class='xr-index-data-in' type='checkbox'/><label for='index-18ae2e4f-68e4-4b69-9ad8-3267d39d7b43' title='Show/Hide index repr'><svg class='icon xr-icon-database'><use xlink:href='#icon-database'></use></svg></label><div class='xr-index-data'><pre>PandasIndex(Index([ 90.0, 89.75,  89.5, 89.25,  89.0, 88.75,  88.5, 88.25,  88.0, 87.75,\n",
       "       ...\n",
       "        2.25,   2.0,  1.75,   1.5,  1.25,   1.0,  0.75,   0.5,  0.25,   0.0],\n",
       "      dtype=&#x27;float32&#x27;, name=&#x27;latitude&#x27;, length=361))</pre></div></li><li class='xr-var-item'><div class='xr-index-name'><div>time</div></div><div class='xr-index-preview'>PandasIndex</div><div></div><input id='index-5bcf1343-95e6-4b76-8f6e-cde3fe32d489' class='xr-index-data-in' type='checkbox'/><label for='index-5bcf1343-95e6-4b76-8f6e-cde3fe32d489' title='Show/Hide index repr'><svg class='icon xr-icon-database'><use xlink:href='#icon-database'></use></svg></label><div class='xr-index-data'><pre>PandasIndex(DatetimeIndex([&#x27;1940-05-01 10:30:00&#x27;, &#x27;1940-05-02 10:30:00&#x27;,\n",
       "               &#x27;1940-05-03 10:30:00&#x27;, &#x27;1940-05-04 10:30:00&#x27;,\n",
       "               &#x27;1940-05-05 10:30:00&#x27;, &#x27;1940-05-06 10:30:00&#x27;,\n",
       "               &#x27;1940-05-07 10:30:00&#x27;, &#x27;1940-05-08 10:30:00&#x27;,\n",
       "               &#x27;1940-05-09 10:30:00&#x27;, &#x27;1940-05-10 10:30:00&#x27;,\n",
       "               ...\n",
       "               &#x27;2022-08-22 10:30:00&#x27;, &#x27;2022-08-23 10:30:00&#x27;,\n",
       "               &#x27;2022-08-24 10:30:00&#x27;, &#x27;2022-08-25 10:30:00&#x27;,\n",
       "               &#x27;2022-08-26 10:30:00&#x27;, &#x27;2022-08-27 10:30:00&#x27;,\n",
       "               &#x27;2022-08-28 10:30:00&#x27;, &#x27;2022-08-29 10:30:00&#x27;,\n",
       "               &#x27;2022-08-30 10:30:00&#x27;, &#x27;2022-08-31 10:30:00&#x27;],\n",
       "              dtype=&#x27;datetime64[ns]&#x27;, name=&#x27;time&#x27;, length=10209, freq=None))</pre></div></li></ul></div></li><li class='xr-section-item'><input id='section-67c9e7ed-9cbc-429e-a559-4f1944f28f16' class='xr-section-summary-in' type='checkbox'  checked><label for='section-67c9e7ed-9cbc-429e-a559-4f1944f28f16' class='xr-section-summary' >Attributes: <span>(3)</span></label><div class='xr-section-inline-details'></div><div class='xr-section-details'><dl class='xr-attrs'><dt><span>units :</span></dt><dd>m**2 s**-2</dd><dt><span>long_name :</span></dt><dd>Geopotential</dd><dt><span>standard_name :</span></dt><dd>geopotential</dd></dl></div></li></ul></div></div>"
      ],
      "text/plain": [
       "<xarray.DataArray 'z' (time: 10209, latitude: 361, longitude: 1440)>\n",
       "[5307046560 values with dtype=float32]\n",
       "Coordinates:\n",
       "  * longitude  (longitude) float32 -180.0 -179.8 -179.5 ... 179.2 179.5 179.8\n",
       "  * latitude   (latitude) float32 90.0 89.75 89.5 89.25 ... 0.75 0.5 0.25 0.0\n",
       "  * time       (time) datetime64[ns] 1940-05-01T10:30:00 ... 2022-08-31T10:30:00\n",
       "Attributes:\n",
       "    units:          m**2 s**-2\n",
       "    long_name:      Geopotential\n",
       "    standard_name:  geopotential"
      ]
     },
     "execution_count": 4,
     "metadata": {},
     "output_type": "execute_result"
    }
   ],
   "source": [
    "zg = xr.open_dataarray('zg500.nc')\n",
    "zg"
   ]
  },
  {
   "cell_type": "code",
   "execution_count": 5,
   "id": "a17e9a7e-0019-4dbf-baae-ed26962885db",
   "metadata": {},
   "outputs": [
    {
     "data": {
      "text/plain": [
       "(83, 122)"
      ]
     },
     "execution_count": 5,
     "metadata": {},
     "output_type": "execute_result"
    }
   ],
   "source": [
    "y = zg.time.dt.year.data\n",
    "years = y[-1] - y[0] + 1\n",
    "\n",
    "b = zg.time.dt.dayofyear.data\n",
    "days = b[-1] - b[0] + 1\n",
    "\n",
    "years, days"
   ]
  },
  {
   "cell_type": "code",
   "execution_count": null,
   "id": "41f11552-59be-470d-b735-1e59d60511ea",
   "metadata": {},
   "outputs": [],
   "source": [
    "zg_data = zg.data.reshape(years, days, *zg.data.shape[1:])\n",
    "zg_data.shape"
   ]
  },
  {
   "cell_type": "code",
   "execution_count": null,
   "id": "ed398b8a-d99e-444f-a656-28aecd5493e2",
   "metadata": {},
   "outputs": [],
   "source": [
    "clim = zg_data.mean(axis=0) # mean on the year axis\n",
    "zg_ano = xr.DataArray((zg_data - clim).reshape(zg.data.shape), coords=zg.coords, attrs=zg.attrs)\n",
    "zg_ano.attrs['long_name'] = 'Geopotential height anomaly'\n",
    "\n",
    "zg_ano"
   ]
  },
  {
   "cell_type": "markdown",
   "id": "b1ee130a-8a0a-4985-b1c4-30e8cda57107",
   "metadata": {},
   "source": [
    "#### Compute zonal and seasonal mean"
   ]
  },
  {
   "cell_type": "code",
   "execution_count": null,
   "id": "ded5b7b5-c8a2-4a91-b752-5303ec523fe6",
   "metadata": {},
   "outputs": [],
   "source": [
    "zg_zonal_mean = zg_ano.mean('longitude') # no weighting needed since cell area depends only on latitude\n",
    "zg_zonal_mean"
   ]
  },
  {
   "cell_type": "code",
   "execution_count": null,
   "id": "6f7782c3-5e65-45be-bd27-7d411a1534b0",
   "metadata": {},
   "outputs": [],
   "source": [
    "zg_seasonal = zg_zonal_mean.groupby(zg_zonal_mean.time.dt.year).mean()\n",
    "zg_seasonal"
   ]
  },
  {
   "cell_type": "markdown",
   "id": "e62bf7d6-cd77-48ac-bd49-fd11d6b81946",
   "metadata": {},
   "source": [
    "#### Compute latitude dependent trends"
   ]
  },
  {
   "cell_type": "code",
   "execution_count": null,
   "id": "e9fb8a13-c702-41d0-b57d-971760767580",
   "metadata": {},
   "outputs": [],
   "source": [
    "y = 1940 + np.arange(years)\n",
    "\n",
    "v_trend = []\n",
    "for l in range(len(zg_seasonal.latitude)):\n",
    "    v = zg_seasonal.data[:,l]\n",
    "    assert y.shape == v.shape\n",
    "    p = np.poly1d(np.polyfit(y, v, 2))\n",
    "    v_trend.append(p(y))\n",
    "    \n",
    "v_trend = np.stack(v_trend).T\n",
    "v_trend.shape"
   ]
  },
  {
   "cell_type": "code",
   "execution_count": null,
   "id": "72c99550-7dc8-45b7-b203-018b1676d639",
   "metadata": {},
   "outputs": [],
   "source": [
    "i = -1\n",
    "\n",
    "plt.close(1)\n",
    "fig = plt.figure(1)\n",
    "\n",
    "zg_seasonal.isel(latitude=i).plot()\n",
    "plt.plot(y, v_trend[:,i])\n",
    "\n",
    "fig.tight_layout()"
   ]
  },
  {
   "cell_type": "markdown",
   "id": "95c3132a-00d1-41bf-be4e-1a1df84b0a3e",
   "metadata": {},
   "source": [
    "#### Figure A.2"
   ]
  },
  {
   "cell_type": "code",
   "execution_count": null,
   "id": "82eb4030-707f-4146-b134-e4c010ff9922",
   "metadata": {},
   "outputs": [],
   "source": [
    "plt.close(2)\n",
    "fig,ax = plt.subplots(figsize=(9,6))\n",
    "\n",
    "plt.contourf(y, zg_seasonal.latitude.data, v_trend.T)\n",
    "\n",
    "plt.colorbar(label='trend [m]')\n",
    "plt.ylabel('Latitude [degree N]')\n",
    "\n",
    "fig.tight_layout()\n",
    "\n",
    "# fig.savefig(f'{HOME}/zg_trend.pdf')"
   ]
  },
  {
   "cell_type": "markdown",
   "id": "64930e9a-2d8e-4ebf-b355-03e37c74eeb0",
   "metadata": {},
   "source": [
    "#### Remove the trend"
   ]
  },
  {
   "cell_type": "code",
   "execution_count": null,
   "id": "0a57ae3a-9c0a-42b2-9cd5-38fdfe3e02b9",
   "metadata": {},
   "outputs": [],
   "source": [
    "v_trend.shape"
   ]
  },
  {
   "cell_type": "code",
   "execution_count": null,
   "id": "ee555c01-5ac5-4bd1-88e7-75d6136f03be",
   "metadata": {},
   "outputs": [],
   "source": [
    "# expand the time dimension\n",
    "v_trend_broad = np.ones((len(zg.latitude.data),years,days))\n",
    "v_trend_broad = (v_trend_broad.T * v_trend).T\n",
    "v_trend_broad = v_trend_broad.transpose((1,2,0))\n",
    "\n",
    "# check that the broadcasting worked correctly\n",
    "assert (np.std(v_trend_broad, axis=1) == 0).all()\n",
    "assert (v_trend_broad[:,0,:] == v_trend).all()\n",
    "\n",
    "v_trend_broad.shape"
   ]
  },
  {
   "cell_type": "code",
   "execution_count": null,
   "id": "0aaedb97-022f-4887-a1fe-f76d639f6d13",
   "metadata": {},
   "outputs": [],
   "source": [
    "trend_xr = xr.DataArray(v_trend_broad.reshape(-1,v_trend_broad.shape[-1]), coords=zg_ano.isel(longitude=0,drop=True).coords)\n",
    "trend_xr"
   ]
  },
  {
   "cell_type": "code",
   "execution_count": null,
   "id": "1a63afe5-3e14-4d60-b8da-9fcb1e1d2245",
   "metadata": {},
   "outputs": [],
   "source": [
    "zg_detrended = zg_ano - trend_xr\n",
    "zg_detrended.attrs = zg_ano.attrs\n",
    "zg_detrended.name = 'z'\n",
    "zg_detrended"
   ]
  },
  {
   "cell_type": "code",
   "execution_count": null,
   "id": "0162f614-c76c-4610-9dd0-08b20e9c7e03",
   "metadata": {},
   "outputs": [],
   "source": [
    "zg_detrended.to_netcdf('ANO_zg500.nc')"
   ]
  },
  {
   "cell_type": "code",
   "execution_count": null,
   "id": "06932065-0f77-4565-85df-3cd337b7b861",
   "metadata": {},
   "outputs": [],
   "source": [
    "plt.close(1)\n",
    "fig = plt.figure(1)\n",
    "\n",
    "zg_detrended.isel(time=-1).plot()\n",
    "\n",
    "fig.tight_layout()"
   ]
  },
  {
   "cell_type": "markdown",
   "id": "2479a61c-069e-4224-a035-610643833747",
   "metadata": {},
   "source": [
    "---\n",
    "\n",
    "Old stuff"
   ]
  },
  {
   "cell_type": "code",
   "execution_count": null,
   "id": "c9f64231-ee76-497b-baf1-0ccbfa3ada0c",
   "metadata": {},
   "outputs": [],
   "source": [
    "zg_np = zg.data.reshape([years,days,zg.shape[1],zg.shape[2]]) #separate time axis into from yaers*days to years, daysa\n",
    "zg_np.shape"
   ]
  },
  {
   "cell_type": "code",
   "execution_count": null,
   "id": "04f40422-b099-4ce8-ad7f-5a25202832b1",
   "metadata": {},
   "outputs": [],
   "source": [
    "zg_np_ano = (zg_np - zg_np.mean(axis=0)) #remove seasonal cycle\n",
    "zg_np_ano.shape"
   ]
  },
  {
   "cell_type": "code",
   "execution_count": null,
   "id": "40ac3028-1c0b-4ec4-b7c2-e850d8e6a065",
   "metadata": {},
   "outputs": [],
   "source": [
    "zg_np_ano_season = zg_np_ano.mean(axis=1)\n",
    "zg_np_ano_season.shape"
   ]
  },
  {
   "cell_type": "code",
   "execution_count": null,
   "id": "69225085-83f5-40d2-8cca-7ad02254aff4",
   "metadata": {},
   "outputs": [],
   "source": [
    "zg_latitudinal = zg_np_ano_season.mean(axis=2)\n",
    "zg_latitudinal.shape"
   ]
  },
  {
   "cell_type": "code",
   "execution_count": null,
   "id": "142e50e5-4f41-49c6-a853-c90607d1726b",
   "metadata": {},
   "outputs": [],
   "source": [
    "trends = np.zeros([zg_latitudinal.shape[0],zg_latitudinal.shape[1]])\n",
    "for lat in range(zg.shape[1]):\n",
    "    trends[:,lat] = remove_trend(zg_latitudinal[:,lat])"
   ]
  },
  {
   "cell_type": "code",
   "execution_count": null,
   "id": "ccc388af-9443-4aec-b84e-eef62749d06b",
   "metadata": {},
   "outputs": [],
   "source": [
    "plt.figure()\n",
    "c = plt.contourf(trends.T)\n",
    "plt.xlabel('year')\n",
    "plt.ylabel('latitude')\n",
    "plt.title('ZG seasonal trend [m]',loc='left')\n",
    "# plt.yticks( np.arange(0,360,40),np.arange(0,90,10),fontsize =15)\n",
    "plt.yticks(np.arange(0,zg.shape[1]-1,40), np.arange(np.int64(zg.latitude.values[0]),np.int64(zg.latitude.values[-1]),10))\n",
    "plt.xticks(np.arange(0,years,10),np.arange(y[0],y[-1],10),fontsize = 14, rotation = 340)\n",
    "plt.colorbar(c)\n",
    "plt.show()"
   ]
  },
  {
   "cell_type": "code",
   "execution_count": null,
   "id": "3bf0a3c6-c6ed-4c03-a788-8fcb512cfcc1",
   "metadata": {},
   "outputs": [],
   "source": [
    "np.arange(zg.latitude.values[0],zg.latitude.values[-1],10)"
   ]
  },
  {
   "cell_type": "code",
   "execution_count": null,
   "id": "bd9fbe2b-5b56-416e-b343-03ec91fd487a",
   "metadata": {},
   "outputs": [],
   "source": [
    "zg.latitude.values[0]"
   ]
  },
  {
   "cell_type": "code",
   "execution_count": null,
   "id": "64653f76-1a20-4079-a788-33943c6bd2be",
   "metadata": {},
   "outputs": [],
   "source": [
    "np.int64(zg.latitude.values[-1])"
   ]
  },
  {
   "cell_type": "code",
   "execution_count": null,
   "id": "73bb2632-e568-4b2c-9df6-7533f11fcb1e",
   "metadata": {},
   "outputs": [],
   "source": [
    "test = xr.open_dataarray('/ClimateDynamics/MediumSpace/ClimateLearningFR/vmascolo/Data_ERA5/ANO_zg_latitudinal_fullres_MJJA.nc')"
   ]
  },
  {
   "cell_type": "code",
   "execution_count": null,
   "id": "c1986715-6ebf-4054-8fb7-246029e827eb",
   "metadata": {},
   "outputs": [],
   "source": [
    "test"
   ]
  },
  {
   "cell_type": "code",
   "execution_count": null,
   "id": "2d90bb6d-3e9e-4e34-9485-3688af20bde2",
   "metadata": {},
   "outputs": [],
   "source": [
    "test2 = xr.open_dataarray('/ClimateDynamics/MediumSpace/ClimateLearningFR/vmascolo/Data_ERA5/ANO_zg.nc')"
   ]
  },
  {
   "cell_type": "code",
   "execution_count": null,
   "id": "cbf1a1d8-dbef-4acc-bab8-fdf66df0c5ef",
   "metadata": {},
   "outputs": [],
   "source": [
    "test2"
   ]
  }
 ],
 "metadata": {
  "kernelspec": {
   "display_name": "pi",
   "language": "python",
   "name": "pi"
  },
  "language_info": {
   "codemirror_mode": {
    "name": "ipython",
    "version": 3
   },
   "file_extension": ".py",
   "mimetype": "text/x-python",
   "name": "python",
   "nbconvert_exporter": "python",
   "pygments_lexer": "ipython3",
   "version": "3.10.8"
  }
 },
 "nbformat": 4,
 "nbformat_minor": 5
}
