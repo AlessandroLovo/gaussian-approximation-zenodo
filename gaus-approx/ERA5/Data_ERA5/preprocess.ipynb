{
 "cells": [
  {
   "cell_type": "markdown",
   "id": "381a7ec3-dbd3-41ff-a2fe-bf00c90c197e",
   "metadata": {},
   "source": [
    "# Preprocess ERA5 data\n",
    "\n",
    "In this notebook, we will preprocess the data downloaded from [ECMWF website](https://www.ecmwf.int/en/forecasts/dataset/ecmwf-reanalysis-v5)"
   ]
  },
  {
   "cell_type": "code",
   "execution_count": null,
   "id": "3f24c896-b18a-445e-ab6e-9e7d12835bab",
   "metadata": {},
   "outputs": [],
   "source": [
    "import numpy as np\n",
    "import matplotlib\n",
    "import matplotlib.pyplot as plt\n",
    "%matplotlib widget\n",
    "matplotlib.rc('font', size=18)\n",
    "default_colors = plt.rcParams['axes.prop_cycle'].by_key()['color']\n",
    "\n",
    "import os\n",
    "import xarray as xr\n",
    "\n",
    "HOME = '../../'"
   ]
  },
  {
   "cell_type": "markdown",
   "id": "28855f63-1421-454f-9b89-4eeab7a287ba",
   "metadata": {
    "tags": []
   },
   "source": [
    "## Download the data\n",
    "\n",
    "Run the scripts `fetch_t2m.py`, `fetch_zg.py` and `fetch_lsm.py`. They may take a while\n"
   ]
  },
  {
   "cell_type": "markdown",
   "id": "efea431e-f31c-474e-9472-1684ad65aef4",
   "metadata": {
    "jupyter": {
     "source_hidden": true
    },
    "tags": []
   },
   "source": [
    "## Compute cell area"
   ]
  },
  {
   "cell_type": "code",
   "execution_count": null,
   "id": "82c9fccf-4a76-4b02-a0fc-fcba14579f9e",
   "metadata": {},
   "outputs": [],
   "source": [
    "raw_lsm = xr.open_dataset('raw/lsm.nc')\n",
    "raw_lsm"
   ]
  },
  {
   "cell_type": "code",
   "execution_count": null,
   "id": "150b5a22-2739-4dfe-9fc5-bd1cbf67a18d",
   "metadata": {},
   "outputs": [],
   "source": [
    "lsm = raw_lsm.lsm.isel(time=0,drop=True)\n",
    "lsm"
   ]
  },
  {
   "cell_type": "code",
   "execution_count": null,
   "id": "33f1a923-ae7d-4e0d-a0c3-b107e219f31a",
   "metadata": {},
   "outputs": [],
   "source": [
    "lsm.to_netcdf('land_sea_mask_fullres.nc')"
   ]
  },
  {
   "cell_type": "code",
   "execution_count": null,
   "id": "67771365-04bb-445f-93ba-6491a2ce5aa3",
   "metadata": {},
   "outputs": [],
   "source": [
    "R = 6.371e6 # Earth radius\n",
    "cell_area = xr.ones_like(lsm).rename('cell_area')\n",
    "\n",
    "dlon = cell_area.longitude.data[1] - cell_area.longitude.data[0]\n",
    "dlat = -cell_area.latitude.data[1] + cell_area.latitude.data[0]\n",
    "\n",
    "cell_area *= R**2*(np.pi/180)**2*dlon*dlat*np.maximum(np.cos(np.pi/180*cell_area.latitude),0)\n",
    "\n",
    "cell_area.attrs = {\n",
    "    'units': 'm**2',\n",
    "    'long_name': 'cell area',\n",
    "}\n",
    "\n",
    "cell_area"
   ]
  },
  {
   "cell_type": "code",
   "execution_count": null,
   "id": "850b286a-e297-4734-b877-29bf9409cc8d",
   "metadata": {},
   "outputs": [],
   "source": [
    "cell_area.to_netcdf('cell_area_fullres.nc')"
   ]
  },
  {
   "cell_type": "markdown",
   "id": "d7bd7f81-31a0-4e66-bfb4-751f0355ab0d",
   "metadata": {
    "jp-MarkdownHeadingCollapsed": true,
    "tags": []
   },
   "source": [
    "## Compute daily means\n",
    "\n",
    "Run the script `daily_mean.py`\n",
    "\n",
    "If you have storage space limitations, after computing the daily means you can delete the whole `raw` directory"
   ]
  },
  {
   "cell_type": "markdown",
   "id": "ee6f0082-9869-4626-8eb4-41c91fddd2ae",
   "metadata": {
    "jp-MarkdownHeadingCollapsed": true,
    "tags": []
   },
   "source": [
    "## Compute area integral over France of the temperature field"
   ]
  },
  {
   "cell_type": "code",
   "execution_count": null,
   "id": "dc7ee232-c5f2-457e-b1d0-57df69d0a4bb",
   "metadata": {},
   "outputs": [],
   "source": [
    "def standardize_dim_names(xa:xr.DataArray) -> xr.DataArray:\n",
    "    '''\n",
    "    Renames the coordinates of `xa` to oblige with standard:\n",
    "    longitude: 'lon'\n",
    "    latitude:  'lat'\n",
    "    time:      'time'\n",
    "\n",
    "    The renamed dataarray is then returned\n",
    "    '''\n",
    "    standard_names_to_variants = {\n",
    "        'lon': ['longitude', 'Longitude'],\n",
    "        'lat': ['latitude', 'Latitude'],\n",
    "        'time': ['Time', 't', 'T']\n",
    "    }\n",
    "    renamings = {}\n",
    "    for dim in xa.dims:\n",
    "        if dim in standard_names_to_variants:\n",
    "            continue\n",
    "        for standard_dim, variants in standard_names_to_variants.items():\n",
    "            if dim in variants:\n",
    "                renamings[dim] = standard_dim\n",
    "                break\n",
    "    if renamings:\n",
    "        xa = xa.rename(renamings)\n",
    "    return xa\n",
    "\n",
    "def is_above_line(da:xr.DataArray, lon1:float, lat1:float, lon2:float, lat2:float) -> xr.DataArray:\n",
    "    '''\n",
    "    returns a mask of the input object that is true north of a line in lon-lat space defined by two points.\n",
    "\n",
    "    By multiplying the output of this funcion over several evaluations you can define a polygonal mask\n",
    "\n",
    "    Parameters\n",
    "    ----------\n",
    "    da : xr.DataArray\n",
    "        input object with longitude and latitude dimensions\n",
    "    lon1 : float\n",
    "        longitude of the first point\n",
    "    lat1 : float\n",
    "        latitude of the first point\n",
    "    lon2 : float\n",
    "        longitude of the second point\n",
    "    lat2 : float\n",
    "        latitude of the second point\n",
    "\n",
    "    Returns\n",
    "    -------\n",
    "    xr.DataArray\n",
    "        the mask\n",
    "    '''\n",
    "    da = standardize_dim_names(da)\n",
    "    return da.lat - (lat1*(lon2 - da.lon) + lat2*(da.lon - lon1))/(lon2 - lon1) > 0\n",
    "\n",
    "def masked_average(xa:xr.DataArray,\n",
    "                   dim=None,\n",
    "                   weights:xr.DataArray=None,\n",
    "                   mask:xr.DataArray=None) -> xr.DataArray:\n",
    "    '''\n",
    "    Computes the average of `xa` over given dimensions `dim`, weighting with `weights` and masking with `mask`\n",
    "\n",
    "    Parameters\n",
    "    ----------\n",
    "    xa : xr.DataArray\n",
    "        data\n",
    "    dim : str or list of str, optional\n",
    "        dimensions over which to perform the average, by default None\n",
    "    weights : xr.DataArray, optional\n",
    "        weights for the average, for example the cell, by default None\n",
    "    mask : xr.DataArray, optional\n",
    "        True over the data to keep, False over the data to ignore, by default None\n",
    "\n",
    "    Returns\n",
    "    -------\n",
    "    xr.DataArray\n",
    "        masked and averaged array\n",
    "    '''\n",
    "    if weights is not None:\n",
    "        _weights = weights.copy()\n",
    "        if mask is not None:\n",
    "            _weights = _weights.where(mask, 0)\n",
    "    elif mask is not None:\n",
    "        _weights = xr.where(mask, 1, 0)\n",
    "    else: # mask = weights = None\n",
    "        return xa.mean(dim=dim)\n",
    "\n",
    "    _weights /= _weights.sum(dim=dim) # normalize weights\n",
    "    _xa = xa*_weights\n",
    "    return _xa.sum(dim=dim)"
   ]
  },
  {
   "cell_type": "markdown",
   "id": "f7e85384-9f5c-48ee-9726-54255df4facc",
   "metadata": {},
   "source": [
    "### Load data"
   ]
  },
  {
   "cell_type": "code",
   "execution_count": null,
   "id": "52c7c43e-c200-4fc5-92ef-91f51f5f5df5",
   "metadata": {},
   "outputs": [],
   "source": [
    "t2m = xr.open_dataarray('t2m_MJJA_fullres.nc')\n",
    "t2m = standardize_dim_names(t2m)\n",
    "t2m"
   ]
  },
  {
   "cell_type": "code",
   "execution_count": null,
   "id": "1be4892e-4f29-490f-9916-6b138e99dc3b",
   "metadata": {},
   "outputs": [],
   "source": [
    "# land-sea mask\n",
    "lsm = xr.open_dataarray('land_sea_mask_fullres.nc')\n",
    "lsm = standardize_dim_names(lsm)\n",
    "lsm = lsm.sel(lat=t2m.lat, lon=t2m.lon)\n",
    "lsm = (lsm > 0.5).astype(lsm.dtype) # make it binary\n",
    "lsm"
   ]
  },
  {
   "cell_type": "code",
   "execution_count": null,
   "id": "4a230618-7900-45fb-a85e-3a0e836a988c",
   "metadata": {},
   "outputs": [],
   "source": [
    "cell_area = xr.open_dataarray('cell_area_fullres.nc')\n",
    "cell_area = standardize_dim_names(cell_area)\n",
    "cell_area = cell_area.sel(lat=t2m.lat, lon=t2m.lon)\n",
    "cell_area"
   ]
  },
  {
   "cell_type": "markdown",
   "id": "0947dea3-3718-4c64-98e1-edc0718aa0a8",
   "metadata": {},
   "source": [
    "### Compute mask for France"
   ]
  },
  {
   "cell_type": "code",
   "execution_count": null,
   "id": "0878bd90-de9b-4486-afd4-c1e14b1e32af",
   "metadata": {},
   "outputs": [],
   "source": [
    "_mask = lsm > 0.5 # make it bool\n",
    "\n",
    "newlon = _mask.lon.data % 360 # first make sure longitude is in [0,360]\n",
    "newlon = newlon - 360*(newlon >= 180) # then put it in [-180,180]\n",
    "mask = xr.DataArray(_mask.data, coords={'lat':_mask.lat, 'lon':newlon})\n",
    "\n",
    "mask *= (mask.lat < 52)*(mask.lat > 42)*(mask.lon > -5)*(mask.lon < 8.3) # identify the rough region\n",
    "# cut the edges\n",
    "mask *= ~is_above_line(mask, 1.65, 51, -4.5, 49.2)\n",
    "mask *= is_above_line(mask, -1.86, 43.34, 3.4, 42.2)\n",
    "mask *= ~is_above_line(mask, 2.26, 51.2, 8.27, 49)\n",
    "mask *= is_above_line(mask, 8.1, 48.8, 6, 43)\n",
    "\n",
    "# restore the original longitude\n",
    "mask = xr.DataArray(mask.data, coords={'lat':mask.lat, 'lon':_mask.lon})\n",
    "mask"
   ]
  },
  {
   "cell_type": "markdown",
   "id": "f0d2fb52-81fd-4e1c-978e-128a39c5875c",
   "metadata": {},
   "source": [
    "### Compute area integral"
   ]
  },
  {
   "cell_type": "code",
   "execution_count": null,
   "id": "d9b7d3ea-ffc0-4465-b7db-b7de39d69830",
   "metadata": {},
   "outputs": [],
   "source": [
    "## this cell takes a while\n",
    "\n",
    "# area integral\n",
    "ai = masked_average(t2m,\n",
    "                    dim=['lat', 'lon'],\n",
    "                    weights=lsm*cell_area, # land area weights\n",
    "                    mask=mask # mask over France\n",
    "                   )\n",
    "ai"
   ]
  },
  {
   "cell_type": "code",
   "execution_count": null,
   "id": "3a99e524-b97a-4167-867a-a60383bc00e1",
   "metadata": {},
   "outputs": [],
   "source": [
    "ai = ai.convert_calendar('noleap') # fix the calendar\n",
    "ai.attrs = {'units': 'K', 'long_name': '2 metre temperature'}\n",
    "ai.name = 't2m'\n",
    "ai"
   ]
  },
  {
   "cell_type": "code",
   "execution_count": null,
   "id": "ee68be8d-c8e1-411b-8fea-5c1557dce39e",
   "metadata": {},
   "outputs": [],
   "source": [
    "ai.to_netcdf('t2m_MJJA_France.nc')"
   ]
  },
  {
   "cell_type": "markdown",
   "id": "7fcb4e1b-0aa9-4de1-903a-1770c4a2f35e",
   "metadata": {
    "jp-MarkdownHeadingCollapsed": true,
    "tags": []
   },
   "source": [
    "## Figure S1 + Temperature detrended file"
   ]
  },
  {
   "cell_type": "markdown",
   "id": "5dcf9960-3ec3-4c31-80c9-1a302a839bfc",
   "metadata": {},
   "source": [
    "### Compute anomaly"
   ]
  },
  {
   "cell_type": "code",
   "execution_count": null,
   "id": "a92cf7d5-df57-4ec9-ac47-24dcef8ff08a",
   "metadata": {},
   "outputs": [],
   "source": [
    "ai_full = xr.open_dataarray('t2m_MJJA_France.nc')"
   ]
  },
  {
   "cell_type": "code",
   "execution_count": null,
   "id": "900615df-6524-467a-9320-cc3d7eed7bb7",
   "metadata": {},
   "outputs": [],
   "source": [
    "# compute climatology for each day of the year\n",
    "y = t2m.time.dt.year.data\n",
    "years = y[-1] - y[0] + 1\n",
    "_data = ai_full.data.reshape((years, -1))\n",
    "clim = _data.mean(axis=0)\n",
    "\n",
    "ano = (_data - clim).reshape((-1))\n",
    "\n",
    "ai = ai_full.copy(deep=True)\n",
    "ai.data = ano\n",
    "\n",
    "ai"
   ]
  },
  {
   "cell_type": "markdown",
   "id": "3360bb76-0d98-4c89-af63-1ddd762eda6e",
   "metadata": {},
   "source": [
    "### Compute quadratic trend"
   ]
  },
  {
   "cell_type": "code",
   "execution_count": null,
   "id": "3989c22c-10ef-4130-a9bc-e1c14f946bd8",
   "metadata": {},
   "outputs": [],
   "source": [
    "ai_seasonal = ai.groupby(ai.time.dt.year).mean()\n",
    "ai_seasonal"
   ]
  },
  {
   "cell_type": "code",
   "execution_count": null,
   "id": "c92839b4-6e82-49cc-9bd8-53e0e77f7daf",
   "metadata": {},
   "outputs": [],
   "source": [
    "y = ai.time.dt.year.data\n",
    "years = y[-1] - y[0] + 1\n",
    "\n",
    "b = ai.time.dt.dayofyear.data\n",
    "days = b[-1] - b[0] + 1\n",
    "\n",
    "years, days"
   ]
  },
  {
   "cell_type": "code",
   "execution_count": null,
   "id": "9fe90ab9-b1ae-4caa-8a26-d7ac1beb1708",
   "metadata": {},
   "outputs": [],
   "source": [
    "y = 1940 + np.arange(years)\n",
    "v = ai_seasonal.data\n",
    "\n",
    "assert y.shape == v.shape\n",
    "\n",
    "p = np.poly1d(np.polyfit(y, v, 2))\n",
    "p"
   ]
  },
  {
   "cell_type": "code",
   "execution_count": null,
   "id": "1f54fe10-cb67-4f41-bd0a-c229ba050418",
   "metadata": {},
   "outputs": [],
   "source": [
    "plt.close(1)\n",
    "fig,ax = plt.subplots(figsize=(9,6), num=1)\n",
    "v_trend = p(y)\n",
    "\n",
    "plt.plot(y,v)\n",
    "plt.plot(y,v_trend)\n",
    "\n",
    "# plt.xticks( np.arange(0,years,10),np.arange(y[0],y[-1],10),fontsize = 14, rotation = 340)\n",
    "# plt.yticks(fontsize=14)\n",
    "plt.ylabel('Seasonal $T_{2m}$ anomaly')\n",
    "\n",
    "fig.tight_layout()\n",
    "\n",
    "# plt.savefig(f'{HOME}/t2m_France.pdf')"
   ]
  },
  {
   "cell_type": "markdown",
   "id": "02ac2203-b7eb-42c0-a698-51fa3b1807f9",
   "metadata": {},
   "source": [
    "### Remove trend"
   ]
  },
  {
   "cell_type": "code",
   "execution_count": null,
   "id": "0197a9be-78a2-4607-9509-5237dc278a4b",
   "metadata": {},
   "outputs": [],
   "source": [
    "ANO_ai = ai.copy(deep=True)\n",
    "_data = ANO_ai.data.reshape((years, days))\n",
    "_data.shape, v_trend.shape"
   ]
  },
  {
   "cell_type": "code",
   "execution_count": null,
   "id": "d618d8c3-877a-48dd-8bea-3a038a64ffe6",
   "metadata": {},
   "outputs": [],
   "source": [
    "_data = (_data.T - v_trend).T\n",
    "ANO_ai.data = _data.reshape(-1)\n",
    "ANO_ai"
   ]
  },
  {
   "cell_type": "code",
   "execution_count": null,
   "id": "77ac797c-578f-4a13-b0de-8077237d2c47",
   "metadata": {},
   "outputs": [],
   "source": [
    "ANO_ai.to_netcdf('ANO_t2m_France.nc')"
   ]
  },
  {
   "cell_type": "code",
   "execution_count": null,
   "id": "4b78eeb2-780e-4228-9146-f90d57bb754c",
   "metadata": {},
   "outputs": [],
   "source": [
    "plt.figure()\n",
    "ai.plot()\n",
    "ANO_ai.plot()"
   ]
  },
  {
   "cell_type": "markdown",
   "id": "c6dc7abb-4c92-48fb-9c1f-43c7be634302",
   "metadata": {
    "jp-MarkdownHeadingCollapsed": true,
    "tags": []
   },
   "source": [
    "## Figure S2 + Geopotential height detrended file"
   ]
  },
  {
   "cell_type": "markdown",
   "id": "b708dbef-c6c3-47af-8884-dc67ba28e13b",
   "metadata": {},
   "source": [
    "### Regrid to the PlaSim grid"
   ]
  },
  {
   "cell_type": "code",
   "execution_count": null,
   "id": "2d40218c-384b-4f14-aa76-7d5c3929a706",
   "metadata": {},
   "outputs": [],
   "source": [
    "## Copy cell area and land sea mask with PlaSim resolution\n",
    "os.system('cp ../../land_sea_mask.nc .')\n",
    "os.system('cp ../../cell_area.nc .')"
   ]
  },
  {
   "cell_type": "code",
   "execution_count": null,
   "id": "87cdf9c8-bf6b-4d12-9c8a-73f034db039f",
   "metadata": {},
   "outputs": [],
   "source": [
    "import xesmf as xe"
   ]
  },
  {
   "cell_type": "code",
   "execution_count": null,
   "id": "c9ed8d3e-59b3-422c-b54e-d4483a97e026",
   "metadata": {},
   "outputs": [],
   "source": [
    "zg_fullres = xr.open_dataarray('zg_MJJA_fullres.nc')\n",
    "zg_fullres"
   ]
  },
  {
   "cell_type": "code",
   "execution_count": null,
   "id": "e13f1571-5bd5-4db8-80cb-04ace615a04a",
   "metadata": {},
   "outputs": [],
   "source": [
    "plasim_lon = np.sort(np.load('../../lon.npy'))\n",
    "plasim_lat = np.load('../../lat.npy')\n",
    "\n",
    "plasim_lon, plasim_lat"
   ]
  },
  {
   "cell_type": "code",
   "execution_count": null,
   "id": "48bde4ea-05d5-4c74-9edb-6f6507a893e2",
   "metadata": {},
   "outputs": [],
   "source": [
    "zg_regrid= xr.Dataset(\n",
    "    {\n",
    "        \"latitude\": ([\"latitude\"], plasim_lat),\n",
    "        \"longitude\": ([\"longitude\"], plasim_lon),\n",
    "    }\n",
    ")\n",
    "\n",
    "regridder = xe.Regridder(zg_fullres,zg_regrid, \"bilinear\")\n",
    "regridder"
   ]
  },
  {
   "cell_type": "code",
   "execution_count": null,
   "id": "6b96694e-c958-4fcc-851b-ef3b586da561",
   "metadata": {},
   "outputs": [],
   "source": [
    "## This cell takes a while\n",
    "zg_regrid = regridder(zg_fullres)\n",
    "zg_regrid"
   ]
  },
  {
   "cell_type": "code",
   "execution_count": null,
   "id": "8fb1f511-923a-43a3-b116-521cae6f2d7e",
   "metadata": {},
   "outputs": [],
   "source": [
    "zg_regrid /= 9.81 # geopotential to geopotential height\n",
    "zg_regrid = zg_regrid.convert_calendar('noleap') # get rid of leap years: this makes dayofyear uniform across all years\n",
    "zg_regrid.name = 'z'\n",
    "zg_regrid.attrs = {\n",
    "    'units': 'm',\n",
    "    'long_name': 'Geopotential height'\n",
    "}\n",
    "zg_regrid"
   ]
  },
  {
   "cell_type": "code",
   "execution_count": null,
   "id": "6a0d0838-cf70-4cce-b082-f3e5faa7368c",
   "metadata": {},
   "outputs": [],
   "source": [
    "zg_regrid.to_netcdf('zg500.nc')"
   ]
  },
  {
   "cell_type": "markdown",
   "id": "ba79340b-58fe-4dd6-8d70-a93e0352d88d",
   "metadata": {},
   "source": [
    "### Detrend"
   ]
  },
  {
   "cell_type": "markdown",
   "id": "f8b3be84-16e2-4aa7-a114-77b47b6f92aa",
   "metadata": {},
   "source": [
    "#### Compute anomalies"
   ]
  },
  {
   "cell_type": "code",
   "execution_count": null,
   "id": "93b19d8e-c9e2-438d-a510-9a4b5b7a298d",
   "metadata": {},
   "outputs": [],
   "source": [
    "zg = xr.open_dataarray('zg500.nc')\n",
    "zg"
   ]
  },
  {
   "cell_type": "code",
   "execution_count": null,
   "id": "a17e9a7e-0019-4dbf-baae-ed26962885db",
   "metadata": {},
   "outputs": [],
   "source": [
    "y = zg.time.dt.year.data\n",
    "years = y[-1] - y[0] + 1\n",
    "\n",
    "b = zg.time.dt.dayofyear.data\n",
    "days = b[-1] - b[0] + 1\n",
    "\n",
    "years, days"
   ]
  },
  {
   "cell_type": "code",
   "execution_count": null,
   "id": "41f11552-59be-470d-b735-1e59d60511ea",
   "metadata": {},
   "outputs": [],
   "source": [
    "zg_data = zg.data.reshape(years, days, *zg.data.shape[1:])\n",
    "zg_data.shape"
   ]
  },
  {
   "cell_type": "code",
   "execution_count": null,
   "id": "ed398b8a-d99e-444f-a656-28aecd5493e2",
   "metadata": {},
   "outputs": [],
   "source": [
    "clim = zg_data.mean(axis=0) # mean on the year axis\n",
    "zg_ano = xr.DataArray((zg_data - clim).reshape(zg.data.shape), coords=zg.coords, attrs=zg.attrs)\n",
    "zg_ano.attrs['long_name'] = 'Geopotential height anomaly'\n",
    "\n",
    "zg_ano"
   ]
  },
  {
   "cell_type": "markdown",
   "id": "b1ee130a-8a0a-4985-b1c4-30e8cda57107",
   "metadata": {},
   "source": [
    "#### Compute zonal and seasonal mean"
   ]
  },
  {
   "cell_type": "code",
   "execution_count": null,
   "id": "ded5b7b5-c8a2-4a91-b752-5303ec523fe6",
   "metadata": {},
   "outputs": [],
   "source": [
    "zg_zonal_mean = zg_ano.mean('longitude') # no weighting needed since cell area depends only on latitude\n",
    "zg_zonal_mean"
   ]
  },
  {
   "cell_type": "code",
   "execution_count": null,
   "id": "6f7782c3-5e65-45be-bd27-7d411a1534b0",
   "metadata": {},
   "outputs": [],
   "source": [
    "zg_seasonal = zg_zonal_mean.groupby(zg_zonal_mean.time.dt.year).mean()\n",
    "zg_seasonal"
   ]
  },
  {
   "cell_type": "markdown",
   "id": "e62bf7d6-cd77-48ac-bd49-fd11d6b81946",
   "metadata": {},
   "source": [
    "#### Compute latitude dependent trends"
   ]
  },
  {
   "cell_type": "code",
   "execution_count": null,
   "id": "e9fb8a13-c702-41d0-b57d-971760767580",
   "metadata": {},
   "outputs": [],
   "source": [
    "y = 1940 + np.arange(years)\n",
    "\n",
    "v_trend = []\n",
    "for l in range(len(zg_seasonal.latitude)):\n",
    "    v = zg_seasonal.data[:,l]\n",
    "    assert y.shape == v.shape\n",
    "    p = np.poly1d(np.polyfit(y, v, 2))\n",
    "    v_trend.append(p(y))\n",
    "\n",
    "v_trend = np.stack(v_trend).T\n",
    "v_trend.shape"
   ]
  },
  {
   "cell_type": "code",
   "execution_count": null,
   "id": "72c99550-7dc8-45b7-b203-018b1676d639",
   "metadata": {},
   "outputs": [],
   "source": [
    "i = -1\n",
    "\n",
    "plt.close(1)\n",
    "fig = plt.figure(1)\n",
    "\n",
    "zg_seasonal.isel(latitude=i).plot()\n",
    "plt.plot(y, v_trend[:,i])\n",
    "\n",
    "fig.tight_layout()"
   ]
  },
  {
   "cell_type": "markdown",
   "id": "95c3132a-00d1-41bf-be4e-1a1df84b0a3e",
   "metadata": {},
   "source": [
    "#### Figure A.2"
   ]
  },
  {
   "cell_type": "code",
   "execution_count": null,
   "id": "82eb4030-707f-4146-b134-e4c010ff9922",
   "metadata": {},
   "outputs": [],
   "source": [
    "plt.close(2)\n",
    "fig,ax = plt.subplots(figsize=(9,6))\n",
    "\n",
    "plt.contourf(y, zg_seasonal.latitude.data, v_trend.T)\n",
    "\n",
    "plt.colorbar(label='trend [m]')\n",
    "plt.ylabel('Latitude [degree N]')\n",
    "\n",
    "fig.tight_layout()\n",
    "\n",
    "# fig.savefig(f'{HOME}/zg_trend.pdf')"
   ]
  },
  {
   "cell_type": "markdown",
   "id": "64930e9a-2d8e-4ebf-b355-03e37c74eeb0",
   "metadata": {},
   "source": [
    "#### Remove the trend"
   ]
  },
  {
   "cell_type": "code",
   "execution_count": null,
   "id": "0a57ae3a-9c0a-42b2-9cd5-38fdfe3e02b9",
   "metadata": {},
   "outputs": [],
   "source": [
    "v_trend.shape"
   ]
  },
  {
   "cell_type": "code",
   "execution_count": null,
   "id": "ee555c01-5ac5-4bd1-88e7-75d6136f03be",
   "metadata": {},
   "outputs": [],
   "source": [
    "# expand the time dimension\n",
    "v_trend_broad = np.ones((len(zg.latitude.data),years,days))\n",
    "v_trend_broad = (v_trend_broad.T * v_trend).T\n",
    "v_trend_broad = v_trend_broad.transpose((1,2,0))\n",
    "\n",
    "# check that the broadcasting worked correctly\n",
    "assert (np.std(v_trend_broad, axis=1) == 0).all()\n",
    "assert (v_trend_broad[:,0,:] == v_trend).all()\n",
    "\n",
    "v_trend_broad.shape"
   ]
  },
  {
   "cell_type": "code",
   "execution_count": null,
   "id": "0aaedb97-022f-4887-a1fe-f76d639f6d13",
   "metadata": {},
   "outputs": [],
   "source": [
    "trend_xr = xr.DataArray(v_trend_broad.reshape(-1,v_trend_broad.shape[-1]), coords=zg_ano.isel(longitude=0,drop=True).coords)\n",
    "trend_xr"
   ]
  },
  {
   "cell_type": "code",
   "execution_count": null,
   "id": "1a63afe5-3e14-4d60-b8da-9fcb1e1d2245",
   "metadata": {},
   "outputs": [],
   "source": [
    "zg_detrended = zg_ano - trend_xr\n",
    "zg_detrended.attrs = zg_ano.attrs\n",
    "zg_detrended.name = 'z'\n",
    "zg_detrended"
   ]
  },
  {
   "cell_type": "code",
   "execution_count": null,
   "id": "0162f614-c76c-4610-9dd0-08b20e9c7e03",
   "metadata": {},
   "outputs": [],
   "source": [
    "zg_detrended.to_netcdf('ANO_zg500.nc')"
   ]
  },
  {
   "cell_type": "code",
   "execution_count": null,
   "id": "06932065-0f77-4565-85df-3cd337b7b861",
   "metadata": {},
   "outputs": [],
   "source": [
    "plt.close(1)\n",
    "fig = plt.figure(1)\n",
    "\n",
    "zg_detrended.isel(time=-1).plot()\n",
    "\n",
    "fig.tight_layout()"
   ]
  },
  {
   "cell_type": "markdown",
   "id": "2479a61c-069e-4224-a035-610643833747",
   "metadata": {},
   "source": [
    "---\n",
    "\n",
    "Old stuff"
   ]
  },
  {
   "cell_type": "code",
   "execution_count": null,
   "id": "c9f64231-ee76-497b-baf1-0ccbfa3ada0c",
   "metadata": {},
   "outputs": [],
   "source": [
    "zg_np = zg.data.reshape([years,days,zg.shape[1],zg.shape[2]]) #separate time axis into from yaers*days to years, daysa\n",
    "zg_np.shape"
   ]
  },
  {
   "cell_type": "code",
   "execution_count": null,
   "id": "04f40422-b099-4ce8-ad7f-5a25202832b1",
   "metadata": {},
   "outputs": [],
   "source": [
    "zg_np_ano = (zg_np - zg_np.mean(axis=0)) #remove seasonal cycle\n",
    "zg_np_ano.shape"
   ]
  },
  {
   "cell_type": "code",
   "execution_count": null,
   "id": "40ac3028-1c0b-4ec4-b7c2-e850d8e6a065",
   "metadata": {},
   "outputs": [],
   "source": [
    "zg_np_ano_season = zg_np_ano.mean(axis=1)\n",
    "zg_np_ano_season.shape"
   ]
  },
  {
   "cell_type": "code",
   "execution_count": null,
   "id": "69225085-83f5-40d2-8cca-7ad02254aff4",
   "metadata": {},
   "outputs": [],
   "source": [
    "zg_latitudinal = zg_np_ano_season.mean(axis=2)\n",
    "zg_latitudinal.shape"
   ]
  },
  {
   "cell_type": "code",
   "execution_count": null,
   "id": "142e50e5-4f41-49c6-a853-c90607d1726b",
   "metadata": {},
   "outputs": [],
   "source": [
    "trends = np.zeros([zg_latitudinal.shape[0],zg_latitudinal.shape[1]])\n",
    "for lat in range(zg.shape[1]):\n",
    "    trends[:,lat] = remove_trend(zg_latitudinal[:,lat])"
   ]
  },
  {
   "cell_type": "code",
   "execution_count": null,
   "id": "ccc388af-9443-4aec-b84e-eef62749d06b",
   "metadata": {},
   "outputs": [],
   "source": [
    "plt.figure()\n",
    "c = plt.contourf(trends.T)\n",
    "plt.xlabel('year')\n",
    "plt.ylabel('latitude')\n",
    "plt.title('ZG seasonal trend [m]',loc='left')\n",
    "# plt.yticks( np.arange(0,360,40),np.arange(0,90,10),fontsize =15)\n",
    "plt.yticks(np.arange(0,zg.shape[1]-1,40), np.arange(np.int64(zg.latitude.values[0]),np.int64(zg.latitude.values[-1]),10))\n",
    "plt.xticks(np.arange(0,years,10),np.arange(y[0],y[-1],10),fontsize = 14, rotation = 340)\n",
    "plt.colorbar(c)\n",
    "plt.show()"
   ]
  },
  {
   "cell_type": "code",
   "execution_count": null,
   "id": "3bf0a3c6-c6ed-4c03-a788-8fcb512cfcc1",
   "metadata": {},
   "outputs": [],
   "source": [
    "np.arange(zg.latitude.values[0],zg.latitude.values[-1],10)"
   ]
  },
  {
   "cell_type": "code",
   "execution_count": null,
   "id": "bd9fbe2b-5b56-416e-b343-03ec91fd487a",
   "metadata": {},
   "outputs": [],
   "source": [
    "zg.latitude.values[0]"
   ]
  },
  {
   "cell_type": "code",
   "execution_count": null,
   "id": "64653f76-1a20-4079-a788-33943c6bd2be",
   "metadata": {},
   "outputs": [],
   "source": [
    "np.int64(zg.latitude.values[-1])"
   ]
  },
  {
   "cell_type": "code",
   "execution_count": null,
   "id": "73bb2632-e568-4b2c-9df6-7533f11fcb1e",
   "metadata": {},
   "outputs": [],
   "source": [
    "test = xr.open_dataarray('/ClimateDynamics/MediumSpace/ClimateLearningFR/vmascolo/Data_ERA5/ANO_zg_latitudinal_fullres_MJJA.nc')"
   ]
  },
  {
   "cell_type": "code",
   "execution_count": null,
   "id": "c1986715-6ebf-4054-8fb7-246029e827eb",
   "metadata": {},
   "outputs": [],
   "source": [
    "test"
   ]
  },
  {
   "cell_type": "code",
   "execution_count": null,
   "id": "2d90bb6d-3e9e-4e34-9485-3688af20bde2",
   "metadata": {},
   "outputs": [],
   "source": [
    "test2 = xr.open_dataarray('/ClimateDynamics/MediumSpace/ClimateLearningFR/vmascolo/Data_ERA5/ANO_zg.nc')"
   ]
  },
  {
   "cell_type": "code",
   "execution_count": null,
   "id": "cbf1a1d8-dbef-4acc-bab8-fdf66df0c5ef",
   "metadata": {},
   "outputs": [],
   "source": [
    "test2"
   ]
  }
 ],
 "metadata": {
  "kernelspec": {
   "display_name": "pi",
   "language": "python",
   "name": "pi"
  },
  "language_info": {
   "codemirror_mode": {
    "name": "ipython",
    "version": 3
   },
   "file_extension": ".py",
   "mimetype": "text/x-python",
   "name": "python",
   "nbconvert_exporter": "python",
   "pygments_lexer": "ipython3",
   "version": "3.10.8"
  }
 },
 "nbformat": 4,
 "nbformat_minor": 5
}
