{
 "cells": [
  {
   "cell_type": "code",
   "execution_count": null,
   "id": "fea5949a-4103-4e66-928f-4937b6765f35",
   "metadata": {},
   "outputs": [],
   "source": [
    "import numpy as np\n",
    "import matplotlib\n",
    "import matplotlib.pyplot as plt\n",
    "%matplotlib widget\n",
    "matplotlib.rc('font', size=18)\n",
    "default_colors = plt.rcParams['axes.prop_cycle'].by_key()['color']\n",
    "\n",
    "\n",
    "import pandas as pd\n",
    "import xarray as xr"
   ]
  },
  {
   "cell_type": "code",
   "execution_count": null,
   "id": "b6c9ce54-bdec-4f1b-aa8e-7cba2309ac01",
   "metadata": {},
   "outputs": [],
   "source": [
    "def daily_mean(da:xr.DataArray):\n",
    "    return da.resample(time='1D').mean().assign_coords({'time': da.time.resample(time='1D').mean()})"
   ]
  },
  {
   "cell_type": "code",
   "execution_count": null,
   "id": "04f5abef-4120-488d-b7ed-250adfc9fabb",
   "metadata": {},
   "outputs": [],
   "source": [
    "# ds1 = xr.open_dataset('raw/zg/zg500_0N-90N_MJJA_1940.nc')\n",
    "ds2 = xr.open_dataarray('raw/zg/zg500_0N-90N_MJJA_1941.nc')\n",
    "ds2"
   ]
  },
  {
   "cell_type": "code",
   "execution_count": null,
   "id": "deaa35a4-cf74-49f0-b0be-422d71ae5de7",
   "metadata": {},
   "outputs": [],
   "source": [
    "ds1_daily = daily_mean(ds1.z)\n",
    "ds1_daily"
   ]
  },
  {
   "cell_type": "code",
   "execution_count": null,
   "id": "f93ef834-cc5f-499e-8ed1-6f3acc99baa6",
   "metadata": {},
   "outputs": [],
   "source": [
    "ds2_daily = daily_mean(ds2.z)\n",
    "ds2_daily"
   ]
  },
  {
   "cell_type": "code",
   "execution_count": null,
   "id": "a015d120-99bd-4b49-b02d-1035456096be",
   "metadata": {},
   "outputs": [],
   "source": [
    "ds_daily = xr.concat([ds1_daily, ds2_daily], 'time')\n",
    "ds_daily"
   ]
  },
  {
   "cell_type": "code",
   "execution_count": null,
   "id": "52ff71d5-aa55-4542-802f-62e75933a5ed",
   "metadata": {},
   "outputs": [],
   "source": [
    "ds1_daily = ds1.z.groupby('time.dayofyear').mean('time')\n",
    "ds1_daily"
   ]
  },
  {
   "cell_type": "code",
   "execution_count": null,
   "id": "d0340623-4c0c-4067-acfa-a170ed80681a",
   "metadata": {},
   "outputs": [],
   "source": [
    "ds1.time.resample(time='1D').mean()"
   ]
  },
  {
   "cell_type": "code",
   "execution_count": null,
   "id": "7da6b554-5160-489e-b1ca-b27877c868df",
   "metadata": {},
   "outputs": [],
   "source": [
    "new_time = ds1.time.data[3::8] + int(1.5*3600*1e9)"
   ]
  },
  {
   "cell_type": "code",
   "execution_count": null,
   "id": "3fd25286-cf5e-4698-a48a-13a5ddd9469f",
   "metadata": {},
   "outputs": [],
   "source": [
    "ds1_daily1 = ds1_daily.rename({'dayofyear': 'time'}).assign_coords({'time': new_time})"
   ]
  },
  {
   "cell_type": "code",
   "execution_count": null,
   "id": "33edeca1-98bc-487f-aade-11a64b2f55ae",
   "metadata": {},
   "outputs": [],
   "source": [
    "ds1_daily2 = ds1.z.resample(time='1D').mean().assign_coords({'time': ds1.time.resample(time='1D').mean()})"
   ]
  },
  {
   "cell_type": "code",
   "execution_count": null,
   "id": "2b1199e5-e0c3-44aa-a150-226c344f4750",
   "metadata": {},
   "outputs": [],
   "source": [
    "(ds1_daily == ds1_daily1)"
   ]
  },
  {
   "cell_type": "code",
   "execution_count": null,
   "id": "4cfb2bd3-d60c-4590-9077-2f9ed90b8a6b",
   "metadata": {},
   "outputs": [],
   "source": [
    "ds1_daily2"
   ]
  },
  {
   "cell_type": "code",
   "execution_count": null,
   "id": "213c57e0-325a-4d20-9c35-e63afc7196a5",
   "metadata": {},
   "outputs": [],
   "source": [
    "ds1_daily1"
   ]
  },
  {
   "cell_type": "code",
   "execution_count": null,
   "id": "14f1477c-f3af-4546-a329-1c4394044609",
   "metadata": {},
   "outputs": [],
   "source": []
  }
 ],
 "metadata": {
  "kernelspec": {
   "display_name": "ink",
   "language": "python",
   "name": "ink"
  },
  "language_info": {
   "codemirror_mode": {
    "name": "ipython",
    "version": 3
   },
   "file_extension": ".py",
   "mimetype": "text/x-python",
   "name": "python",
   "nbconvert_exporter": "python",
   "pygments_lexer": "ipython3",
   "version": "3.10.8"
  }
 },
 "nbformat": 4,
 "nbformat_minor": 5
}
