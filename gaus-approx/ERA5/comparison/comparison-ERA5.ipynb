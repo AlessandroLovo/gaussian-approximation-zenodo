{
 "cells": [
  {
   "cell_type": "markdown",
   "id": "b319687a",
   "metadata": {},
   "source": [
    "# Comparison\n",
    "\n",
    "In this notebook we compare composite maps and optimal projection patterns"
   ]
  },
  {
   "cell_type": "code",
   "execution_count": null,
   "id": "cb5c2ed0-06b5-4dca-ae7b-095bfe68d12b",
   "metadata": {},
   "outputs": [],
   "source": [
    "import numpy as np\n",
    "import matplotlib\n",
    "import matplotlib.pyplot as plt\n",
    "%matplotlib widget\n",
    "matplotlib.rc('font', size=18)\n",
    "default_colors = plt.rcParams['axes.prop_cycle'].by_key()['color']\n",
    "\n",
    "\n",
    "import pandas as pd\n",
    "import xarray as xr\n",
    "import cartopy.crs as ccrs\n",
    "\n",
    "from tqdm.notebook import tqdm\n",
    "\n",
    "import sys\n",
    "sys.path.append('../../../Climate-Learning/')\n",
    "\n",
    "import general_purpose.utilities as ut\n",
    "import general_purpose.cartopy_plots as cplt\n",
    "import general_purpose.uplotlib as uplt\n",
    "import general_purpose.tables as tbl\n",
    "\n",
    "# log to stdout\n",
    "import logging\n",
    "logging.getLogger().level = logging.INFO\n",
    "logging.getLogger().handlers = [logging.StreamHandler(sys.stdout)]\n",
    "ut.indentation_sep = '  '\n",
    "\n",
    "HOME = '../../'"
   ]
  },
  {
   "cell_type": "code",
   "execution_count": null,
   "id": "1fe16c36-9ce6-49f8-a0b2-ba921bfe67f7",
   "metadata": {},
   "outputs": [],
   "source": [
    "lon = np.load('../../lon.npy')\n",
    "lat = np.load('../../lat.npy')\n",
    "LON, LAT = np.meshgrid(lon, lat)"
   ]
  },
  {
   "cell_type": "markdown",
   "id": "8cec8660-3890-42e2-a1d4-14acc548e528",
   "metadata": {
    "tags": []
   },
   "source": [
    "## Figure 11"
   ]
  },
  {
   "cell_type": "code",
   "execution_count": null,
   "id": "56378fa9-43ac-43b3-a768-930add456a3c",
   "metadata": {},
   "outputs": [],
   "source": [
    "mask = np.ones((22,128,1), dtype=bool)\n",
    "reshaper = ut.Reshaper(mask)\n",
    "reshaper.surviving_coords"
   ]
  },
  {
   "cell_type": "markdown",
   "id": "e9ca7ea4-89ac-4679-8402-8208f5bb0991",
   "metadata": {},
   "source": [
    "### PLASIM 80y Z composites"
   ]
  },
  {
   "cell_type": "code",
   "execution_count": null,
   "id": "ecca0a4e-620a-4abc-8b45-914792d53b3f",
   "metadata": {},
   "outputs": [],
   "source": [
    "ds = xr.open_dataset('../../PLASIM/composites/composite_maps_T1_percent5_y80-Z.nc')\n",
    "ds"
   ]
  },
  {
   "cell_type": "code",
   "execution_count": null,
   "id": "dffdb8a1-e555-4f1f-8672-e94b4b2166aa",
   "metadata": {},
   "outputs": [],
   "source": [
    "ga = ds.gaussian_composite.data.reshape(4,22,128,3)\n",
    "ga.shape"
   ]
  },
  {
   "cell_type": "code",
   "execution_count": null,
   "id": "33f20377-aa61-42ce-bdc1-dbf8ddd78c2b",
   "metadata": {},
   "outputs": [],
   "source": [
    "ga_Z = ga[...,1:2]\n",
    "ga_Z.shape"
   ]
  },
  {
   "cell_type": "code",
   "execution_count": null,
   "id": "fe5594c8-6db2-467d-8ad8-fe9f3b9e2b67",
   "metadata": {},
   "outputs": [],
   "source": [
    "## area weights\n",
    "\n",
    "coslat = np.cos(lat*np.pi/180)\n",
    "aw = (np.ones(mask.shape).T * coslat).T\n",
    "aw *= mask\n",
    "aw /= np.sum(aw)\n",
    "aw.shape"
   ]
  },
  {
   "cell_type": "code",
   "execution_count": null,
   "id": "4fa485eb-6d49-4fb9-afcb-d718e99badb5",
   "metadata": {},
   "outputs": [],
   "source": [
    "awZ = aw[...,1:2]\n",
    "awZ /= np.sum(awZ)\n",
    "awZ.shape"
   ]
  },
  {
   "cell_type": "code",
   "execution_count": null,
   "id": "bd98f301-f85c-40d5-839e-5bdbe8c850ef",
   "metadata": {},
   "outputs": [],
   "source": [
    "norm = l2(ga_Z*np.sqrt(awZ), axis =(1,2,3))\n",
    "ga_Z = (ga_Z.T / norm).T\n",
    "ga_Z.shape"
   ]
  },
  {
   "cell_type": "code",
   "execution_count": null,
   "id": "cd152f97-0dd0-4240-b49a-726641ce6e8e",
   "metadata": {},
   "outputs": [],
   "source": [
    "# This plots the first column of Fig.11\n",
    "for i,tau in enumerate(ds.tau.data):\n",
    "    axs = cplt.mfp(LON, LAT, ga_Z[i], one_fig_layout=110, figsize=(5,5), fig_num=8+i, colorbar='individual', titles=f'|C|={np.round(norm[i],2)}',mx=4,put_colorbar=False,)\n",
    "    fig = axs[0].get_figure()\n",
    "    # fig.savefig(f'{HOME}PLASIM-y80_C_T1_tau{tau}.pdf')"
   ]
  },
  {
   "cell_type": "markdown",
   "id": "3cfaf61f-3356-4c12-804b-d3e8a7dff0d8",
   "metadata": {},
   "source": [
    "### ERA5 composites"
   ]
  },
  {
   "cell_type": "code",
   "execution_count": null,
   "id": "1a6f60b8-e64d-4329-b9c1-34db26e153eb",
   "metadata": {},
   "outputs": [],
   "source": [
    "root_folder = '../ERA5/y83'\n",
    "\n",
    "Model = 'ERA5'\n",
    "\n",
    "# Northern Hemisphere\n",
    "sector = ''\n",
    "mask = 1"
   ]
  },
  {
   "cell_type": "code",
   "execution_count": null,
   "id": "a88d0ccb-4934-45ec-b4bc-0541d59c6aa9",
   "metadata": {},
   "outputs": [],
   "source": [
    "import general_purpose.cartopy_plots as cplt\n",
    "\n",
    "lon = np.load(f'{root_folder}/lon.npy')\n",
    "lon = cplt.monotonize_longitude(lon)\n",
    "lat = np.load(f'{root_folder}/lat.npy')\n",
    "LON, LAT = np.meshgrid(lon,lat)\n",
    "\n",
    "def retrieve_maps(T, tau, percent):\n",
    "    folder = f'{root_folder}/T{T}/tau{tau}/percent{percent}'\n",
    "    comp = np.load(f'{folder}/X_comp.npy')\n",
    "    comp_std = np.load(f'{folder}/X_comp_std.npy')\n",
    "    comp_ga = np.load(f'{folder}/X_comp_GA.npy')\n",
    "    \n",
    "    return comp, comp_ga, comp_std\n",
    "\n",
    "_,_,Xcstd = retrieve_maps(14,0,5)\n",
    "reshaper = ut.Reshaper(Xcstd != 0)\n",
    "print(reshaper.surviving_coords)"
   ]
  },
  {
   "cell_type": "code",
   "execution_count": null,
   "id": "2c1e8497-af41-44be-8b55-849d89d7e802",
   "metadata": {},
   "outputs": [],
   "source": [
    "T = 1\n",
    "taus = [0,2,4,6]\n",
    "percent = 5"
   ]
  },
  {
   "cell_type": "code",
   "execution_count": null,
   "id": "144d6c37-fc63-4a55-b898-ab9df76c90df",
   "metadata": {},
   "outputs": [],
   "source": [
    "norms = np.round(ds.total_aw_norm.sel(T=T, percent = percent, tau = taus).data,2)"
   ]
  },
  {
   "cell_type": "code",
   "execution_count": null,
   "id": "c47ec79e-286e-433c-b8c9-f2e06de84501",
   "metadata": {},
   "outputs": [],
   "source": [
    "for i,tau in enumerate(taus):\n",
    "    comp, comp_ga, comp_std = retrieve_maps(T, tau, percent)\n",
    "    axs = cplt.mfp(LON, LAT, comp_ga/norms[i], one_fig_layout=110, figsize=(5,5), fig_num=8+i, colorbar='individual', titles=f'|C|={norms[i]}',mx=4,put_colorbar=False,)\n",
    "    fig = axs[0].get_figure()\n",
    "    # fig.savefig(f'{HOME}ERA5_C_T{T}_tau{tau}.pdf')"
   ]
  },
  {
   "cell_type": "markdown",
   "id": "01e94513-803c-47f2-bcd4-72e2dfa512d2",
   "metadata": {},
   "source": [
    "### PLASIM 80y Z projection patterns"
   ]
  },
  {
   "cell_type": "code",
   "execution_count": null,
   "id": "08bce2ab-e3f6-46bf-a34e-b77ad0ce0890",
   "metadata": {},
   "outputs": [],
   "source": [
    "Ms = xr.open_dataarray('../../PLASIM/committor/projection_patterns_T1_y80_epsilonbest_fold0-Z.nc')\n",
    "Ms"
   ]
  },
  {
   "cell_type": "code",
   "execution_count": null,
   "id": "a3f4a7ce-6f0a-4c98-976b-3ad3ef4cb97c",
   "metadata": {},
   "outputs": [],
   "source": [
    "ss = xr.open_dataarray('../../PLASIM/committor/Skill-GA_percent5_y80_epsilonbest-Z.nc').sel(T=Ms['T'], tau=Ms['tau'])\n",
    "ss"
   ]
  },
  {
   "cell_type": "code",
   "execution_count": null,
   "id": "5d124d06-4a45-4cd3-90dc-6725429b4a00",
   "metadata": {},
   "outputs": [],
   "source": [
    "_proj = []\n",
    "titles = []\n",
    "nfig = len(ss['tau'].data)\n",
    "for tau in ss['tau'].data:\n",
    "    sss = ss.sel(tau=tau)\n",
    "    eps = int(np.log10(sss['reg_c'].data.item()))\n",
    "    proj = reshaper.inv_reshape(Ms.sel(tau=tau).data.squeeze())\n",
    "    S = uplt.xr_avg(sss, 'fold').data.squeeze().item()\n",
    "    _proj.append(proj)\n",
    "    \n",
    "    # pretit = fr'$\\tau={tau}$' + '\\n'\n",
    "    pretit = ''\n",
    "    \n",
    "    titles.append(fr'{pretit}$\\epsilon_\\mathrm{{best}}=10^{{{eps}}}, \\mathcal{{S}} = {S:L}$')\n",
    "    \n",
    "_proj = np.concatenate(_proj, axis=-1)\n",
    "_ = cplt.multiple_field_plot(LON, LAT, _proj, titles=titles, colorbar='shared', mode='pcolormesh', draw_gridlines=False,\n",
    "                             put_colorbar=False,\n",
    "                             # one_fig_layout=100+10*nfig, figsize=(nfig*5,5),\n",
    "                             figsize=(5,5),\n",
    "                             mx=4)"
   ]
  },
  {
   "cell_type": "code",
   "execution_count": null,
   "id": "319c10ed-471f-4ecf-a528-2b29bc6ad692",
   "metadata": {},
   "outputs": [],
   "source": [
    "for i,tau in enumerate(ss['tau'].data):\n",
    "    fig = _[i].get_figure()\n",
    "    fig.savefig(f'{HOME}/PLASIM-y80_M_T1_tau{tau}.pdf')"
   ]
  },
  {
   "cell_type": "markdown",
   "id": "6b53be8f-2188-47cd-a2b9-26808646d1da",
   "metadata": {},
   "source": [
    "### ERA5 projection patterns"
   ]
  },
  {
   "cell_type": "code",
   "execution_count": null,
   "id": "6ea81abf-713c-45f8-9475-86ddaa29715c",
   "metadata": {},
   "outputs": [],
   "source": [
    "Ms = xr.open_dataarray('../committor/projection_patterns_T1_epsilonbest_fold0.nc')\n",
    "Ms"
   ]
  },
  {
   "cell_type": "code",
   "execution_count": null,
   "id": "e32c32ed-9280-4971-91bc-e34ead54ddab",
   "metadata": {},
   "outputs": [],
   "source": [
    "ss = xr.open_dataarray('../committor/Skill-GA_percent5_epsilonbest.nc').sel(T=Ms['T'], tau=Ms['tau'])\n",
    "ss"
   ]
  },
  {
   "cell_type": "code",
   "execution_count": null,
   "id": "0e740c38-c507-4d43-89d6-1a9e22509a13",
   "metadata": {},
   "outputs": [],
   "source": [
    "_proj = []\n",
    "titles = []\n",
    "nfig = len(ss['tau'].data)\n",
    "for tau in ss['tau'].data:\n",
    "    sss = ss.sel(tau=tau)\n",
    "    eps = int(np.log10(sss['reg_c'].data.item()))\n",
    "    proj = reshaper.inv_reshape(Ms.sel(tau=tau).data.squeeze())\n",
    "    S = uplt.xr_avg(sss, 'fold').data.squeeze().item()\n",
    "    _proj.append(proj)\n",
    "    \n",
    "    pretit = fr'$\\tau={tau}$' + '\\n'\n",
    "    pretit = ''\n",
    "    \n",
    "    titles.append(fr'{pretit}$\\epsilon_\\mathrm{{best}}=10^{{{eps}}}, \\mathcal{{S}} = {S:L}$')\n",
    "    \n",
    "_proj = np.concatenate(_proj, axis=-1)\n",
    "_ = cplt.multiple_field_plot(LON, LAT, _proj, titles=titles, colorbar='shared', mode='pcolormesh', draw_gridlines=False,\n",
    "                             put_colorbar=False,\n",
    "                             # one_fig_layout=100+10*nfig, figsize=(nfig*5,5),\n",
    "                             figsize=(5,5),\n",
    "                             mx=4)"
   ]
  },
  {
   "cell_type": "code",
   "execution_count": null,
   "id": "74bf7e5a-65ac-4faa-81c5-a8980d22666f",
   "metadata": {},
   "outputs": [],
   "source": [
    "for i,tau in enumerate(ss['tau'].data):\n",
    "    fig = _[i].get_figure()\n",
    "    fig.savefig(f'{HOME}/ERA5_M_T1_tau{tau}.pdf')"
   ]
  },
  {
   "cell_type": "markdown",
   "id": "ead79372-181f-4209-87ff-8fcbac1c8835",
   "metadata": {},
   "source": [
    "## Figure 1"
   ]
  },
  {
   "cell_type": "code",
   "execution_count": null,
   "id": "1b06cfc3-7c71-42dd-8d33-275e54f76192",
   "metadata": {},
   "outputs": [],
   "source": [
    "root_folder = 'y83'\n",
    "\n",
    "Model = 'ERA5'\n",
    "\n",
    "# Northern Hemisphere\n",
    "sector = ''\n",
    "mask = 1"
   ]
  },
  {
   "cell_type": "code",
   "execution_count": null,
   "id": "27e81ce4-e87a-4d51-a105-4bf4387cf588",
   "metadata": {},
   "outputs": [],
   "source": [
    "lon = np.load(f'{root_folder}/lon.npy')\n",
    "lon = cplt.monotonize_longitude(lon)\n",
    "lat = np.load(f'{root_folder}/lat.npy')\n",
    "LON, LAT = np.meshgrid(lon,lat)\n",
    "\n",
    "def retrieve_maps(T, tau, percent):\n",
    "    folder = f'{root_folder}/T{T}/tau{tau}/percent{percent}'\n",
    "    comp = np.load(f'{folder}/X_comp.npy')\n",
    "    comp_std = np.load(f'{folder}/X_comp_std.npy')\n",
    "    comp_ga = np.load(f'{folder}/X_comp_GA.npy')\n",
    "    \n",
    "    return comp, comp_ga, comp_std\n",
    "\n",
    "_,_,Xcstd = retrieve_maps(14,0,5)\n",
    "reshaper = ut.Reshaper(Xcstd != 0)\n",
    "print(reshaper.surviving_coords)"
   ]
  },
  {
   "cell_type": "code",
   "execution_count": null,
   "id": "e33dcf38-b79f-46b4-93f2-27a06c5581dc",
   "metadata": {},
   "outputs": [],
   "source": [
    "T = 14\n",
    "tau=0\n",
    "\n",
    "for percent in [3,5]:\n",
    "    compERA, comp_gaERA, comp_stdERA = retrieve_maps(T,tau,percent)\n",
    "    compCESM = xr.open_dataset('composites_CESM.nc').empirical_composite.sel(percent = percent).data.reshape([22,128,1])\n",
    "    \n",
    "    if percent == 5:\n",
    "        compPLASIM = xr.open_dataset('../../PLASIM/composites/composite_maps_percent5_y8000.nc').empirical_composite.sel(T=T,tau=tau).data.reshape(22,128,3)[:,:,1].reshape(22,128,1)\n",
    "    else:\n",
    "        compPLASIM= np.load('../../PLASIM/composites/composite_map_T14_tau0_percent3_y8000-Z.npy')\n",
    "    \n",
    "    \n",
    "    composites = np.concatenate([compERA,compPLASIM,compCESM],axis=2)\n",
    "    \n",
    "    axs = cplt.mfp(LON,LAT,composites,projections=ccrs.Orthographic(central_latitude=90),\n",
    "                   extents=None,one_fig_layout=130,colorbar='shared', put_colorbar= False, figsize=(13,5),mx =1.05,fig_num=8+np.random.randint(0,50),titles=None)\n",
    "    \n",
    "    fig = axs[0].get_figure()\n",
    "    fig.savefig(f'{HOME}composite_{percent}.pdf')\n",
    "    "
   ]
  },
  {
   "cell_type": "code",
   "execution_count": null,
   "id": "8e177650-ecd9-4002-b08d-f7d428edb1cc",
   "metadata": {},
   "outputs": [],
   "source": [
    "plt.close(1)\n",
    "fig,ax = plt.subplots(figsize=(0.5,10), num=1)\n",
    "plt.colorbar(axs[0], cax=ax, extend='both')\n",
    "fig.tight_layout()\n",
    "plt.savefig(f'{HOME}colorbar-composite.pdf',bbox_inches = 'tight')"
   ]
  }
 ],
 "metadata": {
  "kernelspec": {
   "display_name": "pi",
   "language": "python",
   "name": "pi"
  },
  "language_info": {
   "codemirror_mode": {
    "name": "ipython",
    "version": 3
   },
   "file_extension": ".py",
   "mimetype": "text/x-python",
   "name": "python",
   "nbconvert_exporter": "python",
   "pygments_lexer": "ipython3",
   "version": "3.10.8"
  }
 },
 "nbformat": 4,
 "nbformat_minor": 5
}
