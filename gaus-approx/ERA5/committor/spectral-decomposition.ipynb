{
 "cells": [
  {
   "cell_type": "markdown",
   "id": "61b5b8ba",
   "metadata": {},
   "source": [
    "# Spectral decomposition\n",
    "\n",
    "In this notebook we perform the EOF analysis of the optimal projection patterns of the gaussian approximation applied to the ERA5 dataset"
   ]
  },
  {
   "cell_type": "code",
   "execution_count": null,
   "id": "bb3dca6d-ff7b-41d1-9767-bc1f089346ee",
   "metadata": {},
   "outputs": [],
   "source": [
    "import numpy as np\n",
    "import matplotlib\n",
    "import matplotlib.pyplot as plt\n",
    "%matplotlib widget\n",
    "matplotlib.rc('font', size=18)\n",
    "default_colors = plt.rcParams['axes.prop_cycle'].by_key()['color']\n",
    "\n",
    "\n",
    "import pandas as pd\n",
    "import xarray as xr\n",
    "\n",
    "from tqdm.notebook import tqdm\n",
    "\n",
    "import sys\n",
    "sys.path.append('../../../Climate-Learning/')\n",
    "\n",
    "import general_purpose.utilities as ut\n",
    "import general_purpose.cartopy_plots as cplt\n",
    "import general_purpose.uplotlib as uplt\n",
    "# import general_purpose.tables as tbl\n",
    "\n",
    "# log to stdout\n",
    "import logging\n",
    "logging.getLogger().level = logging.INFO\n",
    "logging.getLogger().handlers = [logging.StreamHandler(sys.stdout)]\n",
    "ut.indentation_sep = '  '\n",
    "\n",
    "HOME = '../../'"
   ]
  },
  {
   "cell_type": "markdown",
   "id": "3acc6b56-69a8-4be2-8d4b-6f8030ac3926",
   "metadata": {},
   "source": [
    "## Load data"
   ]
  },
  {
   "cell_type": "code",
   "execution_count": null,
   "id": "20219551-7392-4211-99ad-703b0d1c4c8a",
   "metadata": {},
   "outputs": [],
   "source": [
    "sys.path.append('../../../Climate-Learning/PLASIM/')\n",
    "\n",
    "import Learn2_new as ln\n",
    "\n",
    "import probabilistic_regression as pr\n",
    "pr.enable()"
   ]
  },
  {
   "cell_type": "code",
   "execution_count": null,
   "id": "d4995a5b-cc0c-4cf2-b8eb-f423eb480636",
   "metadata": {},
   "outputs": [],
   "source": [
    "## TODO: change mylocal\n",
    "config_dict = ut.json2dict('config_T14_tau0_epsilon1.json')\n",
    "\n",
    "ut.set_values_recursive(config_dict, dict(year_permutation=np.array(ut.extract_nested(config_dict, 'year_permutation'))))"
   ]
  },
  {
   "cell_type": "code",
   "execution_count": null,
   "id": "43f9f12f-1db5-4440-8e67-11f10ab9a7f1",
   "metadata": {},
   "outputs": [],
   "source": [
    "trainer = ln.Trainer(config=config_dict)"
   ]
  },
  {
   "cell_type": "code",
   "execution_count": null,
   "id": "94c5edf5-4b38-4c01-93c5-f083808c4de3",
   "metadata": {},
   "outputs": [],
   "source": [
    "_ = trainer.prepare_data()"
   ]
  },
  {
   "cell_type": "code",
   "execution_count": null,
   "id": "abe47bc1-9c71-47ac-9b02-87232b50c603",
   "metadata": {},
   "outputs": [],
   "source": [
    "fold = 0\n",
    "X_tr, A_tr, X_va, A_va_ = ln.k_fold_cross_val_split(fold, trainer.X, trainer.Y, nfolds=ut.extract_nested(config_dict, 'nfolds'))\n",
    "\n",
    "X_std = np.std(X_tr, axis=0)\n",
    "reshaper = ut.Reshaper(X_std != 0)\n",
    "X_std = reshaper.reshape(X_std)\n",
    "X_mean = reshaper.reshape(np.mean(X_tr, axis=0))\n",
    "\n",
    "X_tr = (reshaper.reshape(X_tr) - X_mean)/X_std\n",
    "X_va = (reshaper.reshape(X_va) - X_mean)/X_std\n",
    "\n",
    "X_tr.shape, X_va.shape"
   ]
  },
  {
   "cell_type": "code",
   "execution_count": null,
   "id": "fde1da3a-1937-442c-8137-355d4a27b1af",
   "metadata": {},
   "outputs": [],
   "source": [
    "from scipy import sparse\n",
    "W = sparse.load_npz('W.npz').toarray()\n",
    "W.shape"
   ]
  },
  {
   "cell_type": "code",
   "execution_count": null,
   "id": "0878e096-be0c-4d22-bc9a-b3b574c9fc9a",
   "metadata": {},
   "outputs": [],
   "source": [
    "lon = np.load('../../lon.npy')\n",
    "lat = np.load('../../lat.npy')\n",
    "\n",
    "LON, LAT = np.meshgrid(lon,lat)"
   ]
  },
  {
   "cell_type": "markdown",
   "id": "3b4fe9c0-b324-497c-8447-aa5bd9e53c6e",
   "metadata": {},
   "source": [
    "## Compute covariance matrix"
   ]
  },
  {
   "cell_type": "code",
   "execution_count": null,
   "id": "0b2b1a3e-75f7-412b-a066-1ebadbc0a37d",
   "metadata": {},
   "outputs": [],
   "source": [
    "XAs = np.concatenate([X_tr,A_tr.reshape(-1,1)], axis=-1)\n",
    "XAs_cov = np.cov(XAs.T)\n",
    "\n",
    "Sigma_XX = XAs_cov[:-1,:-1]\n",
    "Sigma_XA = XAs_cov[-1,:-1]\n",
    "\n",
    "Sigma_XX.shape"
   ]
  },
  {
   "cell_type": "markdown",
   "id": "cb014dcc-e2bd-45dd-ba76-0d3db0dd915f",
   "metadata": {},
   "source": [
    "## EOF decomposition"
   ]
  },
  {
   "cell_type": "code",
   "execution_count": null,
   "id": "bee268b0-391e-4cb6-ae15-a78f4ac078c4",
   "metadata": {},
   "outputs": [],
   "source": [
    "eigvals, eigvecs = np.linalg.eig(Sigma_XX)\n",
    "\n",
    "isort = np.argsort(eigvals)[::-1]\n",
    "eigvals = eigvals[isort]\n",
    "eigvecs = eigvecs[:,isort]\n",
    "\n",
    "cs = eigvecs.T @ Sigma_XA # EOF representation of Correlation map"
   ]
  },
  {
   "cell_type": "markdown",
   "id": "40c7cb40-7413-4f9e-bebd-2c9df4d4b7eb",
   "metadata": {},
   "source": [
    "### Figure S6"
   ]
  },
  {
   "cell_type": "code",
   "execution_count": null,
   "id": "d2810230-529a-4343-89fe-64339d717f13",
   "metadata": {},
   "outputs": [],
   "source": [
    "ns = np.array([1, 100, 300, 1000]) - 1\n",
    "tits = [fr'$n = {n+1}, \\lambda_n = {ut.scientific_notation(eigvals[n], 1)}$' for n in ns]\n",
    "eos = np.concatenate([reshaper.inv_reshape(eigvecs[:,n]) for n in ns], axis=-1)\n",
    "\n",
    "_ = cplt.mfp(LON,LAT, eos,\n",
    "         titles = tits,\n",
    "         projections = cplt.ccrs.Orthographic(central_latitude=90),\n",
    "         extents=None,\n",
    "         one_fig_layout=100 + 10*len(ns),\n",
    "         figsize=(5*len(ns), 5),\n",
    "        )\n",
    "\n",
    "fig = _[0].get_figure()\n",
    "\n",
    "# fig.savefig(f'{HOME}/eofs.pdf')"
   ]
  },
  {
   "cell_type": "markdown",
   "id": "49b6f080-20c0-430e-9956-a67ac4c678d7",
   "metadata": {},
   "source": [
    "### Figure S7"
   ]
  },
  {
   "cell_type": "code",
   "execution_count": null,
   "id": "4cb2de38-7d63-4d66-9866-42bb68e1be1f",
   "metadata": {},
   "outputs": [],
   "source": [
    "def running_mean(a, win, mode='mirror'):\n",
    "    assert win % 2, f'win must be odd for this algorithm'\n",
    "    if mode == 'mirror':\n",
    "        a_ = np.concatenate([a[1:win//2+1][::-1], a, a[-(win//2)-1:-1][::-1]])\n",
    "        assert a_.shape[0] == a.shape[0] + win - 1, f'extended array.shape = {a_.shape}'\n",
    "        return np.convolve(a_, np.ones(win)/win, mode='valid')\n",
    "    elif mode == 'keep':\n",
    "        return np.concatenate([a[:win//2], np.convolve(a, np.ones(win)/win, mode='valid'), a[-(win//2):]])"
   ]
  },
  {
   "cell_type": "code",
   "execution_count": null,
   "id": "2832e375-dad5-4eff-bc90-76bc36718e92",
   "metadata": {},
   "outputs": [],
   "source": [
    "Sigma_XA.shape"
   ]
  },
  {
   "cell_type": "code",
   "execution_count": null,
   "id": "84cc08f4-9e1c-4511-b423-1459ac1ebaef",
   "metadata": {},
   "outputs": [],
   "source": [
    "epss = np.array([0, 0.001, 0.01, 0.1, 1, 1e1, 1e2, 1e3, 1e5])\n",
    "css = []\n",
    "chs = []\n",
    "\n",
    "# L2 reg\n",
    "for eps in epss:\n",
    "    css.append(cs/(eigvals + eps))\n",
    "    \n",
    "# H2 reg\n",
    "for eps in tqdm(epss):\n",
    "    chs.append(eigvecs.T @ (np.linalg.inv(Sigma_XX + eps*W) @ Sigma_XA))"
   ]
  },
  {
   "cell_type": "code",
   "execution_count": null,
   "id": "767e6f7a-34a9-404a-8909-d23b4df19f3c",
   "metadata": {},
   "outputs": [],
   "source": [
    "plt.close(10)\n",
    "fig,ax = plt.subplots(num=10, figsize=(9,7))\n",
    "\n",
    "win = 11\n",
    "colors = plt.cm.jet(np.linspace(0,1, len(epss)))\n",
    "\n",
    "xexp = 0.5\n",
    "\n",
    "x = (np.arange(len(cs)) + 1)**xexp\n",
    "\n",
    "for i, eps in enumerate(epss):\n",
    "    sp = np.exp(running_mean(np.log(np.abs(css[i])), win))\n",
    "    plt.plot(x, sp/sp[0], color=colors[i], label=fr'$\\epsilon = {f\"10^{{{np.log10(eps):.0f}}}\" if eps else 0}$')\n",
    "    \n",
    "sp = np.exp(running_mean(np.log(np.abs(cs)), win))\n",
    "plt.semilogy(x, sp/sp[0], color='black', label='composite')\n",
    "\n",
    "for i, eps in enumerate(epss):\n",
    "    plt.semilogy(x, (eigvals + eps)/(eigvals[0] + eps), linestyle='dashed', color=colors[i])\n",
    "\n",
    "# plt.plot(x, (eigvals/eigvals[0]), color='green', linestyle='dashed', label=r'$\\lambda_n$')\n",
    "\n",
    "plt.legend(ncol=2)\n",
    "\n",
    "plt.xlabel('$n$')\n",
    "plt.ylabel('Normalized smoothed spectrum')\n",
    "plt.title(f'$L_2$ regularization')\n",
    "\n",
    "\n",
    "pticks = np.array([1, 10, 50, 200, 500, 1000, 2000, 2816])\n",
    "ax.set_xticks((pticks)**xexp)\n",
    "ax.set_xticklabels(pticks)\n",
    "ax.set_xlim(1,2817**xexp)\n",
    "\n",
    "plt.grid()\n",
    "\n",
    "\n",
    "fig.tight_layout()\n",
    "\n",
    "fig.savefig(f'{HOME}/EOF-L2.pdf')"
   ]
  },
  {
   "cell_type": "code",
   "execution_count": null,
   "id": "ff93953d-588a-487b-ad62-cb4faac85166",
   "metadata": {},
   "outputs": [],
   "source": [
    "We = eigvecs.T @ W @ eigvecs # representation of W in the EOF basis"
   ]
  },
  {
   "cell_type": "code",
   "execution_count": null,
   "id": "4045c362-de44-42d3-ac0c-cec37812e21b",
   "metadata": {},
   "outputs": [],
   "source": [
    "plt.close(10)\n",
    "fig,ax = plt.subplots(num=10, figsize=(9,7))\n",
    "\n",
    "win = 11\n",
    "colors = plt.cm.jet(np.linspace(0,1, len(epss)))\n",
    "\n",
    "xexp = 0.5\n",
    "\n",
    "x = (np.arange(len(cs)) + 1)**xexp\n",
    "\n",
    "for i, eps in enumerate(epss):\n",
    "    sp = np.exp(running_mean(np.log(np.abs(chs[i])), win))\n",
    "    plt.plot(x, sp/sp[0], color=colors[i], label=fr'$\\epsilon = {f\"10^{{{np.log10(eps):.0f}}}\" if eps else 0}$')\n",
    "    \n",
    "sp = np.exp(running_mean(np.log(np.abs(cs)), win))\n",
    "plt.semilogy(x, sp/sp[0], color='black', label='composite')\n",
    "    \n",
    "for i, eps in enumerate(epss):\n",
    "    \n",
    "    sp = eigvals + eps*np.diag(We)\n",
    "    plt.semilogy(x, sp/sp[0], color=colors[i], linestyle='dashed')\n",
    "    # plt.semilogy(x, (eigvals + eps)/(eigvals[0] + eps), linestyle='dashed', color=colors[i])\n",
    "    \n",
    "\n",
    "# plt.plot(x, (eigvals/eigvals[0]), color='green', linestyle='dashed', label=r'$\\lambda_n$')\n",
    "\n",
    "plt.legend(ncol=2)\n",
    "\n",
    "plt.xlabel('$n$')\n",
    "plt.ylabel('Normalized smoothed spectrum')\n",
    "plt.title(f'$H_2$ regularization')\n",
    "\n",
    "\n",
    "pticks = np.array([1, 10, 50, 200, 500, 1000, 2000, 2816])\n",
    "ax.set_xticks((pticks)**xexp)\n",
    "ax.set_xticklabels(pticks)\n",
    "ax.set_xlim(1,2817**xexp)\n",
    "\n",
    "plt.grid()\n",
    "\n",
    "fig.tight_layout()\n",
    "\n",
    "fig.savefig(f'{HOME}/EOF-H2.pdf')"
   ]
  }
 ],
 "metadata": {
  "kernelspec": {
   "display_name": "ink",
   "language": "python",
   "name": "ink"
  },
  "language_info": {
   "codemirror_mode": {
    "name": "ipython",
    "version": 3
   },
   "file_extension": ".py",
   "mimetype": "text/x-python",
   "name": "python",
   "nbconvert_exporter": "python",
   "pygments_lexer": "ipython3",
   "version": "3.10.8"
  }
 },
 "nbformat": 4,
 "nbformat_minor": 5
}
