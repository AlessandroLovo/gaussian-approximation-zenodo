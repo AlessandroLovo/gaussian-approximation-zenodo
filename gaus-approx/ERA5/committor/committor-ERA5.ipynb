{
 "cells": [
  {
   "cell_type": "markdown",
   "id": "563e2243",
   "metadata": {},
   "source": [
    "# Committor functions\n",
    "\n",
    "In this notebook we will reproduce the figures and tables on skills of the gaussian committor and optimal projection patterns, applied to the ERA5 dataset"
   ]
  },
  {
   "cell_type": "code",
   "execution_count": null,
   "id": "f7a72547-21d2-46d9-9fe4-f1642f18eae8",
   "metadata": {},
   "outputs": [],
   "source": [
    "import numpy as np\n",
    "import matplotlib\n",
    "import matplotlib.pyplot as plt\n",
    "%matplotlib widget\n",
    "matplotlib.rc('font', size=18)\n",
    "default_colors = plt.rcParams['axes.prop_cycle'].by_key()['color']\n",
    "\n",
    "\n",
    "import pandas as pd\n",
    "import xarray as xr\n",
    "\n",
    "from tqdm.notebook import tqdm\n",
    "\n",
    "import sys\n",
    "sys.path.append('../../../Climate-Learning/')\n",
    "\n",
    "import general_purpose.utilities as ut\n",
    "import general_purpose.cartopy_plots as cplt\n",
    "import general_purpose.uplotlib as uplt\n",
    "# import general_purpose.tables as tbl\n",
    "\n",
    "# log to stdout\n",
    "import logging\n",
    "logging.getLogger().level = logging.INFO\n",
    "logging.getLogger().handlers = [logging.StreamHandler(sys.stdout)]\n",
    "ut.indentation_sep = '  '\n",
    "\n",
    "HOME = '../../'"
   ]
  },
  {
   "cell_type": "markdown",
   "id": "eec5ac0f-c418-4c03-a3c0-f6f222c6f019",
   "metadata": {},
   "source": [
    "## Figure 9"
   ]
  },
  {
   "cell_type": "code",
   "execution_count": null,
   "id": "ff3429f6-b77a-4793-bc7f-56ae9510d721",
   "metadata": {},
   "outputs": [],
   "source": [
    "ds_comp = xr.open_dataarray('Skill-comp_T14_percent5.nc')\n",
    "ds_comp"
   ]
  },
  {
   "cell_type": "code",
   "execution_count": null,
   "id": "29f20c67-62bc-4119-a28e-37142bedb592",
   "metadata": {},
   "outputs": [],
   "source": [
    "ds_GA = xr.open_dataarray('Skill-GA_percent5_epsilonbest.nc').sel(T=14, tau=ds_comp['tau'])\n",
    "ds_GA"
   ]
  },
  {
   "cell_type": "code",
   "execution_count": null,
   "id": "989f5a0c-2397-4472-a61a-e5ec050e2221",
   "metadata": {},
   "outputs": [],
   "source": [
    "ds_CNN = xr.open_dataarray('Skill-CNN_T14_percent5.nc')\n",
    "ds_CNN"
   ]
  },
  {
   "cell_type": "code",
   "execution_count": null,
   "id": "5efb7775-21a5-44cf-a097-cbde976dc3fa",
   "metadata": {},
   "outputs": [],
   "source": [
    "# average skill at T=14, tau=0, to put in the text\n",
    "uplt.xr_avg(ds_GA.sel(tau=0), 'fold').data.item()"
   ]
  },
  {
   "cell_type": "code",
   "execution_count": null,
   "id": "a84c74d7-f5fc-4da3-a477-7c5315a16642",
   "metadata": {},
   "outputs": [],
   "source": [
    "np.stack([ds_GA.tau.data, ds_GA.reg_c.data.squeeze()]).T"
   ]
  },
  {
   "cell_type": "code",
   "execution_count": null,
   "id": "c57bc132-bc76-4198-81b3-f7a6cb952eb9",
   "metadata": {},
   "outputs": [],
   "source": [
    "plt.close(9)\n",
    "fig, ax = plt.subplots(num=9, figsize=(9,6))\n",
    "\n",
    "offset = 0.15\n",
    "\n",
    "uplt.plot(ds_GA['tau'] + offset, uplt.xr_avg(ds_GA, 'fold').data.squeeze(), label=r'GA $\\epsilon_\\mathrm{best}$')\n",
    "uplt.plot(ds_comp['tau'] + 2*offset, uplt.xr_avg(ds_comp, 'fold').data.squeeze(), label='composite map')\n",
    "\n",
    "uplt.errorband(ds_CNN['tau'], uplt.xr_avg(ds_CNN, 'fold').data.squeeze(), label='CNN')\n",
    "\n",
    "plt.axhline(0, color='black', linestyle='dashed', label='climatology')\n",
    "plt.xlabel(r'$\\tau$ [days]')\n",
    "plt.ylabel('Normalized log score')\n",
    "\n",
    "ax.set_xlim(*ax.get_xlim())\n",
    "ax.set_ylim(*ax.get_ylim())\n",
    "\n",
    "plt.fill_between(ax.get_xlim(), ax.get_ylim()[0], 0, color='red', alpha=0.2)\n",
    "\n",
    "plt.legend()\n",
    "\n",
    "fig.tight_layout()\n",
    "\n",
    "\n",
    "# fig.savefig(f'{HOME}/ERA_S_T14.pdf')"
   ]
  },
  {
   "cell_type": "markdown",
   "id": "ef90e133-643f-4f86-b76d-9f14f2733431",
   "metadata": {},
   "source": [
    "## Figure 10"
   ]
  },
  {
   "cell_type": "code",
   "execution_count": null,
   "id": "aff46c6e-66ee-46d2-afce-edd5dad48195",
   "metadata": {},
   "outputs": [],
   "source": [
    "ds_PLASIM_Z = xr.open_dataarray('../../PLASIM/committor/Skill-GA_percent5_y80_epsilonbest-Z.nc')\n",
    "ds_PLASIM_Z"
   ]
  },
  {
   "cell_type": "code",
   "execution_count": null,
   "id": "4df6d111-c31e-4b2d-8820-0156f08d5358",
   "metadata": {},
   "outputs": [],
   "source": [
    "ds_PLASIM = xr.open_dataarray('../../PLASIM/committor/Skill-GA_percent5_y80_epsilonbest.nc')\n",
    "ds_PLASIM"
   ]
  },
  {
   "cell_type": "code",
   "execution_count": null,
   "id": "13815770-9621-410a-ae9e-a19a952deab5",
   "metadata": {},
   "outputs": [],
   "source": [
    "ds_ERA = xr.open_dataarray('Skill-GA_percent5_epsilonbest.nc').sel(tau=ds_PLASIM['tau'])\n",
    "ds_ERA"
   ]
  },
  {
   "cell_type": "code",
   "execution_count": null,
   "id": "f879a1fa-d14a-4c7e-a4d7-62842cfb90bf",
   "metadata": {},
   "outputs": [],
   "source": [
    "plt.close(10)\n",
    "fig, ax = plt.subplots(num=10, figsize=(9,6))\n",
    "\n",
    "for i,T in enumerate([1,7,14]):\n",
    "    \n",
    "    ss = ds_ERA.sel(T=T)\n",
    "    uplt.plot(ss['tau'].data + i*0.1, uplt.xr_avg(ss, 'fold').data.squeeze(), label=f'${T = }$', color=default_colors[i])\n",
    "    \n",
    "    ss = ds_PLASIM_Z.sel(T=T)\n",
    "    uplt.plot(ss['tau'].data + i*0.1 + 0.05, uplt.xr_avg(ss, 'fold').data.squeeze(), color=default_colors[i], linestyle='dashed')\n",
    "    \n",
    "    ss = ds_PLASIM.sel(T=T)\n",
    "    uplt.plot(ss['tau'].data + i*0.1 + 0.1, uplt.xr_avg(ss, 'fold').data.squeeze(), color=default_colors[i], linestyle='dotted')\n",
    "    \n",
    "plt.plot([0],[0], color='black', label='ERA5')\n",
    "plt.plot([0],[0], color='black', linestyle='dashed', label='PlaSim-Z')\n",
    "plt.plot([0],[0], color='black', linestyle='dotted', label='PlaSim-TZS')\n",
    "    \n",
    "plt.legend()\n",
    "plt.xlabel(r'$\\tau$ [days]')\n",
    "plt.ylabel('Norm log score')\n",
    "\n",
    "ax.set_xlim(-0.5,16)\n",
    "ax.set_ylim(*ax.get_ylim())\n",
    "\n",
    "# plt.axhline(0, color='black', linestyle='dashed')\n",
    "# plt.axvline(0, color='black', alpha=0.2)\n",
    "plt.fill_between(ax.get_xlim(), ax.get_ylim()[0], 0, color='red', alpha=0.2)\n",
    "\n",
    "fig.tight_layout()\n",
    "\n",
    "# fig.savefig(f'{HOME}/SvTtau_ERA-PlaSim.pdf')"
   ]
  },
  {
   "cell_type": "code",
   "execution_count": null,
   "id": "a28a09bc-7ad9-4898-9750-0b83b2ca6138",
   "metadata": {},
   "outputs": [],
   "source": []
  }
 ],
 "metadata": {
  "kernelspec": {
   "display_name": "ink",
   "language": "python",
   "name": "ink"
  },
  "language_info": {
   "codemirror_mode": {
    "name": "ipython",
    "version": 3
   },
   "file_extension": ".py",
   "mimetype": "text/x-python",
   "name": "python",
   "nbconvert_exporter": "python",
   "pygments_lexer": "ipython3",
   "version": "3.10.8"
  }
 },
 "nbformat": 4,
 "nbformat_minor": 5
}
