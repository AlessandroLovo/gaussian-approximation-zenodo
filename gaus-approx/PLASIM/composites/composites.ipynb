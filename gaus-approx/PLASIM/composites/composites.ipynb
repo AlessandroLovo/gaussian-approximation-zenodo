{
 "cells": [
  {
   "cell_type": "markdown",
   "id": "8464ea15",
   "metadata": {},
   "source": [
    "# Composite maps\n",
    "\n",
    "In this notebook we analyze composite maps computed on the PlaSim dataset"
   ]
  },
  {
   "cell_type": "code",
   "execution_count": null,
   "id": "323803e6-90d0-4e47-8101-c93b87fb14ab",
   "metadata": {},
   "outputs": [],
   "source": [
    "import numpy as np\n",
    "import matplotlib\n",
    "import matplotlib.pyplot as plt\n",
    "%matplotlib widget\n",
    "matplotlib.rc('font', size=18)\n",
    "default_colors = plt.rcParams['axes.prop_cycle'].by_key()['color']\n",
    "\n",
    "\n",
    "import xarray as xr\n",
    "import scipy.special as ss\n",
    "import scipy.stats as stats\n",
    "\n",
    "import sys\n",
    "sys.path.append('../../../Climate-Learning/')\n",
    "\n",
    "import general_purpose.utilities as ut\n",
    "import general_purpose.cartopy_plots as cplt\n",
    "import general_purpose.uplotlib as uplt\n",
    "import general_purpose.tables as tbl\n",
    "\n",
    "# log to stdout\n",
    "import logging\n",
    "logging.getLogger().level = logging.INFO\n",
    "logging.getLogger().handlers = [logging.StreamHandler(sys.stdout)]\n",
    "ut.indentation_sep = '  '\n",
    "\n",
    "HOME = '../../'"
   ]
  },
  {
   "cell_type": "code",
   "execution_count": null,
   "id": "06d6e383-2acd-40f3-825c-aaa1a23c1b24",
   "metadata": {},
   "outputs": [],
   "source": [
    "def l2(x, **kwargs):\n",
    "    return np.sqrt(np.sum(x**2, **kwargs))\n",
    "\n",
    "def xr_l2(da, dim):\n",
    "    if not isinstance(dim, list):\n",
    "        dim = [dim]\n",
    "    return xr.apply_ufunc(lambda x: l2(x).item(), da, input_core_dims=[dim], exclude_dims=set(dim), vectorize=True)\n",
    "\n",
    "def eta(x):\n",
    "    return np.sqrt(2/np.pi)*np.exp(-x**2)/ss.erfc(x)"
   ]
  },
  {
   "cell_type": "code",
   "execution_count": null,
   "id": "67950e36-9080-4aad-8b5a-e25e376fae62",
   "metadata": {},
   "outputs": [],
   "source": [
    "lon = np.load('../../lon.npy')\n",
    "lat = np.load('../../lat.npy')\n",
    "LON, LAT = np.meshgrid(lon, lat)\n",
    "\n",
    "mask = np.load('../mask.npy')\n",
    "reshaper = ut.Reshaper(mask)\n",
    "mask.shape, reshaper.surviving_coords"
   ]
  },
  {
   "cell_type": "code",
   "execution_count": null,
   "id": "e1c57661-44cc-4729-8c0e-fc4236177af4",
   "metadata": {},
   "outputs": [],
   "source": [
    "## area weights\n",
    "\n",
    "coslat = np.cos(lat*np.pi/180)\n",
    "aw = (np.ones(mask.shape).T * coslat).T\n",
    "aw *= mask\n",
    "aw /= np.sum(aw)\n",
    "aw.shape"
   ]
  },
  {
   "cell_type": "markdown",
   "id": "1af4f349-3c79-4258-abf2-7ef58aecb8d6",
   "metadata": {
    "jp-MarkdownHeadingCollapsed": true,
    "tags": []
   },
   "source": [
    "## Figure 3"
   ]
  },
  {
   "cell_type": "code",
   "execution_count": null,
   "id": "69c02b7d-ef74-4d27-9d7c-3cf7744ddf78",
   "metadata": {},
   "outputs": [],
   "source": [
    "ds = xr.open_dataset('composite_maps_T14_tau0_y8000.nc')\n",
    "ds"
   ]
  },
  {
   "cell_type": "code",
   "execution_count": null,
   "id": "ffdd374f-bb5c-4d77-8520-355f128d3930",
   "metadata": {},
   "outputs": [],
   "source": [
    "emp = ds['empirical_composite'].data.squeeze()\n",
    "emp.shape"
   ]
  },
  {
   "cell_type": "code",
   "execution_count": null,
   "id": "db20a4ec-f513-4543-995a-474663e19fc0",
   "metadata": {},
   "outputs": [],
   "source": [
    "cnorm = l2(emp*np.sqrt(reshaper.reshape(aw)), axis=1) # total norm\n",
    "fnorm = l2(reshaper.inv_reshape(emp)*np.sqrt(aw), axis=(1,2)) # field-wise norm\n",
    "\n",
    "cnorm.shape, fnorm.shape"
   ]
  },
  {
   "cell_type": "code",
   "execution_count": null,
   "id": "79451431-60f5-41c5-9729-589a2ef3761c",
   "metadata": {},
   "outputs": [],
   "source": [
    "def percent2a(p):\n",
    "    return np.interp(p, ds['percent'].data.squeeze()[::-1], ds['a'].data[::-1])"
   ]
  },
  {
   "cell_type": "code",
   "execution_count": null,
   "id": "cc96c728-e22a-4d12-a7ae-694e5b19f614",
   "metadata": {},
   "outputs": [],
   "source": [
    "## v1 version (only norm ratio)\n",
    "\n",
    "ref_i = 0\n",
    "\n",
    "plt.close(3)\n",
    "fig,ax = plt.subplots(num=3, figsize=(9,6))\n",
    "\n",
    "thrs = ds['a'].data\n",
    "sigma_A = np.sqrt(ds['Sigma_AA']).data.squeeze()\n",
    "\n",
    "\n",
    "plt.plot(thrs, cnorm/cnorm[ref_i], color='gray', label='total')\n",
    "\n",
    "labels = [r'$T_\\mathrm{2m}$', r'$Z_\\mathrm{500}$', '$S$']\n",
    "for f in range(fnorm.shape[-1]):\n",
    "    plt.plot(thrs, fnorm[:,f]/fnorm[ref_i,f],label=labels[f])\n",
    "\n",
    "plt.plot(thrs, eta(thrs/(sigma_A*np.sqrt(2)))/eta(thrs[ref_i]/(sigma_A*np.sqrt(2))), color='black', linestyle='dashed', label=r'$\\eta\\left(a/\\sqrt{2\\Sigma_{AA}}\\right)/\\eta(0)$')\n",
    "\n",
    "\n",
    "plt.legend()\n",
    "\n",
    "plt.xlabel('$a$ [K]')\n",
    "plt.ylabel(r'$|C_\\mathcal{D}(a)|/|C_\\mathcal{D}(0)|$')\n",
    "\n",
    "ax2 = ax.secondary_xaxis('top')\n",
    "pticks = np.array([50,20,5,1,0.3,0.1, 0.04])\n",
    "ax2.set_xticks(percent2a(pticks))\n",
    "ax2.set_xticklabels(pticks)\n",
    "ax2.set_xlabel(r'$p$ [%]')\n",
    "\n",
    "fig.tight_layout()\n",
    "\n",
    "fig.savefig(f'{HOME}/scaling.pdf')"
   ]
  },
  {
   "cell_type": "markdown",
   "id": "0e84ae40",
   "metadata": {},
   "source": [
    "### Compute angles"
   ]
  },
  {
   "cell_type": "code",
   "execution_count": null,
   "id": "7f43053d",
   "metadata": {},
   "outputs": [],
   "source": [
    "def corr(x, y, axis=None):\n",
    "    assert x.shape == y.shape\n",
    "    return np.sum(x*y, axis=axis)/l2(x,axis=axis)/l2(y, axis=axis)"
   ]
  },
  {
   "cell_type": "code",
   "execution_count": null,
   "id": "4e581f0f",
   "metadata": {},
   "outputs": [],
   "source": [
    "ref_i = 0\n",
    "\n",
    "ref_emp = emp[ref_i]\n",
    "\n",
    "# broadcast it so it has the same shape of emp\n",
    "ref_emp_ = np.ones_like(emp)*ref_emp\n",
    "assert (ref_emp_[0] == ref_emp_[1]).all() and (ref_emp_[0] == ref_emp).all()\n",
    "\n",
    "cang = corr(emp*np.sqrt(reshaper.reshape(aw)), ref_emp_*np.sqrt(reshaper.reshape(aw)), axis=1) # total angle\n",
    "fang = corr(reshaper.inv_reshape(emp)*np.sqrt(aw), reshaper.inv_reshape(ref_emp_)*np.sqrt(aw), axis=(1,2)) # field-wise angle\n",
    "\n",
    "cang.shape, fang.shape"
   ]
  },
  {
   "cell_type": "code",
   "execution_count": null,
   "id": "4ea55cdf",
   "metadata": {},
   "outputs": [],
   "source": [
    "## v2: with angle\n",
    "\n",
    "linewidth=2\n",
    "\n",
    "M = 5\n",
    "m = -0.3\n",
    "M1 = 0.15\n",
    "m1 = m*M1/M\n",
    "\n",
    "plt.close(3)\n",
    "fig,ax = plt.subplots(num=3, figsize=(9,6))\n",
    "\n",
    "ax1 = ax.twinx()\n",
    "\n",
    "thrs = ds['a'].data\n",
    "sigma_A = np.sqrt(ds['Sigma_AA']).data.squeeze()\n",
    "\n",
    "\n",
    "ax.plot(thrs, cnorm/cnorm[ref_i], color='gray', label='total', linewidth=linewidth+1)\n",
    "ax1.plot(thrs, 1 - cang, color='gray', linestyle='dotted', linewidth=linewidth+1)\n",
    "\n",
    "labels = [r'$T_\\mathrm{2m}$', r'$Z_\\mathrm{500}$', '$S$']\n",
    "for f in range(fnorm.shape[-1]):\n",
    "    ax.plot(thrs, fnorm[:,f]/fnorm[ref_i,f],label=labels[f], color=default_colors[f], linewidth=linewidth)\n",
    "    ax1.plot(thrs, 1 - fang[:,f], color=default_colors[f], linestyle='dotted', linewidth=linewidth)\n",
    "\n",
    "ax.plot(thrs, eta(thrs/(sigma_A*np.sqrt(2)))/eta(thrs[ref_i]/(sigma_A*np.sqrt(2))), color='black',\n",
    "        linestyle='dashed', label=r'$\\frac{\\eta\\left(a/\\sqrt{2\\Sigma_{AA}}\\right)}{\\eta(0)}$')\n",
    "ax.axhline(0, color='black', linestyle='dashed')\n",
    "\n",
    "ax.set_ylim(m,M)\n",
    "ax1.set_ylim(m1,M1)\n",
    "\n",
    "ax.legend(loc='upper left')\n",
    "\n",
    "ax.set_xlabel('$a$ [K]')\n",
    "ax.set_ylabel(r'$|C_\\mathcal{D}(a)|/|C_\\mathcal{D}(0)|$')\n",
    "ax1.set_ylabel(r'$1 - \\left\\langle \\frac{C_\\mathcal{D}(a)}{|C_\\mathcal{D}(a)|} , \\frac{C_\\mathcal{D}(0)}{|C_\\mathcal{D}(0)|} \\right\\rangle$')\n",
    "\n",
    "ax2 = ax.secondary_xaxis('top')\n",
    "pticks = np.array([50,20,5,1,0.3,0.1, 0.04])\n",
    "ax2.set_xticks(percent2a(pticks))\n",
    "ax2.set_xticklabels(pticks)\n",
    "ax2.set_xlabel(r'$p$ [%]')\n",
    "\n",
    "fig.tight_layout()\n",
    "\n",
    "# fig.savefig(f'{HOME}/scaling_new.pdf')"
   ]
  },
  {
   "cell_type": "markdown",
   "id": "c65f69bc-d4aa-4874-aa65-a6797396b972",
   "metadata": {
    "jp-MarkdownHeadingCollapsed": true,
    "tags": []
   },
   "source": [
    "## Figure 4"
   ]
  },
  {
   "cell_type": "markdown",
   "id": "fbf3bbf8-1dd3-4ae7-a58d-df3ec41b3465",
   "metadata": {},
   "source": [
    "### Load data"
   ]
  },
  {
   "cell_type": "code",
   "execution_count": null,
   "id": "6ab8a942-9156-4cd6-af1e-9f85a5235642",
   "metadata": {},
   "outputs": [],
   "source": [
    "ds = xr.open_dataset('composite_maps_T14_tau0_y8000.nc')\n",
    "ds"
   ]
  },
  {
   "cell_type": "code",
   "execution_count": null,
   "id": "05010d4b-5867-4d1d-8b83-93324d613f68",
   "metadata": {},
   "outputs": [],
   "source": [
    "dsc = xr.open_dataset('composite_maps_T14_tau0_y200-1000.nc')\n",
    "dsc"
   ]
  },
  {
   "cell_type": "code",
   "execution_count": null,
   "id": "8f5eab72-603b-4dc9-98c2-743452f8e86e",
   "metadata": {},
   "outputs": [],
   "source": [
    "# truth as the empirical composite on the 8000 year dataset\n",
    "truth = ds['empirical_composite'].sel(years=8000,drop=True)\n",
    "truth"
   ]
  },
  {
   "cell_type": "code",
   "execution_count": null,
   "id": "d7f8a6bf-3885-4580-b348-d22323633533",
   "metadata": {},
   "outputs": [],
   "source": [
    "# empirical composites\n",
    "emp = dsc['empirical_composite']\n",
    "emp"
   ]
  },
  {
   "cell_type": "code",
   "execution_count": null,
   "id": "db8134cc-380b-43dd-a8eb-5f4daf79fb84",
   "metadata": {},
   "outputs": [],
   "source": [
    "# gaussian composite\n",
    "rescale_factor = eta((dsc['a'] - dsc['A_mean'])/np.sqrt(2*dsc['Sigma_AA']))/np.sqrt(dsc['Sigma_AA'])\n",
    "\n",
    "ga = dsc['Sigma_XA']*rescale_factor + dsc['X_mean']\n",
    "ga"
   ]
  },
  {
   "cell_type": "code",
   "execution_count": null,
   "id": "ea41bbb3-5754-4deb-8512-373b665d687c",
   "metadata": {},
   "outputs": [],
   "source": [
    "area_weights = xr.DataArray(reshaper.reshape(aw), coords={'pixel': np.arange(reshaper.surviving_coords)})\n",
    "area_weights"
   ]
  },
  {
   "cell_type": "markdown",
   "id": "0db3754b-81d6-4641-87bc-65419a0d78ad",
   "metadata": {},
   "source": [
    "### Compute norms"
   ]
  },
  {
   "cell_type": "code",
   "execution_count": null,
   "id": "c2cbde4f-fabb-4f36-8eea-1e68c6525c17",
   "metadata": {},
   "outputs": [],
   "source": [
    "truth_norm = xr_l2(truth*np.sqrt(area_weights), 'pixel')\n",
    "truth_norm"
   ]
  },
  {
   "cell_type": "code",
   "execution_count": null,
   "id": "1ac6e0c1-d957-46a5-bfe2-3d6a6bed16c8",
   "metadata": {},
   "outputs": [],
   "source": [
    "emp_norm = uplt.xr_avg(xr_l2((emp - truth)*np.sqrt(area_weights), 'pixel'), 'fold')\n",
    "emp_norm"
   ]
  },
  {
   "cell_type": "code",
   "execution_count": null,
   "id": "2c62b3e7-aab4-4adb-be3c-6992300d6abe",
   "metadata": {},
   "outputs": [],
   "source": [
    "ga_norm = uplt.xr_avg(xr_l2((ga - truth)*np.sqrt(area_weights), 'pixel'), 'fold')\n",
    "ga_norm"
   ]
  },
  {
   "cell_type": "markdown",
   "id": "4f485a82-189b-49ee-8962-f3b33035ef32",
   "metadata": {},
   "source": [
    "### Plot"
   ]
  },
  {
   "cell_type": "code",
   "execution_count": null,
   "id": "46f86910-2c0e-46ac-8151-ab1700663997",
   "metadata": {},
   "outputs": [],
   "source": [
    "def percent2a(p):\n",
    "    return np.interp(p, ds['percent'].data.squeeze()[::-1], ds['a'].data[::-1])"
   ]
  },
  {
   "cell_type": "code",
   "execution_count": null,
   "id": "39aafd3b-5295-4d57-b00d-877c6d7f16e3",
   "metadata": {},
   "outputs": [],
   "source": [
    "thresholds = ds['a'].data.squeeze()\n",
    "emp_nr = emp_norm / truth_norm\n",
    "ga_nr = ga_norm / truth_norm\n",
    "\n",
    "plt.close(4)\n",
    "fig,ax = plt.subplots(num=4, figsize=(9,6))\n",
    "\n",
    "for i,y in enumerate(ga_norm['years'].data):\n",
    "    uplt.plot(thresholds + 0.01*i, emp_nr.sel(years=y).data.squeeze(), label=y, color=default_colors[i])\n",
    "    uplt.errorband(thresholds, ga_nr.sel(years=y).data.squeeze(), color=default_colors[i], linestyle='dashed')\n",
    "\n",
    "# plt.axhline(0, color='gray', linestyle='dashed')\n",
    "plt.legend(title='Dataset years')\n",
    "plt.xlabel('$a$ [K]')\n",
    "# plt.ylabel(\"$\\mathcal{R}_\\mathcal{G}, \\mathcal{R}_\\mathcal{P}$\")\n",
    "plt.ylabel(r\"Norm ratio from $C_\\mathcal{D}^{8000}$\")\n",
    "plt.grid(which='both', axis='y')\n",
    "ax.axhline(1,color='black', linestyle='dashed')\n",
    "\n",
    "plt.yscale('log')\n",
    "# plt.text(5.8, 1, r'better $\\rightarrow$', rotation=-90, fontsize='small')\n",
    "# plt.text(4.5, 0.4, r'more extreme $\\rightarrow$', fontsize='small')\n",
    "\n",
    "ax2 = ax.secondary_xaxis('top')\n",
    "pticks = np.array([50,20,5,1,0.3,0.1, 0.04])\n",
    "ax2.set_xticks(percent2a(pticks))\n",
    "ax2.set_xticklabels(pticks)\n",
    "ax2.set_xlabel(r'$p$ [%]')\n",
    "\n",
    "fig.tight_layout()\n",
    "\n",
    "# fig.savefig(f'{HOME}/generalization_power.pdf')"
   ]
  },
  {
   "cell_type": "markdown",
   "id": "d8ecf96a-de1d-47d3-aa54-c0dfb0c71e65",
   "metadata": {
    "jp-MarkdownHeadingCollapsed": true,
    "tags": []
   },
   "source": [
    "## Figure S5"
   ]
  },
  {
   "cell_type": "code",
   "execution_count": null,
   "id": "c00f07be-4d5c-4d15-ac8b-d09ad6481754",
   "metadata": {},
   "outputs": [],
   "source": [
    "ds = xr.open_dataset('composite_maps_T14_tau0_y8000.nc')\n",
    "ds"
   ]
  },
  {
   "cell_type": "code",
   "execution_count": null,
   "id": "e86da4b6-34de-45b2-8939-703f468336db",
   "metadata": {},
   "outputs": [],
   "source": [
    "# gaussian composite\n",
    "rescale_factor = eta((ds['a'] - ds['A_mean'])/np.sqrt(2*ds['Sigma_AA']))/np.sqrt(ds['Sigma_AA'])\n",
    "\n",
    "ga = ds['Sigma_XA']*rescale_factor + ds['X_mean']\n",
    "ga"
   ]
  },
  {
   "cell_type": "code",
   "execution_count": null,
   "id": "eb4f2246-8c37-4cfc-b0de-ca123d065da9",
   "metadata": {},
   "outputs": [],
   "source": [
    "ga = ga.data.squeeze().T\n",
    "ga.shape"
   ]
  },
  {
   "cell_type": "code",
   "execution_count": null,
   "id": "0dd6b365-4bed-448f-9a48-92a28d85e41d",
   "metadata": {},
   "outputs": [],
   "source": [
    "emp = ds['empirical_composite'].data.squeeze()\n",
    "emp.shape"
   ]
  },
  {
   "cell_type": "code",
   "execution_count": null,
   "id": "81b3ae61-a351-42fa-9002-def2f3ac1836",
   "metadata": {},
   "outputs": [],
   "source": [
    "nr = l2((ga - emp)*np.sqrt(reshaper.reshape(aw)), axis=1)/l2(emp*np.sqrt(reshaper.reshape(aw)), axis=1)\n",
    "fnr = l2(reshaper.inv_reshape(ga - emp)*np.sqrt(aw), axis=(1,2))/l2(reshaper.inv_reshape(emp)*np.sqrt(aw), axis=(1,2))"
   ]
  },
  {
   "cell_type": "code",
   "execution_count": null,
   "id": "bdf9c8f0-c1d4-4fd1-8b7b-6eeab04bd83c",
   "metadata": {},
   "outputs": [],
   "source": [
    "def percent2a(p):\n",
    "    return np.interp(p, ds['percent'].data.squeeze()[::-1], ds['a'].data[::-1])"
   ]
  },
  {
   "cell_type": "code",
   "execution_count": null,
   "id": "1fc19b04-1ee2-47eb-bc8c-eb914114ee6c",
   "metadata": {},
   "outputs": [],
   "source": [
    "linewidth=2\n",
    "\n",
    "plt.close(5)\n",
    "fig,ax = plt.subplots(num=5, figsize=(9,6))\n",
    "\n",
    "thrs = ds['a'].data\n",
    "\n",
    "\n",
    "plt.plot(thrs, nr, label='total', color='gray', linewidth=linewidth+1)\n",
    "labels = [r'$T_\\mathrm{2m}$', r'$Z_\\mathrm{500}$', '$S$']\n",
    "for f in range(fnorm.shape[-1]):\n",
    "    plt.plot(thrs, fnr[:,f],label=labels[f], linewidth=linewidth)\n",
    "\n",
    "plt.legend()\n",
    "\n",
    "plt.xlabel('$a$ [K]')\n",
    "plt.ylabel(r'Norm ratio')\n",
    "\n",
    "ax2 = ax.secondary_xaxis('top')\n",
    "pticks = np.array([50,20,5,1,0.3,0.1, 0.04])\n",
    "ax2.set_xticks(percent2a(pticks))\n",
    "ax2.set_xticklabels(pticks)\n",
    "ax2.set_xlabel(r'$p$ [%]')\n",
    "\n",
    "fig.tight_layout()\n",
    "\n",
    "fig.savefig(f'{HOME}/nrva.pdf')"
   ]
  },
  {
   "cell_type": "markdown",
   "id": "fa90f2ca-5e52-47e8-ad99-7bca9aee438d",
   "metadata": {
    "tags": []
   },
   "source": [
    "## Figure 2"
   ]
  },
  {
   "cell_type": "code",
   "execution_count": null,
   "id": "e60a026b-6ce4-49f5-b245-bf1125d6e8f3",
   "metadata": {},
   "outputs": [],
   "source": [
    "ds = xr.open_dataset('composite_maps_percent5_y8000.nc')\n",
    "ds"
   ]
  },
  {
   "cell_type": "code",
   "execution_count": null,
   "id": "9eb1d801-431e-4ccb-9fe8-58ab77d4a565",
   "metadata": {},
   "outputs": [],
   "source": [
    "T, tau = 14, 0"
   ]
  },
  {
   "cell_type": "code",
   "execution_count": null,
   "id": "00de18a3-4e8d-4fda-9a60-217291811393",
   "metadata": {},
   "outputs": [],
   "source": [
    "# this is first line\n",
    "emp = reshaper.inv_reshape(ds.empirical_composite.sel(T=T,tau=tau).data)\n",
    "emp.shape"
   ]
  },
  {
   "cell_type": "code",
   "execution_count": null,
   "id": "5a65f072-256e-43f1-93a0-dfa3bb04f764",
   "metadata": {},
   "outputs": [],
   "source": [
    "axs = cplt.mfp(LON,LAT, emp, one_fig_layout=130,figsize=(14,5),mx = 1,fig_num=8,titles=[r'Temperature', 'Geopotential', 'Soil moisture'],colorbar ='shared')\n",
    "fig = axs[0].get_figure()\n",
    "# fig.savefig(f'{HOME}comp.pdf')\n"
   ]
  },
  {
   "cell_type": "code",
   "execution_count": null,
   "id": "bad048b1-8c52-4076-b168-2fb086886dc2",
   "metadata": {},
   "outputs": [],
   "source": [
    "#this is second line\n",
    "ga = reshaper.inv_reshape(ds.gaussian_composite.sel(T=T,tau=tau).data)\n",
    "ga.shape"
   ]
  },
  {
   "cell_type": "code",
   "execution_count": null,
   "id": "9f4fb04b-f2dc-45d5-845c-68cf4b95f97e",
   "metadata": {},
   "outputs": [],
   "source": [
    "axs = cplt.mfp(LON,LAT, ga, one_fig_layout=130,figsize=(14,5),mx = 1,fig_num=9,titles=[r'Temperature', 'Geopotential', 'Soil moisture'],colorbar ='shared')\n",
    "fig = axs[0].get_figure()\n",
    "# fig.savefig(f'{HOME}comp_ga.pdf')"
   ]
  },
  {
   "cell_type": "code",
   "execution_count": null,
   "id": "b7038a9b-7076-4448-a2fc-7640dcbc62d1",
   "metadata": {},
   "outputs": [],
   "source": [
    "# this is third line\n",
    "axs = cplt.mfp(LON,LAT, emp - ga, one_fig_layout=130,figsize=(14,5),mx = 0.25,fig_num=10,titles=[r'Temperature', 'Geopotential', 'Soil moisture'],colorbar ='shared')\n",
    "fig = axs[0].get_figure()\n",
    "# fig.savefig(f'{HOME}comp_error.pdf')"
   ]
  },
  {
   "cell_type": "markdown",
   "id": "2e2f0e70-5a2b-429e-997e-be24b216c62b",
   "metadata": {
    "jp-MarkdownHeadingCollapsed": true,
    "tags": []
   },
   "source": [
    "## Figure S4"
   ]
  },
  {
   "cell_type": "code",
   "execution_count": null,
   "id": "54b38326-36c4-4527-b832-1f3ece4cdfc0",
   "metadata": {},
   "outputs": [],
   "source": [
    "ds = xr.open_dataset('composite_maps_T14_tau0_y8000.nc')\n",
    "ds"
   ]
  },
  {
   "cell_type": "code",
   "execution_count": null,
   "id": "4a00b050-360b-452a-b4b9-b881355f9aac",
   "metadata": {},
   "outputs": [],
   "source": [
    "# this is the threshold\n",
    "idx = list(ds.a.where(ds.a == 3.8).data).index(3.8)\n"
   ]
  },
  {
   "cell_type": "code",
   "execution_count": null,
   "id": "2866099c-56b3-41a3-95bd-8dece4d85121",
   "metadata": {},
   "outputs": [],
   "source": [
    "emp = ds.empirical_composite.sel(T=14,tau=0,years = 8000,a= 3.8).data.T\n",
    "emp.shape"
   ]
  },
  {
   "cell_type": "code",
   "execution_count": null,
   "id": "ee527263-95f5-498a-b75d-cf07c91923f0",
   "metadata": {},
   "outputs": [],
   "source": [
    "# gaussian composite\n",
    "rescale_factor = eta((ds['a'] - ds['A_mean'])/np.sqrt(2*ds['Sigma_AA']))/np.sqrt(ds['Sigma_AA'])\n",
    "\n",
    "ga = ((ds['Sigma_XA'].sel(T=14,tau=0,years = 8000))*rescale_factor + ds['X_mean'].sel(T=14,tau=0,years = 8000)).data.squeeze().T\n",
    "ga.shape\n"
   ]
  },
  {
   "cell_type": "code",
   "execution_count": null,
   "id": "73897e7f-d4c2-4deb-8570-ddc2895a67b8",
   "metadata": {},
   "outputs": [],
   "source": [
    "ga = ga[idx,:]\n",
    "ga.shape"
   ]
  },
  {
   "cell_type": "code",
   "execution_count": null,
   "id": "ad6e3907-0856-43e5-99ba-e9cf42ee1381",
   "metadata": {},
   "outputs": [],
   "source": [
    "axs = cplt.mfp(LON,LAT, reshaper.inv_reshape(emp - ga), one_fig_layout=130,figsize=(14,6),mx = 0.2,fig_num=8+np.random.randint(0,50),titles=[r'Temperature', 'Geopotential', 'Soil moisture'],colorbar ='shared')\n",
    "fig = axs[0].get_figure()\n",
    "fig.savefig(f'{HOME}error_a_1.pdf')"
   ]
  },
  {
   "cell_type": "markdown",
   "id": "17635449-380e-437d-b718-91cfed90d486",
   "metadata": {
    "tags": []
   },
   "source": [
    "## Table 3"
   ]
  },
  {
   "cell_type": "code",
   "execution_count": null,
   "id": "e7c8befc-1233-4529-adaf-bcb9c960fd65",
   "metadata": {},
   "outputs": [],
   "source": [
    "ds = xr.open_dataset('composite_maps_percent5_y8000.nc')\n",
    "ds"
   ]
  },
  {
   "cell_type": "code",
   "execution_count": null,
   "id": "85182e29-7def-4975-97f9-1871e7543433",
   "metadata": {},
   "outputs": [],
   "source": [
    "## area weights\n",
    "\n",
    "coslat = np.cos(lat*np.pi/180)\n",
    "aw = (np.ones(mask.shape).T * coslat).T\n",
    "aw *= mask\n",
    "aw /= np.sum(aw)\n",
    "aw.shape"
   ]
  },
  {
   "cell_type": "code",
   "execution_count": null,
   "id": "b9757222-921b-435d-aab9-24aa109a34f3",
   "metadata": {},
   "outputs": [],
   "source": [
    "T = [1,3,7,14,30]\n",
    "taus = [0,3,6,9,12,15,18,21,24,27,30]"
   ]
  },
  {
   "cell_type": "code",
   "execution_count": null,
   "id": "85532079-9c16-4143-86bb-364f90eae8db",
   "metadata": {},
   "outputs": [],
   "source": [
    "emp = reshaper.inv_reshape(ds.empirical_composite.sel(T=T, tau=taus).data)\n",
    "emp.shape"
   ]
  },
  {
   "cell_type": "code",
   "execution_count": null,
   "id": "123f37a7-49cd-4514-8ecf-16f7ed937f68",
   "metadata": {},
   "outputs": [],
   "source": [
    "norms_emp = l2(emp*np.sqrt(aw), axis =(2,3,4))\n",
    "norms_emp.shape"
   ]
  },
  {
   "cell_type": "code",
   "execution_count": null,
   "id": "56f78a26-19d6-41fc-b7b2-08f35df7e0a7",
   "metadata": {},
   "outputs": [],
   "source": [
    "ga = reshaper.inv_reshape(ds.gaussian_composite.sel(T=T, tau= taus).data)\n",
    "ga.shape"
   ]
  },
  {
   "cell_type": "code",
   "execution_count": null,
   "id": "7f6238e2-772f-48b1-a12f-6df6949a78db",
   "metadata": {},
   "outputs": [],
   "source": [
    "diff_norm = l2((emp-ga)*np.sqrt(aw), axis =(2,3,4))\n",
    "diff_norm.shape"
   ]
  },
  {
   "cell_type": "code",
   "execution_count": null,
   "id": "b233cc13-2a9f-435e-a730-940bbb1f9679",
   "metadata": {},
   "outputs": [],
   "source": [
    "norm_ratio = np.round(diff_norm/norms_emp,2)"
   ]
  },
  {
   "cell_type": "code",
   "execution_count": null,
   "id": "e4d7e8d8-e29b-4eba-b9a0-f0d22f11a03d",
   "metadata": {},
   "outputs": [],
   "source": [
    "xlabel = r'$\\tau$ [days]'\n",
    "ylabel = r'$T$ [days]'\n",
    "\n",
    "_ = tbl.table(norm_ratio, taus, T, color_range=(0.2,0.9), xlabel=xlabel, ylabel=ylabel, title='Norm ratio', num=5, figsize=(7,3))"
   ]
  },
  {
   "cell_type": "code",
   "execution_count": null,
   "id": "41bab5bc-c9fb-44ed-be31-9c98beb0563b",
   "metadata": {},
   "outputs": [],
   "source": [
    "_ = tbl.tex_table(norm_ratio, taus, T, color_range=(0.2,0.9), xlabel=xlabel, ylabel=ylabel, title='Norm ratio', close_left=False)\n",
    "print(_)"
   ]
  },
  {
   "cell_type": "markdown",
   "id": "5149ba45-3bcf-4704-b84a-005ab6654525",
   "metadata": {
    "jp-MarkdownHeadingCollapsed": true,
    "tags": []
   },
   "source": [
    "## Table 2"
   ]
  },
  {
   "cell_type": "code",
   "execution_count": null,
   "id": "c58f036a-5f14-4bcd-ab49-b6a9f3bd3d79",
   "metadata": {},
   "outputs": [],
   "source": [
    "ds = xr.open_dataset('composite_maps_percent5_y8000.nc')\n",
    "ds"
   ]
  },
  {
   "cell_type": "code",
   "execution_count": null,
   "id": "1c77a99e-af87-495f-93a6-6f68e35f46d4",
   "metadata": {},
   "outputs": [],
   "source": [
    "T = [1,3,7,14,30]\n",
    "taus = [0,3,6,9,12,15,18,21,24,27,30]\n",
    "sign = 2"
   ]
  },
  {
   "cell_type": "code",
   "execution_count": null,
   "id": "8bbc806d-efc1-4752-90d6-58286fc61f35",
   "metadata": {},
   "outputs": [],
   "source": [
    "emp = ds.empirical_composite.sel(T=T, tau=taus).data\n",
    "emp.shape"
   ]
  },
  {
   "cell_type": "code",
   "execution_count": null,
   "id": "3612592b-f46a-440d-90e9-bb8a0259593b",
   "metadata": {},
   "outputs": [],
   "source": [
    "ga = ds.gaussian_composite.sel(T=T, tau=taus).data\n",
    "ga.shape"
   ]
  },
  {
   "cell_type": "code",
   "execution_count": null,
   "id": "6424386c-0987-49e1-a11f-6332a3606b1f",
   "metadata": {},
   "outputs": [],
   "source": [
    "std = ds.empirical_std_composite.sel(T=T, tau=taus).data\n",
    "std.shape"
   ]
  },
  {
   "cell_type": "code",
   "execution_count": null,
   "id": "8b80933f-3ff5-40d6-af48-a67151ae22c7",
   "metadata": {},
   "outputs": [],
   "source": [
    "raw_significance = (emp-ga)/std"
   ]
  },
  {
   "cell_type": "code",
   "execution_count": null,
   "id": "d7b46588-ca34-4278-abe4-b09aec74dfb8",
   "metadata": {},
   "outputs": [],
   "source": [
    "## area weights\n",
    "\n",
    "coslat = np.cos(lat*np.pi/180)\n",
    "aw = (np.ones(mask.shape).T * coslat).T\n",
    "aw *= mask\n",
    "aw /= np.sum(aw)\n",
    "aw.shape"
   ]
  },
  {
   "cell_type": "code",
   "execution_count": null,
   "id": "16af4e4d-4bf8-4a5d-9639-fa46fe4e91e7",
   "metadata": {},
   "outputs": [],
   "source": [
    "area_weights = reshaper.reshape(aw)"
   ]
  },
  {
   "cell_type": "code",
   "execution_count": null,
   "id": "b9c710d4-c1ec-49cb-a3c7-aa41b04c40c8",
   "metadata": {},
   "outputs": [],
   "source": [
    "sA = ((np.abs(raw_significance.T)*np.sqrt(ds.N_heatwave_years.data) > sign).T*area_weights).sum(axis=2)\n",
    "sA.shape"
   ]
  },
  {
   "cell_type": "code",
   "execution_count": null,
   "id": "93b4f0da-206e-4bd2-9fc0-bb9e5bd3ecdf",
   "metadata": {},
   "outputs": [],
   "source": [
    "xlabel = r'$\\tau$ [days]'\n",
    "ylabel = r'$T$ [days]'\n",
    "\n",
    "_ = tbl.table(sA, taus, T, color_range=(0.2,0.9), xlabel=xlabel, ylabel=ylabel, title=fr'Fraction of area with error above ${sign}\\sigma$', num=5, figsize=(7,3))"
   ]
  },
  {
   "cell_type": "code",
   "execution_count": null,
   "id": "a148ecbe-7d17-4cb2-9ed2-630e4a30bdb5",
   "metadata": {},
   "outputs": [],
   "source": [
    "_ = tbl.tex_table(sA, taus, T, color_range=(0.2,0.9), xlabel=xlabel, ylabel=ylabel, title=fr'Fraction of area with error above ${sign}\\sigma$', close_left=False)\n",
    "print(_)"
   ]
  },
  {
   "cell_type": "markdown",
   "id": "a08891d8-92c1-4c97-be9f-301bc71115ae",
   "metadata": {
    "jp-MarkdownHeadingCollapsed": true,
    "tags": []
   },
   "source": [
    "## Table S1, S2, S3"
   ]
  },
  {
   "cell_type": "code",
   "execution_count": null,
   "id": "d5d05819-240d-49c2-a865-142aeea895df",
   "metadata": {},
   "outputs": [],
   "source": [
    "ds = xr.open_dataset('composite_maps_percent5_y8000.nc')\n",
    "ds"
   ]
  },
  {
   "cell_type": "code",
   "execution_count": null,
   "id": "dafc830d-7aba-4326-9427-70dbad94f367",
   "metadata": {},
   "outputs": [],
   "source": [
    "## area weights\n",
    "\n",
    "coslat = np.cos(lat*np.pi/180)\n",
    "aw = (np.ones(mask.shape).T * coslat).T\n",
    "aw *= mask\n",
    "aw /= np.sum(aw)\n",
    "aw.shape\n",
    "\n",
    "field_axes = (-3,-2)\n",
    "\n",
    "faw = aw / np.sum(aw, axis=field_axes) # fieldwise area weights"
   ]
  },
  {
   "cell_type": "code",
   "execution_count": null,
   "id": "dd6a2a19-6711-4e57-9f6c-06d3a1e3b8c1",
   "metadata": {},
   "outputs": [],
   "source": [
    "T = [1,3,7,14,30]\n",
    "taus = [0,3,6,9,12,15,18,21,24,27,30]"
   ]
  },
  {
   "cell_type": "code",
   "execution_count": null,
   "id": "fdb95a26-8986-491b-bbd8-a832b112fa9b",
   "metadata": {},
   "outputs": [],
   "source": [
    "emp = reshaper.inv_reshape(ds.empirical_composite.sel(T=T, tau=taus).data)\n",
    "emp.shape"
   ]
  },
  {
   "cell_type": "code",
   "execution_count": null,
   "id": "01b7f620-edf2-4d8d-b9fa-d983434d0b11",
   "metadata": {},
   "outputs": [],
   "source": [
    "ga = reshaper.inv_reshape(ds.gaussian_composite.sel(T=T, tau= taus).data)\n",
    "ga.shape"
   ]
  },
  {
   "cell_type": "code",
   "execution_count": null,
   "id": "78dd4247-3256-4332-8f0a-ee2616ef74e6",
   "metadata": {},
   "outputs": [],
   "source": [
    "norms_emp = l2(emp*np.sqrt(faw), axis=field_axes)\n",
    "norms_emp.shape"
   ]
  },
  {
   "cell_type": "code",
   "execution_count": null,
   "id": "d22b72a5-9ffc-4285-8564-79862e559f86",
   "metadata": {},
   "outputs": [],
   "source": [
    "norms_diff = l2((emp - ga)*np.sqrt(faw), axis=field_axes)\n",
    "norms_diff.shape"
   ]
  },
  {
   "cell_type": "code",
   "execution_count": null,
   "id": "67870a8e-10a8-491d-a33d-dd44693c7763",
   "metadata": {},
   "outputs": [],
   "source": [
    "norm_ratio = norm_ratio = np.round(norms_diff/norms_emp,2)\n",
    "norm_ratio.shape"
   ]
  },
  {
   "cell_type": "code",
   "execution_count": null,
   "id": "8b0e04a4-189f-4d7b-ab88-d2b92239645a",
   "metadata": {},
   "outputs": [],
   "source": [
    "xlabel = r'$\\tau$ [days]'\n",
    "ylabel = r'$T$ [days]'\n",
    "field_labels = ['Temperature', 'Geopotential', 'Soil moisture']\n",
    "\n",
    "for i in range(3):\n",
    "    _ = tbl.table(norm_ratio[...,i], taus, T, color_range=(0.2,0.9), xlabel=xlabel, ylabel=ylabel, title=f'{field_labels[i]}: Norm ratio', num=5+i, figsize=(7,3))"
   ]
  },
  {
   "cell_type": "code",
   "execution_count": null,
   "id": "82a02f64-29b3-4d3c-a9ce-2d6b986c184c",
   "metadata": {},
   "outputs": [],
   "source": [
    "for i in range(3):\n",
    "    _ = tbl.tex_table(norm_ratio[...,i], taus, T, color_range=(0.2,0.9), xlabel=xlabel, ylabel=ylabel, title=f'{field_labels[i]}', close_left=False)\n",
    "    print(_)"
   ]
  },
  {
   "cell_type": "markdown",
   "id": "a35d28d8-5f8c-459a-879e-3581d865f7e9",
   "metadata": {
    "jp-MarkdownHeadingCollapsed": true,
    "tags": []
   },
   "source": [
    "## Figure S3 "
   ]
  },
  {
   "cell_type": "code",
   "execution_count": null,
   "id": "76c7e519-bff0-4c12-a7a8-b89ce62874fc",
   "metadata": {},
   "outputs": [],
   "source": [
    "density_plot = xr.open_dataset('density_plot.nc')\n",
    "density_plot"
   ]
  },
  {
   "cell_type": "code",
   "execution_count": null,
   "id": "1dace5ec-007f-4c3d-8c39-ffab8a5cc5b8",
   "metadata": {},
   "outputs": [],
   "source": [
    "#Right plot\n",
    "plt.close()\n",
    "font = 55\n",
    "fig = plt.figure(figsize=(18, 24))\n",
    "\n",
    "gs = fig.add_gridspec(4, 2,width_ratios=(4, 1), height_ratios=(0.6,2.5,0.01,0.07),\n",
    "                      left=0.12, right=0.92, bottom=0.03, top=0.99,\n",
    "                      wspace=0.1, hspace=0.18)\n",
    "# Create the Axes.\n",
    "ax = fig.add_subplot(gs[1, 0])\n",
    "\n",
    "ax_histx = fig.add_subplot(gs[0, 0], sharex=ax)\n",
    "ax_histy = fig.add_subplot(gs[1, 1], sharey=ax)\n",
    "\n",
    "#Data\n",
    "x=density_plot.Z_j.data\n",
    "y=density_plot.A.data\n",
    "bins=100\n",
    "\n",
    "#Plots\n",
    "h = ax.hist2d(x,y,bins=bins,density=True)\n",
    "\n",
    "#colorbar\n",
    "ax_color = fig.add_subplot(gs[3, 0])\n",
    "\n",
    "cb = fig.colorbar(h[3], cax=ax_color, location='bottom',orientation='horizontal',extend='both')\n",
    "cb.ax.tick_params(labelsize=50)\n",
    "\n",
    "#lines\n",
    "ax.axvline(np.interp(np.round(np.quantile(density_plot.A.data,0.95),2),density_plot.thresholds.data,density_plot.empirical_composite_Z.data), color='orange',linewidth=3, linestyle='dashed')\n",
    "ax.axvline(np.interp(np.round(np.quantile(density_plot.A.data,0.95),2),density_plot.thresholds.data,density_plot.gaussian_composite_Z.data), color='white',linewidth=3, linestyle='dashed')\n",
    "\n",
    "ax.plot(density_plot.empirical_composite_Z.data, density_plot.thresholds.data, color='orange', linewidth=3,label=r'$C_\\mathcal{D}^j(a)$')\n",
    "ax.plot(density_plot.gaussian_composite_Z.data, density_plot.thresholds.data, color='white', linewidth=3,label=r'$C_\\mathcal{G}^j(a)$')\n",
    "\n",
    "xis = np.linspace(np.min(x), np.max(x), 3)\n",
    "\n",
    "\n",
    "ax.axhline(np.round(np.quantile(density_plot.A.data,0.95),2), color='red', linewidth=3,label=fr'$a={np.round(np.quantile(density_plot.A.data,0.95),2)} K$')\n",
    "ax.set_xlabel('$Z^j$',fontsize=font)\n",
    "# ax.set_ylabel('$A [K]$',fontsize=35)\n",
    "ax.set_xlim(-2.2,2.2)\n",
    "ax_histx.hist(x, bins=bins,density=True)\n",
    "ax_histx.plot(np.sort(x), stats.norm.pdf(np.sort(x), x.mean(), x.std()),linewidth=3,color='black')\n",
    "ax_histx.tick_params(axis=\"both\",labelsize=font)\n",
    "ax_histx.tick_params('x', labelbottom=False,labelsize=font)\n",
    "\n",
    "\n",
    "\n",
    "ax_histy.hist(y, bins=bins,density=True, orientation='horizontal')\n",
    "ax_histy.plot(stats.norm.pdf(np.sort(y), y.mean(), y.std()),np.sort(y),linewidth=3, color='black')\n",
    "ax_histy.tick_params(axis=\"both\",labelsize=font)\n",
    "ax_histy.tick_params('y', labelleft=False)\n",
    "\n",
    "\n",
    "\n",
    "ax.legend(fontsize=\"40\",loc='upper right')\n",
    "\n",
    "ax.tick_params(axis=\"both\", labelsize=font)\n",
    "# fig.savefig(f'{HOME}density_geop.pdf')"
   ]
  },
  {
   "cell_type": "code",
   "execution_count": null,
   "id": "6d58bcbb-23f0-48ed-be1d-a4a2c8127603",
   "metadata": {},
   "outputs": [],
   "source": [
    "#Left plot\n",
    "fig = plt.figure(figsize=(18, 24))\n",
    "font = 55\n",
    "gs = fig.add_gridspec(4, 2,width_ratios=(4, 1), height_ratios=(0.6,2.5,0.01,0.07),\n",
    "                      left=0.12, right=0.92, bottom=0.03, top=0.99,\n",
    "                      wspace=0.1, hspace=0.18)\n",
    "# Create the Axes.\n",
    "ax = fig.add_subplot(gs[1, 0])\n",
    "\n",
    "ax_histx = fig.add_subplot(gs[0, 0], sharex=ax)\n",
    "ax_histy = fig.add_subplot(gs[1, 1], sharey=ax)\n",
    "\n",
    "#Data\n",
    "x=density_plot.S_i.data\n",
    "y=density_plot.A.data\n",
    "bins=100\n",
    "\n",
    "#Plots\n",
    "h = ax.hist2d(x,y,bins=bins,density=True)\n",
    "\n",
    "#colorbar\n",
    "ax_color = fig.add_subplot(gs[3, 0])\n",
    "\n",
    "cb = fig.colorbar(h[3], cax=ax_color, location='bottom',orientation='horizontal',extend='both')\n",
    "cb.ax.tick_params(labelsize=50)\n",
    "\n",
    "#lines\n",
    "ax.axvline(np.interp(np.round(np.quantile(density_plot.A.data,0.95),2),density_plot.thresholds.data,density_plot.empirical_composite_S.data), color='orange',linewidth=3, linestyle='dashed')\n",
    "ax.axvline(np.interp(np.round(np.quantile(density_plot.A.data,0.95),2),density_plot.thresholds.data,density_plot.gaussian_composite_S.data), color='white',linewidth=3, linestyle='dashed')\n",
    "\n",
    "ax.plot(density_plot.empirical_composite_S.data, density_plot.thresholds.data, color='orange', linewidth=3,label=r'$C_\\mathcal{D}^i(a)$')\n",
    "ax.plot(density_plot.gaussian_composite_S.data, density_plot.thresholds.data, color='white', linewidth=3,label=r'$C_\\mathcal{G}^i(a)$')\n",
    "\n",
    "xis = np.linspace(np.min(x), np.max(x), 3)\n",
    "\n",
    "\n",
    "ax.axhline(np.round(np.quantile(density_plot.A.data,0.95),2), color='red', linewidth=3,label=fr'$a={np.round(np.quantile(density_plot.A.data,0.95),2)} K$')\n",
    "ax.set_xlabel('$S^i$',fontsize=font)\n",
    "ax.set_ylabel('$A [K]$',fontsize=font)\n",
    "ax.set_xlim(-2.2,2.2)\n",
    "ax_histx.hist(x, bins=bins,density=True)\n",
    "ax_histx.plot(np.sort(x), stats.norm.pdf(np.sort(x), x.mean(), x.std()),linewidth=3,color='black')\n",
    "ax_histx.tick_params(axis=\"both\",labelsize=font)\n",
    "ax_histx.tick_params('x', labelbottom=False,labelsize=font)\n",
    "\n",
    "\n",
    "\n",
    "ax_histy.hist(y, bins=bins,density=True, orientation='horizontal')\n",
    "ax_histy.plot(stats.norm.pdf(np.sort(y), y.mean(), y.std()),np.sort(y),linewidth=3, color='black')\n",
    "ax_histy.tick_params(axis=\"both\",labelsize=font)\n",
    "ax_histy.tick_params('y', labelleft=False)\n",
    "fig.delaxes(ax_histy)\n",
    "\n",
    "\n",
    "\n",
    "ax.legend(fontsize=\"40\",loc='upper right')\n",
    "\n",
    "ax.tick_params(axis=\"both\", labelsize=font)\n",
    "\n",
    "# fig.savefig(f'{HOME}density_soilmoist.pdf')"
   ]
  }
 ],
 "metadata": {
  "kernelspec": {
   "display_name": "Python 3",
   "language": "python",
   "name": "python3"
  },
  "language_info": {
   "codemirror_mode": {
    "name": "ipython",
    "version": 3
   },
   "file_extension": ".py",
   "mimetype": "text/x-python",
   "name": "python",
   "nbconvert_exporter": "python",
   "pygments_lexer": "ipython3",
   "version": "3.10.8"
  },
  "toc-autonumbering": true
 },
 "nbformat": 4,
 "nbformat_minor": 5
}
