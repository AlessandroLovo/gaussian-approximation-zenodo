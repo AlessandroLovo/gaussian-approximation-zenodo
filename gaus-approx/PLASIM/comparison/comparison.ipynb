{
 "cells": [
  {
   "cell_type": "markdown",
   "id": "78eb5dc6",
   "metadata": {},
   "source": [
    "# Comparison\n",
    "\n",
    "In this notebook we compare composite maps and optimal projection patterns for the PlaSim dataset"
   ]
  },
  {
   "cell_type": "code",
   "execution_count": null,
   "id": "33770263-d025-4edf-ab93-999d5dc79edd",
   "metadata": {},
   "outputs": [],
   "source": [
    "import numpy as np\n",
    "import matplotlib\n",
    "import matplotlib.pyplot as plt\n",
    "%matplotlib widget\n",
    "matplotlib.rc('font', size=18)\n",
    "default_colors = plt.rcParams['axes.prop_cycle'].by_key()['color']\n",
    "\n",
    "\n",
    "import pandas as pd\n",
    "import xarray as xr\n",
    "\n",
    "from tqdm.notebook import tqdm\n",
    "\n",
    "import sys\n",
    "sys.path.append('../../../Climate-Learning/')\n",
    "\n",
    "import general_purpose.utilities as ut\n",
    "import general_purpose.cartopy_plots as cplt\n",
    "import general_purpose.uplotlib as uplt\n",
    "import general_purpose.tables as tbl\n",
    "\n",
    "# log to stdout\n",
    "import logging\n",
    "logging.getLogger().level = logging.INFO\n",
    "logging.getLogger().handlers = [logging.StreamHandler(sys.stdout)]\n",
    "ut.indentation_sep = '  '\n",
    "\n",
    "HOME = '../../'"
   ]
  },
  {
   "cell_type": "code",
   "execution_count": null,
   "id": "93a8c097-cde3-4d38-8bcf-8b7fff87082a",
   "metadata": {},
   "outputs": [],
   "source": [
    "lon = np.load('../../lon.npy')\n",
    "lat = np.load('../../lat.npy')\n",
    "LON, LAT = np.meshgrid(lon, lat)"
   ]
  },
  {
   "cell_type": "markdown",
   "id": "13c8d9f2-0535-4142-9638-a53c70abe523",
   "metadata": {},
   "source": [
    "## Figure 7"
   ]
  },
  {
   "cell_type": "code",
   "execution_count": null,
   "id": "85a2bc14-3642-4651-83f6-62206f89c4ab",
   "metadata": {},
   "outputs": [],
   "source": [
    "mask = np.load('../mask.npy')\n",
    "reshaper = ut.Reshaper(mask)\n",
    "reshaper.surviving_coords"
   ]
  },
  {
   "cell_type": "markdown",
   "id": "d38e8f4f-8cfb-478a-bca0-e0606b2178a9",
   "metadata": {},
   "source": [
    "### Composites"
   ]
  },
  {
   "cell_type": "code",
   "execution_count": null,
   "id": "b5f3ece6-e9ff-40f2-a1a8-224a877deb2d",
   "metadata": {},
   "outputs": [],
   "source": [
    "ds = xr.open_dataset('../composites/composite_maps_percent5_y8000.nc')\n",
    "ds"
   ]
  },
  {
   "cell_type": "code",
   "execution_count": null,
   "id": "179d7e7b-876d-4dc8-b8f9-ed6bb7db63bb",
   "metadata": {},
   "outputs": [],
   "source": [
    "T = 14\n",
    "taus = [0,5,10]"
   ]
  },
  {
   "cell_type": "code",
   "execution_count": null,
   "id": "33310cf8-8492-4873-a2bb-b23705bcb458",
   "metadata": {},
   "outputs": [],
   "source": [
    "ga = ds.gaussian_composite.sel(T=T,tau=taus).data.reshape(len(taus),22,128,3)\n",
    "ga.shape"
   ]
  },
  {
   "cell_type": "code",
   "execution_count": null,
   "id": "805e470f-09fb-48c2-934c-70494040145a",
   "metadata": {},
   "outputs": [],
   "source": [
    "for i,tau in enumerate(taus):\n",
    "    axs = cplt.mfp(LON,LAT, ga[i,:], one_fig_layout=130,figsize=(15,5),mx = 0.80,fig_num=8+np.random.randint(0,50),titles=['Temperature', 'Geopotential', 'Soil moisture'], put_colorbar=False)\n",
    "    fig = axs[0].get_figure()\n",
    "    # fig.suptitle(fr'$\\tau = {tau}$')\n",
    "    # fig.savefig(f'{HOME}C_tau{tau}.pdf')"
   ]
  },
  {
   "cell_type": "code",
   "execution_count": null,
   "id": "9dfb7668-9e7e-4a2c-8727-12083901d6a0",
   "metadata": {},
   "outputs": [],
   "source": [
    "plt.close(1)\n",
    "fig = plt.figure(figsize=(10,1.1), num=1)\n",
    "for i in range(3):\n",
    "    ax = fig.add_subplot(131 + i)\n",
    "    plt.colorbar(axs[i], cax=ax, orientation='horizontal', extend='both')\n",
    "    # plt.xticks(rotation=45)\n",
    "    \n",
    "fig.tight_layout()\n",
    "# fig.savefig(f'{HOME}/C_colorbar.pdf')"
   ]
  },
  {
   "cell_type": "markdown",
   "id": "8423a220-b673-4c87-aed8-863a53cd8687",
   "metadata": {},
   "source": [
    "### Projection patterns"
   ]
  },
  {
   "cell_type": "code",
   "execution_count": null,
   "id": "c3e74d7f-27fc-4056-bea3-8087ac4758a1",
   "metadata": {},
   "outputs": [],
   "source": [
    "Ms = xr.open_dataarray('../committor/projection_patterns_T14_y8000_epsilon1_fold0.nc')\n",
    "Ms"
   ]
  },
  {
   "cell_type": "code",
   "execution_count": null,
   "id": "8fbded80-1cab-45f3-9814-ab6f02a37c33",
   "metadata": {},
   "outputs": [],
   "source": [
    "for i,tau in enumerate([0,5,10]):\n",
    "    proj = Ms.sel(tau=tau).data.squeeze()\n",
    "    axs = cplt.mfp(LON,LAT,reshaper.inv_reshape(proj), one_fig_layout=130, figsize=(12,5), fig_num=8+i,\n",
    "                   titles = None,\n",
    "                   mx = [6,2,20],\n",
    "                   put_colorbar=False,\n",
    "                  )\n",
    "    fig = axs[0].get_figure()\n",
    "    # fig.suptitle(fr'$\\tau = {tau}$')\n",
    "    # fig.savefig(f'{HOME}/M_tau{tau}.pdf')\n"
   ]
  },
  {
   "cell_type": "code",
   "execution_count": null,
   "id": "b3959dc7-977e-4b67-b554-6299486ae0c6",
   "metadata": {},
   "outputs": [],
   "source": [
    "plt.close(1)\n",
    "fig = plt.figure(figsize=(10,1.1), num=1)\n",
    "for i in range(3):\n",
    "    ax = fig.add_subplot(131 + i)\n",
    "    plt.colorbar(axs[i], cax=ax, orientation='horizontal', extend='both')\n",
    "    # plt.xticks(rotation=45)\n",
    "    \n",
    "fig.tight_layout()\n",
    "# fig.savefig(f'{HOME}/M_colorbar.pdf')"
   ]
  }
 ],
 "metadata": {
  "kernelspec": {
   "display_name": "pi",
   "language": "python",
   "name": "pi"
  },
  "language_info": {
   "codemirror_mode": {
    "name": "ipython",
    "version": 3
   },
   "file_extension": ".py",
   "mimetype": "text/x-python",
   "name": "python",
   "nbconvert_exporter": "python",
   "pygments_lexer": "ipython3",
   "version": "3.10.8"
  }
 },
 "nbformat": 4,
 "nbformat_minor": 5
}
