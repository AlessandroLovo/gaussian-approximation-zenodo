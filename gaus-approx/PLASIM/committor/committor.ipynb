{
 "cells": [
  {
   "cell_type": "markdown",
   "id": "a6a7c6ca",
   "metadata": {},
   "source": [
    "# Committor functions\n",
    "\n",
    "In this notebook we analyze the skills and optimal projection patterns of the Gaussian approximation applied to the PlaSim dataset"
   ]
  },
  {
   "cell_type": "code",
   "execution_count": null,
   "id": "a9efe3b9-f024-491b-9371-b41ce3367268",
   "metadata": {},
   "outputs": [],
   "source": [
    "import numpy as np\n",
    "import matplotlib\n",
    "import matplotlib.pyplot as plt\n",
    "%matplotlib widget\n",
    "matplotlib.rc('font', size=18)\n",
    "default_colors = plt.rcParams['axes.prop_cycle'].by_key()['color']\n",
    "\n",
    "\n",
    "import pandas as pd\n",
    "import xarray as xr\n",
    "from scipy import sparse\n",
    "\n",
    "from tqdm.notebook import tqdm\n",
    "\n",
    "import sys\n",
    "sys.path.append('../../../Climate-Learning/')\n",
    "\n",
    "import general_purpose.utilities as ut\n",
    "import general_purpose.cartopy_plots as cplt\n",
    "import general_purpose.uplotlib as uplt\n",
    "import general_purpose.tables as tbl\n",
    "\n",
    "# log to stdout\n",
    "import logging\n",
    "logging.getLogger().level = logging.INFO\n",
    "logging.getLogger().handlers = [logging.StreamHandler(sys.stdout)]\n",
    "ut.indentation_sep = '  '\n",
    "\n",
    "HOME = '../../'"
   ]
  },
  {
   "cell_type": "code",
   "execution_count": null,
   "id": "834e831c-2a6a-4895-82b9-3b2120e1f412",
   "metadata": {},
   "outputs": [],
   "source": [
    "lon = np.load('../../lon.npy')\n",
    "lat = np.load('../../lat.npy')\n",
    "LON, LAT = np.meshgrid(lon,lat)"
   ]
  },
  {
   "cell_type": "markdown",
   "id": "dd8b43f1-2e50-48f5-a687-603d5168414c",
   "metadata": {},
   "source": [
    "## Figure 5"
   ]
  },
  {
   "cell_type": "code",
   "execution_count": null,
   "id": "5c58653f-cbce-4149-aa52-07afd0ae14dd",
   "metadata": {},
   "outputs": [],
   "source": [
    "mask = np.load('../mask.npy')\n",
    "reshaper = ut.Reshaper(mask)\n",
    "W = sparse.load_npz('W.npz')\n",
    "mask.shape, reshaper.surviving_coords, W.shape"
   ]
  },
  {
   "cell_type": "code",
   "execution_count": null,
   "id": "4411c6ef-86dd-4bc8-8c63-be3fa1eb0406",
   "metadata": {},
   "outputs": [],
   "source": [
    "Ms = xr.open_dataarray('projection_patterns_T14_tau0_y8000_fold4.nc')\n",
    "Ms"
   ]
  },
  {
   "cell_type": "code",
   "execution_count": null,
   "id": "136e0553-90c1-4548-9902-c524b56db08a",
   "metadata": {},
   "outputs": [],
   "source": [
    "ss = xr.open_dataset('Skill_T14_tau0_percent5.nc')['skill_GA'].sel(years=Ms['years'], fold=Ms['fold'])\n",
    "ss"
   ]
  },
  {
   "cell_type": "code",
   "execution_count": null,
   "id": "0e587c23-a907-4ced-9a64-148697e5d5f2",
   "metadata": {},
   "outputs": [],
   "source": [
    "sel = ss.sel(reg_c=[1e-7,1,1e2])\n",
    "\n",
    "# sel = ds.sel(T=14, tau=10, years=8000,\n",
    "#              reg_c = [0.1,1,10,]\n",
    "#             )\n",
    "\n",
    "S = r'\\mathcal{S}'\n",
    "\n",
    "pretits = ['Too low', 'Right amount of', 'Too high']\n",
    "\n",
    "for i,epsilon in enumerate(sel['reg_c'].data):\n",
    "    proj = Ms.sel(reg_c=epsilon).data.squeeze()\n",
    "    fig = cplt.mfp(LON,LAT,reshaper.inv_reshape(proj), one_fig_layout=130, figsize=(15,5), fig_num=8+i,\n",
    "                   titles=['Temperature', 'Geopotential', 'Soil moisture'],\n",
    "                  )[0].get_figure()\n",
    "    \n",
    "    eps = '10^{%d}' %np.log10(epsilon)\n",
    "    h2 = proj @ W @ proj\n",
    "    fig.suptitle(fr\"{pretits[i]} regularization: $\\epsilon = {eps}$, $\\sqrt{{H_2}} = {np.sqrt(h2):.0f}$, ${S} = {sel.sel(reg_c=epsilon).data.item():.3f}${' '*25}\")\n",
    "    # fig.tight_layout()\n",
    "    \n",
    "    # fig.savefig(f'{HOME}/M_eps1e{exp:.0f}.pdf')"
   ]
  },
  {
   "cell_type": "markdown",
   "id": "d6a0cae7-dccd-4db6-ac54-10b9002c3bdb",
   "metadata": {},
   "source": [
    "## Table 1"
   ]
  },
  {
   "cell_type": "code",
   "execution_count": null,
   "id": "966af7cc-54ac-49a0-b1db-8bb281e5eab8",
   "metadata": {},
   "outputs": [],
   "source": [
    "ds = xr.open_dataset('Skill_T14_tau0_percent5.nc')\n",
    "ds"
   ]
  },
  {
   "cell_type": "code",
   "execution_count": null,
   "id": "0aa84f5a-c142-4735-a67e-0da27b91e6a6",
   "metadata": {},
   "outputs": [],
   "source": [
    "years = [8000, 4000, 2000, 1000, 500,200]\n",
    "reg_c=[1e-2,1e-1,1,10,100]\n",
    "\n",
    "dsm = ds.mean('fold').sel(years=years, reg_c=reg_c)\n",
    "dsm"
   ]
  },
  {
   "cell_type": "code",
   "execution_count": null,
   "id": "af0575bf-776e-435b-bbad-d75857a5b53c",
   "metadata": {},
   "outputs": [],
   "source": [
    "eps = [r'$10^{%d}$' %np.log10(e) for e in reg_c]\n",
    "yr = tbl.frmt(0.9*dsm['years'].data, 0)\n",
    "xlabel=r'$\\epsilon$'\n",
    "ylabel='years of training'\n",
    "\n",
    "tbl.table(dsm['skill_GA'].data.T, eps, yr,\n",
    "          cmap=plt.cm.summer,\n",
    "          xlabel=xlabel,\n",
    "          ylabel=ylabel,\n",
    "          title='Normalized log score',\n",
    "          text_digits=2)\n",
    "\n",
    "vals = 1 - dsm['skill_GA']/dsm['skill_CNN']\n",
    "tit = r'$1 - \\mathcal{S}/\\mathcal{S}_{CNN}$'\n",
    "\n",
    "mx = np.nanmax(np.abs(vals))*1.1\n",
    "print(mx)\n",
    "norm = matplotlib.colors.TwoSlopeNorm(0, -mx, mx)\n",
    "\n",
    "tbl.table(vals.data.T, eps, yr,\n",
    "          norm=norm, cmap=plt.cm.BrBG_r,\n",
    "          xlabel=xlabel,\n",
    "          ylabel=ylabel,\n",
    "          text_digits=2,\n",
    "          title=tit)\n",
    "\n",
    "_ = None"
   ]
  },
  {
   "cell_type": "markdown",
   "id": "57cb261c-1977-4df1-b525-54cfef8bb0c5",
   "metadata": {},
   "source": [
    "### Table 1a (tex)"
   ]
  },
  {
   "cell_type": "code",
   "execution_count": null,
   "id": "65fba12e-cde1-41a4-9fcb-7f8d4ece5966",
   "metadata": {},
   "outputs": [],
   "source": [
    "_ = tbl.tex_table(dsm['skill_GA'].data.T, eps, yr,\n",
    "                  cmap=plt.cm.summer,\n",
    "                  xlabel=xlabel,\n",
    "                  ylabel=ylabel,\n",
    "                  title='Normalized log score',\n",
    "                  text_digits=2,\n",
    "                  close_left=False\n",
    "                 )\n",
    "print(_)"
   ]
  },
  {
   "cell_type": "markdown",
   "id": "9fffabd9-1445-43fe-9c4d-79ed6236eddf",
   "metadata": {},
   "source": [
    "### Table 1b (tex)"
   ]
  },
  {
   "cell_type": "code",
   "execution_count": null,
   "id": "b8a37826-45d9-42fd-b00e-b6aa6a11977f",
   "metadata": {},
   "outputs": [],
   "source": [
    "_ = tbl.tex_table(vals.data.T,\n",
    "                  eps, \n",
    "                  [' ']*len(yr),\n",
    "                  norm=norm, cmap=plt.cm.BrBG_r,\n",
    "                  xlabel=xlabel,\n",
    "                  ylabel=None,\n",
    "                  text_digits=2,\n",
    "                  close_left=False,\n",
    "                  title=tit)\n",
    "print(_)"
   ]
  },
  {
   "cell_type": "markdown",
   "id": "79c860b0-a1ca-41a8-8a18-8a49df073dc5",
   "metadata": {},
   "source": [
    "## Figure 6"
   ]
  },
  {
   "cell_type": "code",
   "execution_count": null,
   "id": "db869d93-a13f-4352-a3af-813faba46522",
   "metadata": {},
   "outputs": [],
   "source": [
    "ds_GA = xr.open_dataset('Skill-GA_T14_tau0_y8000.nc')\n",
    "ds_GA"
   ]
  },
  {
   "cell_type": "code",
   "execution_count": null,
   "id": "043c33f2-aa2e-4807-9a74-93eceb1e11b5",
   "metadata": {},
   "outputs": [],
   "source": [
    "ds_CNN = xr.open_dataset('Skill-CNN_T14_tau0_y8000.nc')\n",
    "ds_CNN"
   ]
  },
  {
   "cell_type": "code",
   "execution_count": null,
   "id": "4137cd3b-fe87-44e2-b51e-3ddf7ff8b1b5",
   "metadata": {},
   "outputs": [],
   "source": [
    "def percent2a(p):\n",
    "    return np.interp(p, ds_GA['percent'].data, ds_GA['a'].data.squeeze())"
   ]
  },
  {
   "cell_type": "code",
   "execution_count": null,
   "id": "36fdd9f0-a5f6-4220-96e6-a1ac522139f7",
   "metadata": {},
   "outputs": [],
   "source": [
    "plt.close(6)\n",
    "fig,ax = plt.subplots(num=6,figsize=(9,6))\n",
    "\n",
    "uplt.errorband(ds_GA['a'].data.squeeze(), uplt.xr_avg(ds_GA['skill'], 'fold').data.squeeze(), marker=None, label='GA')\n",
    "uplt.errorband(percent2a(ds_CNN['percent'].data), uplt.xr_avg(ds_CNN['skill'], 'fold').data.squeeze(), label='CNN', color='gray')\n",
    "\n",
    "# plt.axhline(0, color='black', linestyle='dashed', label='climatology')\n",
    "\n",
    "\n",
    "plt.legend(loc='lower left')\n",
    "plt.xlabel(r'$a$ [K]')\n",
    "plt.ylabel('Normalized log score')\n",
    "# plt.title(fr'${T = }, \\tau = {tau}, y = {years}$')\n",
    "\n",
    "ax2 = ax.secondary_xaxis('top')\n",
    "pticks = np.array([5,1,0.2])\n",
    "ax2.set_xticks(percent2a(pticks))\n",
    "ax2.set_xticklabels(pticks)\n",
    "ax2.set_xlabel(r'$p$ [%]')\n",
    "\n",
    "fig.tight_layout()\n",
    "\n",
    "# fig.savefig(f'{HOME}/Svpercent.pdf')"
   ]
  },
  {
   "cell_type": "markdown",
   "id": "cb008525-bb61-4073-976d-1dfa16201909",
   "metadata": {},
   "source": [
    "## Table 4"
   ]
  },
  {
   "cell_type": "code",
   "execution_count": null,
   "id": "78968251-da0f-4caf-89ff-af385edf5f3e",
   "metadata": {},
   "outputs": [],
   "source": [
    "ds = xr.open_dataset('Skill_percent5_y8000_epsilon1.nc')\n",
    "ds"
   ]
  },
  {
   "cell_type": "code",
   "execution_count": null,
   "id": "e8a52493-279b-4639-8668-0e6f6fe7495c",
   "metadata": {},
   "outputs": [],
   "source": [
    "T = [1,7,14,30]\n",
    "tau = [0,5,10,15,20,30]\n",
    "\n",
    "dsm = ds.sel(T=T,tau=tau).mean('fold')\n",
    "dsm"
   ]
  },
  {
   "cell_type": "code",
   "execution_count": null,
   "id": "f6a5b7fe-2546-4a8c-8e35-529a296232a4",
   "metadata": {},
   "outputs": [],
   "source": [
    "xlabel = r'$\\tau$ [days]'\n",
    "ylabel = r'$T$ [days]'\n",
    "\n",
    "tbl.table(dsm['skill_GA'].data, dsm['tau'].data, dsm['T'].data,\n",
    "          cmap=plt.cm.summer, vmax=0.6,\n",
    "          xlabel=xlabel, ylabel=ylabel, title='Normalized log score',\n",
    "         )\n",
    "\n",
    "vals = 1 - dsm['skill_GA']/dsm['skill_CNN']\n",
    "\n",
    "mx = np.nanmax(np.abs(vals))*1.1\n",
    "print(mx)\n",
    "norm = matplotlib.colors.TwoSlopeNorm(0, -mx, mx)\n",
    "\n",
    "tbl.table(vals.data, dsm['tau'].data, dsm['T'].data,\n",
    "          norm=norm, cmap=plt.cm.BrBG_r,\n",
    "          xlabel=xlabel, ylabel=ylabel, title=r'$1 - \\mathcal{S}/\\mathcal{S}_{CNN}$',\n",
    "         )\n",
    "\n",
    "_ = None"
   ]
  },
  {
   "cell_type": "markdown",
   "id": "f069a205-3d4d-414c-ac06-43f4aaeed952",
   "metadata": {},
   "source": [
    "### Table 4a (tex)"
   ]
  },
  {
   "cell_type": "code",
   "execution_count": null,
   "id": "63f6245d-8038-41fc-94b0-c6636071b008",
   "metadata": {},
   "outputs": [],
   "source": [
    "_ = tbl.tex_table(dsm['skill_GA'].data, dsm['tau'].data, dsm['T'].data,\n",
    "                  cmap=plt.cm.summer, vmax=0.6,\n",
    "                  xlabel=xlabel,\n",
    "                  ylabel=ylabel,\n",
    "                  title='norm log score',\n",
    "                  close_left=False)\n",
    "print(_)"
   ]
  },
  {
   "cell_type": "markdown",
   "id": "d14f4e24-cba2-4d67-a1ad-24fef749b525",
   "metadata": {},
   "source": [
    "### Table 4b (tex)"
   ]
  },
  {
   "cell_type": "code",
   "execution_count": null,
   "id": "e50b4b6b-156e-4b07-9351-bd333051610c",
   "metadata": {},
   "outputs": [],
   "source": [
    "_ = tbl.tex_table(vals.data, dsm['tau'].data, [' ']*len(dsm['T']),\n",
    "                  norm=norm, cmap=plt.cm.BrBG_r,\n",
    "                  xlabel=xlabel,\n",
    "                  ylabel=None,\n",
    "                  title=r'$1 - \\mathcal{S}/\\mathcal{S}_{CNN}$',\n",
    "                  close_left=False\n",
    "                 )\n",
    "print(_)"
   ]
  },
  {
   "cell_type": "markdown",
   "id": "435bc276-2459-4e32-afd9-3e477df5e813",
   "metadata": {},
   "source": [
    "## Table 6"
   ]
  },
  {
   "cell_type": "code",
   "execution_count": null,
   "id": "095e10bc-e7f2-4f2a-b9fd-9cc4662033e7",
   "metadata": {},
   "outputs": [],
   "source": [
    "ds = xr.open_dataset('Skill-GA_T14_tau0_y8000.nc')['skill']\n",
    "ds"
   ]
  },
  {
   "cell_type": "code",
   "execution_count": null,
   "id": "eeefd294-c16e-4c65-9630-1cf5d99a6dbe",
   "metadata": {},
   "outputs": [],
   "source": [
    "ds_Z = xr.open_dataarray('Skill-GA_T14_tau0_percent5_y8000_epsilon1-Z.nc')\n",
    "ds_Z"
   ]
  },
  {
   "cell_type": "code",
   "execution_count": null,
   "id": "ff88248f-1ab1-4f17-8aad-d2c46170e138",
   "metadata": {},
   "outputs": [],
   "source": [
    "ds_80 = xr.open_dataarray('Skill-GA_percent5_y80_epsilonbest.nc')\n",
    "ds_80"
   ]
  },
  {
   "cell_type": "code",
   "execution_count": null,
   "id": "70de2f17-5eef-4ed1-9ea1-58c09d1c0d00",
   "metadata": {},
   "outputs": [],
   "source": [
    "ds_80Z = xr.open_dataarray('Skill-GA_percent5_y80_epsilonbest-Z.nc')\n",
    "ds_80Z"
   ]
  },
  {
   "cell_type": "code",
   "execution_count": null,
   "id": "19665adc-c932-4c9e-8017-60383c9a7dc2",
   "metadata": {},
   "outputs": [],
   "source": [
    "s = uplt.xr_avg(ds.sel(percent=5), 'fold').data.item()\n",
    "s_Z = uplt.xr_avg(ds_Z, 'fold').data.item()\n",
    "s_80 = uplt.xr_avg(ds_80.sel(T=14,tau=0), 'fold').data.item()\n",
    "s_80Z = uplt.xr_avg(ds_80Z.sel(T=14,tau=0), 'fold').data.item()"
   ]
  },
  {
   "cell_type": "code",
   "execution_count": null,
   "id": "65d2c145-1eb8-4231-a948-e2f063a5653e",
   "metadata": {},
   "outputs": [],
   "source": [
    "tb = r'''\n",
    "\\begin{tabular}{c|cc}\n",
    "    & \\multicolumn{2}{c}{Predictor fields} \\\\\n",
    "    years of data &  $T_\\mathrm{2m}, Z, S$ & $Z$ \\\\\n",
    "    \\hline\n",
    "    8000 & %s & %s \\\\\n",
    "    80 & %s & %s\n",
    "\\end{tabular}\n",
    "''' % tuple([f'${u:uL}$' for u in (s, s_Z, s_80, s_80Z)])\n",
    "\n",
    "print(tb)"
   ]
  }
 ],
 "metadata": {
  "kernelspec": {
   "display_name": "ink",
   "language": "python",
   "name": "ink"
  },
  "language_info": {
   "codemirror_mode": {
    "name": "ipython",
    "version": 3
   },
   "file_extension": ".py",
   "mimetype": "text/x-python",
   "name": "python",
   "nbconvert_exporter": "python",
   "pygments_lexer": "ipython3",
   "version": "3.10.8"
  }
 },
 "nbformat": 4,
 "nbformat_minor": 5
}
